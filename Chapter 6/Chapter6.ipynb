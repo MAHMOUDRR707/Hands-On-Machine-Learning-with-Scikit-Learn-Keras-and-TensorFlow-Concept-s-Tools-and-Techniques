{
  "nbformat": 4,
  "nbformat_minor": 0,
  "metadata": {
    "colab": {
      "name": "Chapter6.ipynb",
      "provenance": []
    },
    "kernelspec": {
      "name": "python3",
      "display_name": "Python 3"
    },
    "language_info": {
      "name": "python"
    }
  },
  "cells": [
    {
      "cell_type": "markdown",
      "metadata": {
        "id": "Kb911tie6DQo"
      },
      "source": [
        "# 1.What is the approximate depth of a Decision Tree trained (without restrictions) on a training set with 1 million instances?\n",
        "\n",
        "\n",
        "The depth of a well-balanced binary tree containing m leaves is equal to log2(m)  == 20\n",
        "\n",
        "\n",
        "# 2. Is a node’s Gini impurity generally lower or greater than its parent’s? Is it generally lower/greater, or always lower/greater?\n",
        "\n",
        "A node's Gini impurity is generally lower than its parent's. This is ensured by the CART training algorithm's cost function, which splits each node in a way that minimizes the weighted sum of its children's Gini impurities. However, if one child is smaller than the other, it is possible for it to have a higher Gini impurity than its parent, as long as this increase is more than compensated for by a\n",
        "decrease of the other child's impurity.\n",
        "\n",
        "\n",
        "\n",
        "# 3. If a Decision Tree is overfitting the training set, is it a good idea to try decreasing max_depth?\n",
        "\n",
        "yes it is\n",
        "\n",
        "# 4. If a Decision Tree is underfitting the training set, is it a good idea to try scaling the input features\n",
        "\n",
        "yes it is\n",
        "\n",
        "\n",
        "# 5 . If it takes one hour to train a Decision Tree on a training set containing 1 million instances, roughly how much time will it take to train another Decision Tree on a training set containing 10 million instances?\n",
        "\n",
        "to compute =  (10-1) * log(10 M)/Log(1 M)\n",
        "11.7 hours.\n",
        "\n",
        "# 6. If your training set contains 100,000 instances, will setting presort=True speed up training?\n",
        "\n",
        "Presorting the training set speeds up raining only if the dataset is smaller than a few thousand instances. If it contains 100,000 instances, setting presort=True will considerably slow down training.\n",
        "\n",
        "\n"
      ]
    }
  ]
}