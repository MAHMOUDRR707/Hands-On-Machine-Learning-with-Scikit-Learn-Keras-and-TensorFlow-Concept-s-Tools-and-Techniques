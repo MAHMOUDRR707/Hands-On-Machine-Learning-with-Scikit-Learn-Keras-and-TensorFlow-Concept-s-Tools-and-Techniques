{
  "cells": [
    {
      "cell_type": "markdown",
      "metadata": {
        "id": "ZnZB81d3PTLf"
      },
      "source": [
        "**Chapter 19 – Training and Deploying TensorFlow Models at Scale**"
      ]
    },
    {
      "cell_type": "markdown",
      "metadata": {
        "id": "v8WMV6HnPTLq"
      },
      "source": [
        "_This notebook contains all the sample code and solutions to the exercises in chapter 19._"
      ]
    },
    {
      "cell_type": "markdown",
      "metadata": {
        "id": "S-oEvnbNPTLs"
      },
      "source": [
        "<table align=\"left\">\n",
        "  <td>\n",
        "    <a href=\"https://colab.research.google.com/github/ageron/handson-ml3/blob/main/19_training_and_deploying_at_scale.ipynb\" target=\"_parent\"><img src=\"https://colab.research.google.com/assets/colab-badge.svg\" alt=\"Open In Colab\"/></a>\n",
        "  </td>\n",
        "  <td>\n",
        "    <a target=\"_blank\" href=\"https://kaggle.com/kernels/welcome?src=https://github.com/ageron/handson-ml3/blob/main/19_training_and_deploying_at_scale.ipynb\"><img src=\"https://kaggle.com/static/images/open-in-kaggle.svg\" /></a>\n",
        "  </td>\n",
        "</table>"
      ]
    },
    {
      "cell_type": "markdown",
      "metadata": {
        "id": "dFXIv9qNpKzt",
        "tags": []
      },
      "source": [
        "# Setup"
      ]
    },
    {
      "cell_type": "markdown",
      "metadata": {
        "id": "8IPbJEmZpKzu"
      },
      "source": [
        "This project requires Python 3.7 or above:"
      ]
    },
    {
      "cell_type": "code",
      "execution_count": 2,
      "metadata": {
        "id": "TFSU3FCOpKzu"
      },
      "outputs": [],
      "source": [
        "import sys\n",
        "\n",
        "assert sys.version_info >= (3, 7)"
      ]
    },
    {
      "cell_type": "markdown",
      "metadata": {
        "id": "GJtVEqxfpKzw"
      },
      "source": [
        "And TensorFlow ≥ 2.8:"
      ]
    },
    {
      "cell_type": "code",
      "execution_count": 3,
      "metadata": {
        "id": "0Piq5se2pKzx"
      },
      "outputs": [],
      "source": [
        "from packaging import version\n",
        "import tensorflow as tf\n",
        "\n",
        "assert version.parse(tf.__version__) >= version.parse(\"2.8.0\")"
      ]
    },
    {
      "cell_type": "markdown",
      "metadata": {
        "id": "8YYYdAiVPTL0"
      },
      "source": [
        "If running on Colab or Kaggle, you need to install the Google AI Platform client library, which will be used later in this notebook. You can ignore the warnings about version incompatibilities.\n",
        "\n",
        "* **Warning**: On Colab, you must restart the Runtime after the installation, and continue with the next cells."
      ]
    },
    {
      "cell_type": "code",
      "execution_count": 4,
      "metadata": {
        "id": "43XP1R27PTL1"
      },
      "outputs": [],
      "source": [
        "import sys\n",
        "if \"google.colab\" in sys.modules or \"kaggle_secrets\" in sys.modules:\n",
        "    %pip install -q -U google-cloud-aiplatform"
      ]
    },
    {
      "cell_type": "markdown",
      "metadata": {
        "id": "YTsawKlapKzy"
      },
      "source": [
        "This chapter discusses how to run or train a model on one or more GPUs, so let's make sure there's at least one, or else issue a warning:"
      ]
    },
    {
      "cell_type": "code",
      "execution_count": 5,
      "metadata": {
        "id": "Ekxzo6pOpKzy",
        "outputId": "48318e9e-7a76-4b94-d378-42dc1c4b40bd",
        "colab": {
          "base_uri": "https://localhost:8080/"
        }
      },
      "outputs": [
        {
          "output_type": "stream",
          "name": "stdout",
          "text": [
            "No GPU was detected. Neural nets can be very slow without a GPU.\n",
            "Go to Runtime > Change runtime and select a GPU hardware accelerator.\n"
          ]
        }
      ],
      "source": [
        "if not tf.config.list_physical_devices('GPU'):\n",
        "    print(\"No GPU was detected. Neural nets can be very slow without a GPU.\")\n",
        "    if \"google.colab\" in sys.modules:\n",
        "        print(\"Go to Runtime > Change runtime and select a GPU hardware \"\n",
        "              \"accelerator.\")\n",
        "    if \"kaggle_secrets\" in sys.modules:\n",
        "        print(\"Go to Settings > Accelerator and select GPU.\")"
      ]
    },
    {
      "cell_type": "markdown",
      "metadata": {
        "id": "WRh9LXkCPTL5"
      },
      "source": [
        "# Serving a TensorFlow Model"
      ]
    },
    {
      "cell_type": "markdown",
      "metadata": {
        "id": "FyFPo-XDPTL5"
      },
      "source": [
        "Let's start by deploying a model using TF Serving, then we'll deploy to Google Vertex AI."
      ]
    },
    {
      "cell_type": "markdown",
      "metadata": {
        "id": "w8cGSsxQPTL6"
      },
      "source": [
        "## Using TensorFlow Serving"
      ]
    },
    {
      "cell_type": "markdown",
      "metadata": {
        "id": "NaEeiIQnPTL6"
      },
      "source": [
        "The first thing we need to do is to build and train a model, and export it to the SavedModel format."
      ]
    },
    {
      "cell_type": "markdown",
      "metadata": {
        "id": "QChaYoMZPTL7"
      },
      "source": [
        "### Exporting SavedModels"
      ]
    },
    {
      "cell_type": "markdown",
      "metadata": {
        "id": "fBgPpXa_PTL8"
      },
      "source": [
        "Let's load the MNIST dataset, scale it, and split it."
      ]
    },
    {
      "cell_type": "code",
      "execution_count": 6,
      "metadata": {
        "id": "QGaVU2XlPTL9",
        "outputId": "5c946101-f97c-42d7-f4c7-baa2dec8ad04",
        "colab": {
          "base_uri": "https://localhost:8080/"
        }
      },
      "outputs": [
        {
          "output_type": "stream",
          "name": "stdout",
          "text": [
            "Epoch 1/10\n",
            "1719/1719 [==============================] - 8s 4ms/step - loss: 0.6715 - accuracy: 0.8265 - val_loss: 0.3653 - val_accuracy: 0.9000\n",
            "Epoch 2/10\n",
            "1719/1719 [==============================] - 10s 6ms/step - loss: 0.3512 - accuracy: 0.9020 - val_loss: 0.2981 - val_accuracy: 0.9168\n",
            "Epoch 3/10\n",
            "1719/1719 [==============================] - 10s 6ms/step - loss: 0.3030 - accuracy: 0.9147 - val_loss: 0.2645 - val_accuracy: 0.9272\n",
            "Epoch 4/10\n",
            "1719/1719 [==============================] - 10s 6ms/step - loss: 0.2732 - accuracy: 0.9227 - val_loss: 0.2434 - val_accuracy: 0.9348\n",
            "Epoch 5/10\n",
            "1719/1719 [==============================] - 9s 5ms/step - loss: 0.2508 - accuracy: 0.9294 - val_loss: 0.2253 - val_accuracy: 0.9388\n",
            "Epoch 6/10\n",
            "1719/1719 [==============================] - 5s 3ms/step - loss: 0.2324 - accuracy: 0.9343 - val_loss: 0.2117 - val_accuracy: 0.9410\n",
            "Epoch 7/10\n",
            "1719/1719 [==============================] - 5s 3ms/step - loss: 0.2167 - accuracy: 0.9386 - val_loss: 0.1970 - val_accuracy: 0.9448\n",
            "Epoch 8/10\n",
            "1719/1719 [==============================] - 6s 3ms/step - loss: 0.2030 - accuracy: 0.9430 - val_loss: 0.1878 - val_accuracy: 0.9480\n",
            "Epoch 9/10\n",
            "1719/1719 [==============================] - 7s 4ms/step - loss: 0.1910 - accuracy: 0.9462 - val_loss: 0.1782 - val_accuracy: 0.9510\n",
            "Epoch 10/10\n",
            "1719/1719 [==============================] - 5s 3ms/step - loss: 0.1807 - accuracy: 0.9489 - val_loss: 0.1685 - val_accuracy: 0.9546\n"
          ]
        },
        {
          "output_type": "stream",
          "name": "stderr",
          "text": [
            "WARNING:absl:Found untraced functions such as _update_step_xla while saving (showing 1 of 1). These functions will not be directly callable after loading.\n"
          ]
        }
      ],
      "source": [
        "from pathlib import Path\n",
        "import tensorflow as tf\n",
        "\n",
        "# extra code – load and split the MNIST dataset\n",
        "mnist = tf.keras.datasets.mnist.load_data()\n",
        "(X_train_full, y_train_full), (X_test, y_test) = mnist\n",
        "X_valid, X_train = X_train_full[:5000], X_train_full[5000:]\n",
        "y_valid, y_train = y_train_full[:5000], y_train_full[5000:]\n",
        "\n",
        "# extra code – build & train an MNIST model (also handles image preprocessing)\n",
        "tf.random.set_seed(42)\n",
        "tf.keras.backend.clear_session()\n",
        "model = tf.keras.Sequential([\n",
        "    tf.keras.layers.Flatten(input_shape=[28, 28], dtype=tf.uint8),\n",
        "    tf.keras.layers.Rescaling(scale=1 / 255),\n",
        "    tf.keras.layers.Dense(100, activation=\"relu\"),\n",
        "    tf.keras.layers.Dense(10, activation=\"softmax\")\n",
        "])\n",
        "model.compile(loss=\"sparse_categorical_crossentropy\",\n",
        "              optimizer=tf.keras.optimizers.SGD(learning_rate=1e-2),\n",
        "              metrics=[\"accuracy\"])\n",
        "model.fit(X_train, y_train, epochs=10, validation_data=(X_valid, y_valid))\n",
        "\n",
        "model_name = \"my_mnist_model\"\n",
        "model_version = \"0001\"\n",
        "model_path = Path(model_name) / model_version\n",
        "model.save(model_path, save_format=\"tf\")"
      ]
    },
    {
      "cell_type": "markdown",
      "metadata": {
        "id": "V5bruPJiPTL_"
      },
      "source": [
        "Let's take a look at the file tree (we've discussed what each of these file is used for in chapter 10):"
      ]
    },
    {
      "cell_type": "code",
      "execution_count": 7,
      "metadata": {
        "id": "9LkqEXy9PTL_",
        "outputId": "c3b4a782-6337-4d8d-d422-862f512e457c",
        "colab": {
          "base_uri": "https://localhost:8080/"
        }
      },
      "outputs": [
        {
          "output_type": "execute_result",
          "data": {
            "text/plain": [
              "['my_mnist_model/0001',\n",
              " 'my_mnist_model/0001/assets',\n",
              " 'my_mnist_model/0001/fingerprint.pb',\n",
              " 'my_mnist_model/0001/keras_metadata.pb',\n",
              " 'my_mnist_model/0001/saved_model.pb',\n",
              " 'my_mnist_model/0001/variables',\n",
              " 'my_mnist_model/0001/variables/variables.data-00000-of-00001',\n",
              " 'my_mnist_model/0001/variables/variables.index',\n",
              " 'my_mnist_model/0002',\n",
              " 'my_mnist_model/0002/assets',\n",
              " 'my_mnist_model/0002/keras_metadata.pb',\n",
              " 'my_mnist_model/0002/saved_model.pb',\n",
              " 'my_mnist_model/0002/variables',\n",
              " 'my_mnist_model/0002/variables/variables.data-00000-of-00001',\n",
              " 'my_mnist_model/0002/variables/variables.index']"
            ]
          },
          "metadata": {},
          "execution_count": 7
        }
      ],
      "source": [
        "sorted([str(path) for path in model_path.parent.glob(\"**/*\")])  # extra code"
      ]
    },
    {
      "cell_type": "markdown",
      "metadata": {
        "id": "8k6O1FE-PTMA"
      },
      "source": [
        "Let's inspect the SavedModel:"
      ]
    },
    {
      "cell_type": "code",
      "execution_count": 8,
      "metadata": {
        "id": "wdQ1LxqbPTMB",
        "outputId": "b1a3cb0b-f899-4619-a931-908e8af6aae3",
        "colab": {
          "base_uri": "https://localhost:8080/"
        }
      },
      "outputs": [
        {
          "output_type": "stream",
          "name": "stdout",
          "text": [
            "2022-12-25 12:55:46.557496: W tensorflow/compiler/xla/stream_executor/platform/default/dso_loader.cc:64] Could not load dynamic library 'libnvinfer.so.7'; dlerror: libnvinfer.so.7: cannot open shared object file: No such file or directory; LD_LIBRARY_PATH: /usr/local/nvidia/lib:/usr/local/nvidia/lib64\n",
            "2022-12-25 12:55:46.557630: W tensorflow/compiler/xla/stream_executor/platform/default/dso_loader.cc:64] Could not load dynamic library 'libnvinfer_plugin.so.7'; dlerror: libnvinfer_plugin.so.7: cannot open shared object file: No such file or directory; LD_LIBRARY_PATH: /usr/local/nvidia/lib:/usr/local/nvidia/lib64\n",
            "2022-12-25 12:55:46.557654: W tensorflow/compiler/tf2tensorrt/utils/py_utils.cc:38] TF-TRT Warning: Cannot dlopen some TensorRT libraries. If you would like to use Nvidia GPU with TensorRT, please make sure the missing libraries mentioned above are installed properly.\n",
            "The given SavedModel contains the following tag-sets:\n",
            "'serve'\n"
          ]
        }
      ],
      "source": [
        "!saved_model_cli show --dir '{model_path}'"
      ]
    },
    {
      "cell_type": "code",
      "execution_count": 9,
      "metadata": {
        "id": "dV0Ju2K3PTMB",
        "outputId": "c4baf07a-52f2-43c5-b098-dd531d89ff56",
        "colab": {
          "base_uri": "https://localhost:8080/"
        }
      },
      "outputs": [
        {
          "output_type": "stream",
          "name": "stdout",
          "text": [
            "2022-12-25 12:55:52.170645: W tensorflow/compiler/xla/stream_executor/platform/default/dso_loader.cc:64] Could not load dynamic library 'libnvinfer.so.7'; dlerror: libnvinfer.so.7: cannot open shared object file: No such file or directory; LD_LIBRARY_PATH: /usr/local/nvidia/lib:/usr/local/nvidia/lib64\n",
            "2022-12-25 12:55:52.170815: W tensorflow/compiler/xla/stream_executor/platform/default/dso_loader.cc:64] Could not load dynamic library 'libnvinfer_plugin.so.7'; dlerror: libnvinfer_plugin.so.7: cannot open shared object file: No such file or directory; LD_LIBRARY_PATH: /usr/local/nvidia/lib:/usr/local/nvidia/lib64\n",
            "2022-12-25 12:55:52.170843: W tensorflow/compiler/tf2tensorrt/utils/py_utils.cc:38] TF-TRT Warning: Cannot dlopen some TensorRT libraries. If you would like to use Nvidia GPU with TensorRT, please make sure the missing libraries mentioned above are installed properly.\n",
            "The given SavedModel MetaGraphDef contains SignatureDefs with the following keys:\n",
            "SignatureDef key: \"__saved_model_init_op\"\n",
            "SignatureDef key: \"serving_default\"\n"
          ]
        }
      ],
      "source": [
        "!saved_model_cli show --dir '{model_path}' --tag_set serve"
      ]
    },
    {
      "cell_type": "code",
      "execution_count": 10,
      "metadata": {
        "id": "NgjN-nqbPTMC",
        "outputId": "16959aec-f6a7-40ba-ba99-ef0f37496563",
        "colab": {
          "base_uri": "https://localhost:8080/"
        }
      },
      "outputs": [
        {
          "output_type": "stream",
          "name": "stdout",
          "text": [
            "2022-12-25 12:55:59.099557: W tensorflow/compiler/xla/stream_executor/platform/default/dso_loader.cc:64] Could not load dynamic library 'libnvinfer.so.7'; dlerror: libnvinfer.so.7: cannot open shared object file: No such file or directory; LD_LIBRARY_PATH: /usr/local/nvidia/lib:/usr/local/nvidia/lib64\n",
            "2022-12-25 12:55:59.099762: W tensorflow/compiler/xla/stream_executor/platform/default/dso_loader.cc:64] Could not load dynamic library 'libnvinfer_plugin.so.7'; dlerror: libnvinfer_plugin.so.7: cannot open shared object file: No such file or directory; LD_LIBRARY_PATH: /usr/local/nvidia/lib:/usr/local/nvidia/lib64\n",
            "2022-12-25 12:55:59.099793: W tensorflow/compiler/tf2tensorrt/utils/py_utils.cc:38] TF-TRT Warning: Cannot dlopen some TensorRT libraries. If you would like to use Nvidia GPU with TensorRT, please make sure the missing libraries mentioned above are installed properly.\n",
            "The given SavedModel SignatureDef contains the following input(s):\n",
            "  inputs['flatten_input'] tensor_info:\n",
            "      dtype: DT_UINT8\n",
            "      shape: (-1, 28, 28)\n",
            "      name: serving_default_flatten_input:0\n",
            "The given SavedModel SignatureDef contains the following output(s):\n",
            "  outputs['dense_1'] tensor_info:\n",
            "      dtype: DT_FLOAT\n",
            "      shape: (-1, 10)\n",
            "      name: StatefulPartitionedCall:0\n",
            "Method name is: tensorflow/serving/predict\n"
          ]
        }
      ],
      "source": [
        "!saved_model_cli show --dir '{model_path}' --tag_set serve \\\n",
        "                      --signature_def serving_default"
      ]
    },
    {
      "cell_type": "markdown",
      "metadata": {
        "id": "oyJNNtKmPTMD"
      },
      "source": [
        "For even more details, you can run the following command:\n",
        "\n",
        "```ipython\n",
        "!saved_model_cli show --dir '{model_path}' --all\n",
        "```"
      ]
    },
    {
      "cell_type": "markdown",
      "metadata": {
        "id": "UUURWfrGPTMD"
      },
      "source": [
        "### Installing and Starting TensorFlow Serving"
      ]
    },
    {
      "cell_type": "markdown",
      "metadata": {
        "id": "EM_HamwvPTMD"
      },
      "source": [
        "If you are running this notebook in Colab or Kaggle, TensorFlow Server needs to be installed:"
      ]
    },
    {
      "cell_type": "code",
      "execution_count": 11,
      "metadata": {
        "id": "wPm8eS0IPTME",
        "outputId": "d00116fa-f8fc-4cfa-ddff-2e63e8004082",
        "colab": {
          "base_uri": "https://localhost:8080/"
        }
      },
      "outputs": [
        {
          "output_type": "stream",
          "name": "stdout",
          "text": [
            "  % Total    % Received % Xferd  Average Speed   Time    Time     Time  Current\n",
            "                                 Dload  Upload   Total   Spent    Left  Speed\n",
            "\r  0     0    0     0    0     0      0      0 --:--:-- --:--:-- --:--:--     0\r100  2943  100  2943    0     0  68441      0 --:--:-- --:--:-- --:--:-- 68441\n",
            "OK\n",
            "Hit:1 https://storage.googleapis.com/tensorflow-serving-apt stable InRelease\n",
            "Hit:2 https://cloud.r-project.org/bin/linux/ubuntu bionic-cran40/ InRelease\n",
            "Hit:3 http://archive.ubuntu.com/ubuntu bionic InRelease\n",
            "Hit:4 http://ppa.launchpad.net/c2d4u.team/c2d4u4.0+/ubuntu bionic InRelease\n",
            "Get:5 http://security.ubuntu.com/ubuntu bionic-security InRelease [88.7 kB]\n",
            "Get:6 http://archive.ubuntu.com/ubuntu bionic-updates InRelease [88.7 kB]\n",
            "Get:7 http://archive.ubuntu.com/ubuntu bionic-backports InRelease [83.3 kB]\n",
            "Hit:8 http://ppa.launchpad.net/cran/libgit2/ubuntu bionic InRelease\n",
            "Hit:9 http://ppa.launchpad.net/deadsnakes/ppa/ubuntu bionic InRelease\n",
            "Hit:10 http://ppa.launchpad.net/graphics-drivers/ppa/ubuntu bionic InRelease\n",
            "Ign:11 https://developer.download.nvidia.com/compute/machine-learning/repos/ubuntu1804/x86_64  InRelease\n",
            "Hit:12 https://developer.download.nvidia.com/compute/cuda/repos/ubuntu1804/x86_64  InRelease\n",
            "Hit:13 https://developer.download.nvidia.com/compute/machine-learning/repos/ubuntu1804/x86_64  Release\n",
            "Fetched 261 kB in 4s (60.0 kB/s)\n",
            "Reading package lists...\n",
            "Building dependency tree...\n",
            "Reading state information...\n",
            "21 packages can be upgraded. Run 'apt list --upgradable' to see them.\n",
            "Reading package lists... Done\n",
            "Building dependency tree       \n",
            "Reading state information... Done\n",
            "The following package was automatically installed and is no longer required:\n",
            "  libnvidia-common-460\n",
            "Use 'apt autoremove' to remove it.\n",
            "The following packages will be upgraded:\n",
            "  tensorflow-model-server\n",
            "1 upgraded, 0 newly installed, 0 to remove and 20 not upgraded.\n",
            "Need to get 414 MB of archives.\n",
            "After this operation, 0 B of additional disk space will be used.\n",
            "Get:1 https://storage.googleapis.com/tensorflow-serving-apt stable/tensorflow-model-server amd64 tensorflow-model-server all 2.11.0 [414 MB]\n",
            "Fetched 414 MB in 10s (40.4 MB/s)\n",
            "(Reading database ... 124017 files and directories currently installed.)\n",
            "Preparing to unpack .../tensorflow-model-server_2.11.0_all.deb ...\n",
            "Unpacking tensorflow-model-server (2.11.0) over (2.8.0) ...\n",
            "Setting up tensorflow-model-server (2.11.0) ...\n"
          ]
        }
      ],
      "source": [
        "if \"google.colab\" in sys.modules or \"kaggle_secrets\" in sys.modules:\n",
        "    url = \"https://storage.googleapis.com/tensorflow-serving-apt\"\n",
        "    src = \"stable tensorflow-model-server tensorflow-model-server-universal\"\n",
        "    !echo 'deb {url} {src}' > /etc/apt/sources.list.d/tensorflow-serving.list\n",
        "    !curl '{url}/tensorflow-serving.release.pub.gpg' | apt-key add -\n",
        "    !apt update -q && apt-get install -y tensorflow-model-server\n",
        "    %pip install -q -U tensorflow-serving-api"
      ]
    },
    {
      "cell_type": "markdown",
      "metadata": {
        "id": "b3S0_LZ9PTME"
      },
      "source": [
        "If `tensorflow_model_server` is installed (e.g., if you are running this notebook in Colab), then the following 2 cells will start the server. If your OS is Windows, you may need to run the `tensorflow_model_server` command in a terminal, and replace `${MODEL_DIR}` with the full path to the `my_mnist_model` directory."
      ]
    },
    {
      "cell_type": "code",
      "execution_count": 12,
      "metadata": {
        "id": "CzDsvquZPTMF"
      },
      "outputs": [],
      "source": [
        "import os\n",
        "\n",
        "os.environ[\"MODEL_DIR\"] = str(model_path.parent.absolute())"
      ]
    },
    {
      "cell_type": "code",
      "execution_count": 13,
      "metadata": {
        "id": "liiCsGIoPTMF"
      },
      "outputs": [],
      "source": [
        "%%bash --bg\n",
        "tensorflow_model_server \\\n",
        "    --port=8500 \\\n",
        "    --rest_api_port=8501 \\\n",
        "    --model_name=my_mnist_model \\\n",
        "    --model_base_path=\"${MODEL_DIR}\" >my_server.log 2>&1"
      ]
    },
    {
      "cell_type": "markdown",
      "metadata": {
        "id": "3eBTXDecPTMF"
      },
      "source": [
        "If you are running this notebook on your own machine, and you prefer to install TF Serving using Docker, first make sure [Docker](https://docs.docker.com/install/) is installed, then run the following commands in a terminal. You must replace `/path/to/my_mnist_model` with the appropriate absolute path to the `my_mnist_model` directory, but do not modify the container path `/models/my_mnist_model`.\n",
        "\n",
        "```bash\n",
        "docker pull tensorflow/serving  # downloads the latest TF Serving image\n",
        "\n",
        "docker run -it --rm -v \"/path/to/my_mnist_model:/models/my_mnist_model\" \\\n",
        "    -p 8500:8500 -p 8501:8501 -e MODEL_NAME=my_mnist_model tensorflow/serving\n",
        "```"
      ]
    },
    {
      "cell_type": "code",
      "source": [
        "!wget 'http://storage.googleapis.com/tensorflow-serving-apt/pool/tensorflow-model-server-2.8.0/t/tensorflow-model-server/tensorflow-model-server_2.8.0_all.deb'\n",
        "!dpkg -i tensorflow-model-server_2.8.0_all.deb\n",
        "!pip3 install tensorflow-serving-api==2.8.0"
      ],
      "metadata": {
        "id": "PbxZ3LaFQikk",
        "outputId": "ad6da14a-e0d0-4711-a91f-f11981593d8d",
        "colab": {
          "base_uri": "https://localhost:8080/"
        }
      },
      "execution_count": 14,
      "outputs": [
        {
          "output_type": "stream",
          "name": "stdout",
          "text": [
            "--2022-12-25 12:56:39--  http://storage.googleapis.com/tensorflow-serving-apt/pool/tensorflow-model-server-2.8.0/t/tensorflow-model-server/tensorflow-model-server_2.8.0_all.deb\n",
            "Resolving storage.googleapis.com (storage.googleapis.com)... 108.177.11.128, 108.177.12.128, 108.177.13.128, ...\n",
            "Connecting to storage.googleapis.com (storage.googleapis.com)|108.177.11.128|:80... connected.\n",
            "HTTP request sent, awaiting response... 200 OK\n",
            "Length: 340152790 (324M) [application/x-debian-package]\n",
            "Saving to: ‘tensorflow-model-server_2.8.0_all.deb.1’\n",
            "\n",
            "tensorflow-model-se 100%[===================>] 324.39M  62.5MB/s    in 5.9s    \n",
            "\n",
            "2022-12-25 12:56:45 (54.6 MB/s) - ‘tensorflow-model-server_2.8.0_all.deb.1’ saved [340152790/340152790]\n",
            "\n",
            "\u001b[1mdpkg:\u001b[0m \u001b[1;33mwarning:\u001b[0m downgrading tensorflow-model-server from 2.11.0 to 2.8.0\n",
            "(Reading database ... 124017 files and directories currently installed.)\n",
            "Preparing to unpack tensorflow-model-server_2.8.0_all.deb ...\n",
            "Unpacking tensorflow-model-server (2.8.0) over (2.11.0) ...\n",
            "Setting up tensorflow-model-server (2.8.0) ...\n",
            "Looking in indexes: https://pypi.org/simple, https://us-python.pkg.dev/colab-wheels/public/simple/\n",
            "Collecting tensorflow-serving-api==2.8.0\n",
            "  Using cached tensorflow_serving_api-2.8.0-py2.py3-none-any.whl (37 kB)\n",
            "Requirement already satisfied: grpcio<2,>=1.0 in /usr/local/lib/python3.8/dist-packages (from tensorflow-serving-api==2.8.0) (1.51.1)\n",
            "Requirement already satisfied: protobuf>=3.6.0 in /usr/local/lib/python3.8/dist-packages (from tensorflow-serving-api==2.8.0) (3.19.6)\n",
            "Requirement already satisfied: tensorflow<3,>=2.8.0 in /usr/local/lib/python3.8/dist-packages (from tensorflow-serving-api==2.8.0) (2.11.0)\n",
            "Requirement already satisfied: numpy>=1.20 in /usr/local/lib/python3.8/dist-packages (from tensorflow<3,>=2.8.0->tensorflow-serving-api==2.8.0) (1.21.6)\n",
            "Requirement already satisfied: flatbuffers>=2.0 in /usr/local/lib/python3.8/dist-packages (from tensorflow<3,>=2.8.0->tensorflow-serving-api==2.8.0) (22.12.6)\n",
            "Requirement already satisfied: keras<2.12,>=2.11.0 in /usr/local/lib/python3.8/dist-packages (from tensorflow<3,>=2.8.0->tensorflow-serving-api==2.8.0) (2.11.0)\n",
            "Requirement already satisfied: tensorflow-estimator<2.12,>=2.11.0 in /usr/local/lib/python3.8/dist-packages (from tensorflow<3,>=2.8.0->tensorflow-serving-api==2.8.0) (2.11.0)\n",
            "Requirement already satisfied: six>=1.12.0 in /usr/local/lib/python3.8/dist-packages (from tensorflow<3,>=2.8.0->tensorflow-serving-api==2.8.0) (1.15.0)\n",
            "Requirement already satisfied: gast<=0.4.0,>=0.2.1 in /usr/local/lib/python3.8/dist-packages (from tensorflow<3,>=2.8.0->tensorflow-serving-api==2.8.0) (0.4.0)\n",
            "Requirement already satisfied: tensorflow-io-gcs-filesystem>=0.23.1 in /usr/local/lib/python3.8/dist-packages (from tensorflow<3,>=2.8.0->tensorflow-serving-api==2.8.0) (0.28.0)\n",
            "Requirement already satisfied: h5py>=2.9.0 in /usr/local/lib/python3.8/dist-packages (from tensorflow<3,>=2.8.0->tensorflow-serving-api==2.8.0) (3.1.0)\n",
            "Requirement already satisfied: absl-py>=1.0.0 in /usr/local/lib/python3.8/dist-packages (from tensorflow<3,>=2.8.0->tensorflow-serving-api==2.8.0) (1.3.0)\n",
            "Requirement already satisfied: wrapt>=1.11.0 in /usr/local/lib/python3.8/dist-packages (from tensorflow<3,>=2.8.0->tensorflow-serving-api==2.8.0) (1.14.1)\n",
            "Requirement already satisfied: astunparse>=1.6.0 in /usr/local/lib/python3.8/dist-packages (from tensorflow<3,>=2.8.0->tensorflow-serving-api==2.8.0) (1.6.3)\n",
            "Requirement already satisfied: tensorboard<2.12,>=2.11 in /usr/local/lib/python3.8/dist-packages (from tensorflow<3,>=2.8.0->tensorflow-serving-api==2.8.0) (2.11.0)\n",
            "Requirement already satisfied: opt-einsum>=2.3.2 in /usr/local/lib/python3.8/dist-packages (from tensorflow<3,>=2.8.0->tensorflow-serving-api==2.8.0) (3.3.0)\n",
            "Requirement already satisfied: packaging in /usr/local/lib/python3.8/dist-packages (from tensorflow<3,>=2.8.0->tensorflow-serving-api==2.8.0) (21.3)\n",
            "Requirement already satisfied: typing-extensions>=3.6.6 in /usr/local/lib/python3.8/dist-packages (from tensorflow<3,>=2.8.0->tensorflow-serving-api==2.8.0) (4.4.0)\n",
            "Requirement already satisfied: libclang>=13.0.0 in /usr/local/lib/python3.8/dist-packages (from tensorflow<3,>=2.8.0->tensorflow-serving-api==2.8.0) (14.0.6)\n",
            "Requirement already satisfied: google-pasta>=0.1.1 in /usr/local/lib/python3.8/dist-packages (from tensorflow<3,>=2.8.0->tensorflow-serving-api==2.8.0) (0.2.0)\n",
            "Requirement already satisfied: termcolor>=1.1.0 in /usr/local/lib/python3.8/dist-packages (from tensorflow<3,>=2.8.0->tensorflow-serving-api==2.8.0) (2.1.1)\n",
            "Requirement already satisfied: setuptools in /usr/local/lib/python3.8/dist-packages (from tensorflow<3,>=2.8.0->tensorflow-serving-api==2.8.0) (57.4.0)\n",
            "Requirement already satisfied: wheel<1.0,>=0.23.0 in /usr/local/lib/python3.8/dist-packages (from astunparse>=1.6.0->tensorflow<3,>=2.8.0->tensorflow-serving-api==2.8.0) (0.38.4)\n",
            "Requirement already satisfied: google-auth<3,>=1.6.3 in /usr/local/lib/python3.8/dist-packages (from tensorboard<2.12,>=2.11->tensorflow<3,>=2.8.0->tensorflow-serving-api==2.8.0) (2.15.0)\n",
            "Requirement already satisfied: tensorboard-data-server<0.7.0,>=0.6.0 in /usr/local/lib/python3.8/dist-packages (from tensorboard<2.12,>=2.11->tensorflow<3,>=2.8.0->tensorflow-serving-api==2.8.0) (0.6.1)\n",
            "Requirement already satisfied: google-auth-oauthlib<0.5,>=0.4.1 in /usr/local/lib/python3.8/dist-packages (from tensorboard<2.12,>=2.11->tensorflow<3,>=2.8.0->tensorflow-serving-api==2.8.0) (0.4.6)\n",
            "Requirement already satisfied: requests<3,>=2.21.0 in /usr/local/lib/python3.8/dist-packages (from tensorboard<2.12,>=2.11->tensorflow<3,>=2.8.0->tensorflow-serving-api==2.8.0) (2.23.0)\n",
            "Requirement already satisfied: werkzeug>=1.0.1 in /usr/local/lib/python3.8/dist-packages (from tensorboard<2.12,>=2.11->tensorflow<3,>=2.8.0->tensorflow-serving-api==2.8.0) (1.0.1)\n",
            "Requirement already satisfied: tensorboard-plugin-wit>=1.6.0 in /usr/local/lib/python3.8/dist-packages (from tensorboard<2.12,>=2.11->tensorflow<3,>=2.8.0->tensorflow-serving-api==2.8.0) (1.8.1)\n",
            "Requirement already satisfied: markdown>=2.6.8 in /usr/local/lib/python3.8/dist-packages (from tensorboard<2.12,>=2.11->tensorflow<3,>=2.8.0->tensorflow-serving-api==2.8.0) (3.4.1)\n",
            "Requirement already satisfied: cachetools<6.0,>=2.0.0 in /usr/local/lib/python3.8/dist-packages (from google-auth<3,>=1.6.3->tensorboard<2.12,>=2.11->tensorflow<3,>=2.8.0->tensorflow-serving-api==2.8.0) (5.2.0)\n",
            "Requirement already satisfied: pyasn1-modules>=0.2.1 in /usr/local/lib/python3.8/dist-packages (from google-auth<3,>=1.6.3->tensorboard<2.12,>=2.11->tensorflow<3,>=2.8.0->tensorflow-serving-api==2.8.0) (0.2.8)\n",
            "Requirement already satisfied: rsa<5,>=3.1.4 in /usr/local/lib/python3.8/dist-packages (from google-auth<3,>=1.6.3->tensorboard<2.12,>=2.11->tensorflow<3,>=2.8.0->tensorflow-serving-api==2.8.0) (4.9)\n",
            "Requirement already satisfied: requests-oauthlib>=0.7.0 in /usr/local/lib/python3.8/dist-packages (from google-auth-oauthlib<0.5,>=0.4.1->tensorboard<2.12,>=2.11->tensorflow<3,>=2.8.0->tensorflow-serving-api==2.8.0) (1.3.1)\n",
            "Requirement already satisfied: importlib-metadata>=4.4 in /usr/local/lib/python3.8/dist-packages (from markdown>=2.6.8->tensorboard<2.12,>=2.11->tensorflow<3,>=2.8.0->tensorflow-serving-api==2.8.0) (5.1.0)\n",
            "Requirement already satisfied: zipp>=0.5 in /usr/local/lib/python3.8/dist-packages (from importlib-metadata>=4.4->markdown>=2.6.8->tensorboard<2.12,>=2.11->tensorflow<3,>=2.8.0->tensorflow-serving-api==2.8.0) (3.11.0)\n",
            "Requirement already satisfied: pyasn1<0.5.0,>=0.4.6 in /usr/local/lib/python3.8/dist-packages (from pyasn1-modules>=0.2.1->google-auth<3,>=1.6.3->tensorboard<2.12,>=2.11->tensorflow<3,>=2.8.0->tensorflow-serving-api==2.8.0) (0.4.8)\n",
            "Requirement already satisfied: urllib3!=1.25.0,!=1.25.1,<1.26,>=1.21.1 in /usr/local/lib/python3.8/dist-packages (from requests<3,>=2.21.0->tensorboard<2.12,>=2.11->tensorflow<3,>=2.8.0->tensorflow-serving-api==2.8.0) (1.24.3)\n",
            "Requirement already satisfied: certifi>=2017.4.17 in /usr/local/lib/python3.8/dist-packages (from requests<3,>=2.21.0->tensorboard<2.12,>=2.11->tensorflow<3,>=2.8.0->tensorflow-serving-api==2.8.0) (2022.12.7)\n",
            "Requirement already satisfied: chardet<4,>=3.0.2 in /usr/local/lib/python3.8/dist-packages (from requests<3,>=2.21.0->tensorboard<2.12,>=2.11->tensorflow<3,>=2.8.0->tensorflow-serving-api==2.8.0) (3.0.4)\n",
            "Requirement already satisfied: idna<3,>=2.5 in /usr/local/lib/python3.8/dist-packages (from requests<3,>=2.21.0->tensorboard<2.12,>=2.11->tensorflow<3,>=2.8.0->tensorflow-serving-api==2.8.0) (2.10)\n",
            "Requirement already satisfied: oauthlib>=3.0.0 in /usr/local/lib/python3.8/dist-packages (from requests-oauthlib>=0.7.0->google-auth-oauthlib<0.5,>=0.4.1->tensorboard<2.12,>=2.11->tensorflow<3,>=2.8.0->tensorflow-serving-api==2.8.0) (3.2.2)\n",
            "Requirement already satisfied: pyparsing!=3.0.5,>=2.0.2 in /usr/local/lib/python3.8/dist-packages (from packaging->tensorflow<3,>=2.8.0->tensorflow-serving-api==2.8.0) (3.0.9)\n",
            "Installing collected packages: tensorflow-serving-api\n",
            "  Attempting uninstall: tensorflow-serving-api\n",
            "    Found existing installation: tensorflow-serving-api 2.11.0\n",
            "    Uninstalling tensorflow-serving-api-2.11.0:\n",
            "      Successfully uninstalled tensorflow-serving-api-2.11.0\n",
            "Successfully installed tensorflow-serving-api-2.8.0\n"
          ]
        }
      ]
    },
    {
      "cell_type": "code",
      "source": [
        "%%bash --bg\n",
        "nohup tensorflow_model_server \\\n",
        "     --rest_api_port=8501 \\\n",
        "     --model_name=my_mnist_model \\\n",
        "     --model_base_path=\"${MODEL_DIR}\" >server.log 2>&1"
      ],
      "metadata": {
        "id": "eb6mcfZLRYu_"
      },
      "execution_count": 15,
      "outputs": []
    },
    {
      "cell_type": "code",
      "source": [
        "!tail server.log\n"
      ],
      "metadata": {
        "id": "CyBom5dVRTCZ",
        "outputId": "a2ac13ce-e41a-430e-c453-755e3906d45b",
        "colab": {
          "base_uri": "https://localhost:8080/"
        }
      },
      "execution_count": 21,
      "outputs": [
        {
          "output_type": "stream",
          "name": "stdout",
          "text": [
            "[warn] getaddrinfo: address family for nodename not supported\n",
            "[evhttp_server.cc : 245] NET_LOG: Entering the event loop ...\n"
          ]
        }
      ]
    },
    {
      "cell_type": "markdown",
      "metadata": {
        "id": "-_37M69iPTMG"
      },
      "source": [
        "### Querying TF Serving through the REST API"
      ]
    },
    {
      "cell_type": "markdown",
      "metadata": {
        "id": "KOa-dBgWPTMG"
      },
      "source": [
        "Next, let's send a REST query to TF Serving:"
      ]
    },
    {
      "cell_type": "code",
      "execution_count": 22,
      "metadata": {
        "id": "yWy-eRnMPTMG"
      },
      "outputs": [],
      "source": [
        "import json\n",
        "\n",
        "X_new = X_test[:3]  # pretend we have 3 new digit images to classify\n",
        "request_json = json.dumps({\n",
        "    \"signature_name\": \"serving_default\",\n",
        "    \"instances\": X_new.tolist(),\n",
        "})"
      ]
    },
    {
      "cell_type": "code",
      "execution_count": 23,
      "metadata": {
        "id": "XgrGzeQNPTMH",
        "outputId": "923b5d2f-d5e8-4402-d08f-943e80b994bc",
        "colab": {
          "base_uri": "https://localhost:8080/",
          "height": 35
        }
      },
      "outputs": [
        {
          "output_type": "execute_result",
          "data": {
            "text/plain": [
              "'{\"signature_name\": \"serving_default\", \"instances\": [[[0, 0, 0, 0, 0, 0, 0, 0, 0, 0, 0, 0, 0, 0, 0, 0..., 0, 0]]]}'"
            ],
            "application/vnd.google.colaboratory.intrinsic+json": {
              "type": "string"
            }
          },
          "metadata": {},
          "execution_count": 23
        }
      ],
      "source": [
        "request_json[:100] + \"...\" + request_json[-10:]"
      ]
    },
    {
      "cell_type": "markdown",
      "metadata": {
        "id": "U8NSij0DPTMJ"
      },
      "source": [
        "Now let's use TensorFlow Serving's REST API to make predictions:"
      ]
    },
    {
      "cell_type": "code",
      "execution_count": 24,
      "metadata": {
        "id": "IqI3uw5OPTMK"
      },
      "outputs": [],
      "source": [
        "import requests\n",
        "\n",
        "server_url = \"http://localhost:8501/v1/models/my_mnist_model:predict\"\n",
        "response = requests.post(server_url, data=request_json)\n",
        "response.raise_for_status()  # raise an exception in case of error\n",
        "response = response.json()"
      ]
    },
    {
      "cell_type": "code",
      "execution_count": 25,
      "metadata": {
        "id": "muMFPxDEPTMK",
        "outputId": "fbabadfc-694c-46eb-c5e0-4bd924ab5b20",
        "colab": {
          "base_uri": "https://localhost:8080/"
        }
      },
      "outputs": [
        {
          "output_type": "execute_result",
          "data": {
            "text/plain": [
              "array([[0.  , 0.  , 0.  , 0.  , 0.  , 0.  , 0.  , 1.  , 0.  , 0.  ],\n",
              "       [0.  , 0.  , 0.99, 0.01, 0.  , 0.  , 0.  , 0.  , 0.  , 0.  ],\n",
              "       [0.  , 0.99, 0.  , 0.  , 0.  , 0.  , 0.  , 0.  , 0.  , 0.  ]])"
            ]
          },
          "metadata": {},
          "execution_count": 25
        }
      ],
      "source": [
        "import numpy as np\n",
        "\n",
        "y_proba = np.array(response[\"predictions\"])\n",
        "y_proba.round(2)"
      ]
    },
    {
      "cell_type": "markdown",
      "metadata": {
        "id": "I621KsuGPTMK"
      },
      "source": [
        "### Querying TF Serving through the gRPC API"
      ]
    },
    {
      "cell_type": "code",
      "execution_count": 26,
      "metadata": {
        "id": "097ask0uPTML"
      },
      "outputs": [],
      "source": [
        "from tensorflow_serving.apis.predict_pb2 import PredictRequest\n",
        "\n",
        "request = PredictRequest()\n",
        "request.model_spec.name = model_name\n",
        "request.model_spec.signature_name = \"serving_default\"\n",
        "input_name = model.input_names[0]  # == \"flatten_input\"\n",
        "request.inputs[input_name].CopyFrom(tf.make_tensor_proto(X_new))"
      ]
    },
    {
      "cell_type": "code",
      "execution_count": 27,
      "metadata": {
        "id": "qkNcnTh5PTML",
        "outputId": "ae326633-7005-48be-ad58-5e66588e1530",
        "colab": {
          "base_uri": "https://localhost:8080/",
          "height": 467
        }
      },
      "outputs": [
        {
          "output_type": "error",
          "ename": "_InactiveRpcError",
          "evalue": "ignored",
          "traceback": [
            "\u001b[0;31m---------------------------------------------------------------------------\u001b[0m",
            "\u001b[0;31m_InactiveRpcError\u001b[0m                         Traceback (most recent call last)",
            "\u001b[0;32m<ipython-input-27-96931aba7d1c>\u001b[0m in \u001b[0;36m<module>\u001b[0;34m\u001b[0m\n\u001b[1;32m      4\u001b[0m \u001b[0mchannel\u001b[0m \u001b[0;34m=\u001b[0m \u001b[0mgrpc\u001b[0m\u001b[0;34m.\u001b[0m\u001b[0minsecure_channel\u001b[0m\u001b[0;34m(\u001b[0m\u001b[0;34m'localhost:8500'\u001b[0m\u001b[0;34m)\u001b[0m\u001b[0;34m\u001b[0m\u001b[0;34m\u001b[0m\u001b[0m\n\u001b[1;32m      5\u001b[0m \u001b[0mpredict_service\u001b[0m \u001b[0;34m=\u001b[0m \u001b[0mprediction_service_pb2_grpc\u001b[0m\u001b[0;34m.\u001b[0m\u001b[0mPredictionServiceStub\u001b[0m\u001b[0;34m(\u001b[0m\u001b[0mchannel\u001b[0m\u001b[0;34m)\u001b[0m\u001b[0;34m\u001b[0m\u001b[0;34m\u001b[0m\u001b[0m\n\u001b[0;32m----> 6\u001b[0;31m \u001b[0mresponse\u001b[0m \u001b[0;34m=\u001b[0m \u001b[0mpredict_service\u001b[0m\u001b[0;34m.\u001b[0m\u001b[0mPredict\u001b[0m\u001b[0;34m(\u001b[0m\u001b[0mrequest\u001b[0m\u001b[0;34m,\u001b[0m \u001b[0mtimeout\u001b[0m\u001b[0;34m=\u001b[0m\u001b[0;36m10.0\u001b[0m\u001b[0;34m)\u001b[0m\u001b[0;34m\u001b[0m\u001b[0;34m\u001b[0m\u001b[0m\n\u001b[0m",
            "\u001b[0;32m/usr/local/lib/python3.8/dist-packages/grpc/_channel.py\u001b[0m in \u001b[0;36m__call__\u001b[0;34m(self, request, timeout, metadata, credentials, wait_for_ready, compression)\u001b[0m\n\u001b[1;32m    944\u001b[0m         state, call, = self._blocking(request, timeout, metadata, credentials,\n\u001b[1;32m    945\u001b[0m                                       wait_for_ready, compression)\n\u001b[0;32m--> 946\u001b[0;31m         \u001b[0;32mreturn\u001b[0m \u001b[0m_end_unary_response_blocking\u001b[0m\u001b[0;34m(\u001b[0m\u001b[0mstate\u001b[0m\u001b[0;34m,\u001b[0m \u001b[0mcall\u001b[0m\u001b[0;34m,\u001b[0m \u001b[0;32mFalse\u001b[0m\u001b[0;34m,\u001b[0m \u001b[0;32mNone\u001b[0m\u001b[0;34m)\u001b[0m\u001b[0;34m\u001b[0m\u001b[0;34m\u001b[0m\u001b[0m\n\u001b[0m\u001b[1;32m    947\u001b[0m \u001b[0;34m\u001b[0m\u001b[0m\n\u001b[1;32m    948\u001b[0m     def with_call(self,\n",
            "\u001b[0;32m/usr/local/lib/python3.8/dist-packages/grpc/_channel.py\u001b[0m in \u001b[0;36m_end_unary_response_blocking\u001b[0;34m(state, call, with_call, deadline)\u001b[0m\n\u001b[1;32m    847\u001b[0m             \u001b[0;32mreturn\u001b[0m \u001b[0mstate\u001b[0m\u001b[0;34m.\u001b[0m\u001b[0mresponse\u001b[0m\u001b[0;34m\u001b[0m\u001b[0;34m\u001b[0m\u001b[0m\n\u001b[1;32m    848\u001b[0m     \u001b[0;32melse\u001b[0m\u001b[0;34m:\u001b[0m\u001b[0;34m\u001b[0m\u001b[0;34m\u001b[0m\u001b[0m\n\u001b[0;32m--> 849\u001b[0;31m         \u001b[0;32mraise\u001b[0m \u001b[0m_InactiveRpcError\u001b[0m\u001b[0;34m(\u001b[0m\u001b[0mstate\u001b[0m\u001b[0;34m)\u001b[0m\u001b[0;34m\u001b[0m\u001b[0;34m\u001b[0m\u001b[0m\n\u001b[0m\u001b[1;32m    850\u001b[0m \u001b[0;34m\u001b[0m\u001b[0m\n\u001b[1;32m    851\u001b[0m \u001b[0;34m\u001b[0m\u001b[0m\n",
            "\u001b[0;31m_InactiveRpcError\u001b[0m: <_InactiveRpcError of RPC that terminated with:\n\tstatus = StatusCode.INVALID_ARGUMENT\n\tdetails = \"input tensor alias not found in signature: flatten_input. Inputs expected to be in the set {flatten_1_input}.\"\n\tdebug_error_string = \"UNKNOWN:Error received from peer ipv4:127.0.0.1:8500 {created_time:\"2022-12-25T12:57:27.089302523+00:00\", grpc_status:3, grpc_message:\"input tensor alias not found in signature: flatten_input. Inputs expected to be in the set {flatten_1_input}.\"}\"\n>"
          ]
        }
      ],
      "source": [
        "import grpc\n",
        "from tensorflow_serving.apis import prediction_service_pb2_grpc\n",
        "\n",
        "channel = grpc.insecure_channel('localhost:8500')\n",
        "predict_service = prediction_service_pb2_grpc.PredictionServiceStub(channel)\n",
        "response = predict_service.Predict(request, timeout=10.0)"
      ]
    },
    {
      "cell_type": "markdown",
      "metadata": {
        "id": "Q13uL-KIPTMM"
      },
      "source": [
        "Convert the response to a tensor:"
      ]
    },
    {
      "cell_type": "code",
      "execution_count": null,
      "metadata": {
        "scrolled": true,
        "id": "x0OgIZzJPTMN"
      },
      "outputs": [],
      "source": [
        "output_name = model.output_names[0]\n",
        "outputs_proto = response.outputs[output_name]\n",
        "y_proba = tf.make_ndarray(outputs_proto)"
      ]
    },
    {
      "cell_type": "code",
      "execution_count": null,
      "metadata": {
        "id": "i4ksLkZOPTMN"
      },
      "outputs": [],
      "source": [
        "y_proba.round(2)"
      ]
    },
    {
      "cell_type": "markdown",
      "metadata": {
        "id": "5FwxDYDSPTMO"
      },
      "source": [
        "If your client does not include the TensorFlow library, you can convert the response to a NumPy array like this:"
      ]
    },
    {
      "cell_type": "code",
      "execution_count": null,
      "metadata": {
        "id": "ZYDS-KQBPTMP"
      },
      "outputs": [],
      "source": [
        "# extra code – shows how to avoid using tf.make_ndarray()\n",
        "output_name = model.output_names[0]\n",
        "outputs_proto = response.outputs[output_name]\n",
        "shape = [dim.size for dim in outputs_proto.tensor_shape.dim]\n",
        "y_proba = np.array(outputs_proto.float_val).reshape(shape)\n",
        "y_proba.round(2)"
      ]
    },
    {
      "cell_type": "markdown",
      "metadata": {
        "id": "6FYSPxRQPTMP"
      },
      "source": [
        "### Deploying a new model version"
      ]
    },
    {
      "cell_type": "code",
      "execution_count": 28,
      "metadata": {
        "scrolled": true,
        "id": "syAr3nhQPTMQ",
        "outputId": "5206ff13-a67a-4495-d0ff-982c3c432a9c",
        "colab": {
          "base_uri": "https://localhost:8080/"
        }
      },
      "outputs": [
        {
          "output_type": "stream",
          "name": "stdout",
          "text": [
            "Epoch 1/10\n",
            "1719/1719 [==============================] - 5s 3ms/step - loss: 0.7174 - accuracy: 0.8001 - val_loss: 0.3345 - val_accuracy: 0.9076\n",
            "Epoch 2/10\n",
            "1719/1719 [==============================] - 4s 3ms/step - loss: 0.3177 - accuracy: 0.9094 - val_loss: 0.2643 - val_accuracy: 0.9268\n",
            "Epoch 3/10\n",
            "1719/1719 [==============================] - 4s 3ms/step - loss: 0.2665 - accuracy: 0.9231 - val_loss: 0.2251 - val_accuracy: 0.9376\n",
            "Epoch 4/10\n",
            "1719/1719 [==============================] - 4s 2ms/step - loss: 0.2338 - accuracy: 0.9323 - val_loss: 0.2032 - val_accuracy: 0.9436\n",
            "Epoch 5/10\n",
            "1719/1719 [==============================] - 4s 2ms/step - loss: 0.2088 - accuracy: 0.9398 - val_loss: 0.1845 - val_accuracy: 0.9484\n",
            "Epoch 6/10\n",
            "1719/1719 [==============================] - 5s 3ms/step - loss: 0.1883 - accuracy: 0.9455 - val_loss: 0.1725 - val_accuracy: 0.9522\n",
            "Epoch 7/10\n",
            "1719/1719 [==============================] - 6s 4ms/step - loss: 0.1715 - accuracy: 0.9508 - val_loss: 0.1599 - val_accuracy: 0.9572\n",
            "Epoch 8/10\n",
            "1719/1719 [==============================] - 5s 3ms/step - loss: 0.1575 - accuracy: 0.9541 - val_loss: 0.1532 - val_accuracy: 0.9600\n",
            "Epoch 9/10\n",
            "1719/1719 [==============================] - 4s 3ms/step - loss: 0.1456 - accuracy: 0.9576 - val_loss: 0.1440 - val_accuracy: 0.9608\n",
            "Epoch 10/10\n",
            "1719/1719 [==============================] - 4s 2ms/step - loss: 0.1358 - accuracy: 0.9605 - val_loss: 0.1342 - val_accuracy: 0.9620\n"
          ]
        }
      ],
      "source": [
        "# extra code – build and train a new MNIST model version\n",
        "np.random.seed(42)\n",
        "tf.random.set_seed(42)\n",
        "model = tf.keras.Sequential([\n",
        "    tf.keras.layers.Flatten(input_shape=[28, 28], dtype=tf.uint8),\n",
        "    tf.keras.layers.Rescaling(scale=1 / 255),\n",
        "    tf.keras.layers.Dense(50, activation=\"relu\"),\n",
        "    tf.keras.layers.Dense(50, activation=\"relu\"),\n",
        "    tf.keras.layers.Dense(10, activation=\"softmax\")\n",
        "])\n",
        "model.compile(loss=\"sparse_categorical_crossentropy\",\n",
        "              optimizer=tf.keras.optimizers.SGD(learning_rate=1e-2),\n",
        "              metrics=[\"accuracy\"])\n",
        "history = model.fit(X_train, y_train, epochs=10,\n",
        "                    validation_data=(X_valid, y_valid))"
      ]
    },
    {
      "cell_type": "code",
      "execution_count": 29,
      "metadata": {
        "id": "ghzuknZGPTMR",
        "outputId": "6110ef9d-3395-45c0-c765-45a17ba5de06",
        "colab": {
          "base_uri": "https://localhost:8080/"
        }
      },
      "outputs": [
        {
          "output_type": "stream",
          "name": "stderr",
          "text": [
            "WARNING:absl:Found untraced functions such as _update_step_xla while saving (showing 1 of 1). These functions will not be directly callable after loading.\n"
          ]
        }
      ],
      "source": [
        "model_version = \"0002\"\n",
        "model_path = Path(model_name) / model_version\n",
        "model.save(model_path, save_format=\"tf\")"
      ]
    },
    {
      "cell_type": "markdown",
      "metadata": {
        "id": "0q8ivMM8PTMR"
      },
      "source": [
        "Let's take a look at the file tree again:"
      ]
    },
    {
      "cell_type": "code",
      "execution_count": 30,
      "metadata": {
        "id": "sqIUgXJSPTMS",
        "outputId": "cfab0274-a802-47cd-b39c-11b0e23a7ccb",
        "colab": {
          "base_uri": "https://localhost:8080/"
        }
      },
      "outputs": [
        {
          "output_type": "execute_result",
          "data": {
            "text/plain": [
              "['my_mnist_model/0001',\n",
              " 'my_mnist_model/0001/assets',\n",
              " 'my_mnist_model/0001/fingerprint.pb',\n",
              " 'my_mnist_model/0001/keras_metadata.pb',\n",
              " 'my_mnist_model/0001/saved_model.pb',\n",
              " 'my_mnist_model/0001/variables',\n",
              " 'my_mnist_model/0001/variables/variables.data-00000-of-00001',\n",
              " 'my_mnist_model/0001/variables/variables.index',\n",
              " 'my_mnist_model/0002',\n",
              " 'my_mnist_model/0002/assets',\n",
              " 'my_mnist_model/0002/fingerprint.pb',\n",
              " 'my_mnist_model/0002/keras_metadata.pb',\n",
              " 'my_mnist_model/0002/saved_model.pb',\n",
              " 'my_mnist_model/0002/variables',\n",
              " 'my_mnist_model/0002/variables/variables.data-00000-of-00001',\n",
              " 'my_mnist_model/0002/variables/variables.index']"
            ]
          },
          "metadata": {},
          "execution_count": 30
        }
      ],
      "source": [
        "sorted([str(path) for path in model_path.parent.glob(\"**/*\")])  # extra code"
      ]
    },
    {
      "cell_type": "markdown",
      "metadata": {
        "id": "2YpPh2EXPTMS"
      },
      "source": [
        "**Warning**: You may need to wait a minute before the new model is loaded by TensorFlow Serving."
      ]
    },
    {
      "cell_type": "code",
      "execution_count": 31,
      "metadata": {
        "id": "oXn8aGpfPTMS"
      },
      "outputs": [],
      "source": [
        "import requests\n",
        "\n",
        "server_url = \"http://localhost:8501/v1/models/my_mnist_model:predict\"\n",
        "            \n",
        "response = requests.post(server_url, data=request_json)\n",
        "response.raise_for_status()\n",
        "response = response.json()"
      ]
    },
    {
      "cell_type": "code",
      "execution_count": 32,
      "metadata": {
        "id": "05OPeyPnPTMU",
        "outputId": "900d2c5f-1abf-48c2-cca4-ccd1a1072c4a",
        "colab": {
          "base_uri": "https://localhost:8080/"
        }
      },
      "outputs": [
        {
          "output_type": "execute_result",
          "data": {
            "text/plain": [
              "dict_keys(['predictions'])"
            ]
          },
          "metadata": {},
          "execution_count": 32
        }
      ],
      "source": [
        "response.keys()"
      ]
    },
    {
      "cell_type": "code",
      "execution_count": 33,
      "metadata": {
        "id": "Yd8D_4fcPTMV",
        "outputId": "b8751d20-cfe0-48bf-edd7-17e29cf7beba",
        "colab": {
          "base_uri": "https://localhost:8080/"
        }
      },
      "outputs": [
        {
          "output_type": "execute_result",
          "data": {
            "text/plain": [
              "array([[0.  , 0.  , 0.  , 0.  , 0.  , 0.  , 0.  , 1.  , 0.  , 0.  ],\n",
              "       [0.  , 0.  , 0.99, 0.01, 0.  , 0.  , 0.  , 0.  , 0.  , 0.  ],\n",
              "       [0.  , 0.99, 0.  , 0.  , 0.  , 0.  , 0.  , 0.  , 0.  , 0.  ]])"
            ]
          },
          "metadata": {},
          "execution_count": 33
        }
      ],
      "source": [
        "y_proba = np.array(response[\"predictions\"])\n",
        "y_proba.round(2)"
      ]
    },
    {
      "cell_type": "markdown",
      "metadata": {
        "id": "P91MoSvDPTMV"
      },
      "source": [
        "## Creating a Prediction Service on Vertex AI"
      ]
    },
    {
      "cell_type": "markdown",
      "metadata": {
        "id": "im4_iEDSPTMW"
      },
      "source": [
        "Follow the instructions in the book to create a Google Cloud Platform account and activate the Vertex AI and Cloud Storage APIs. Then, if you're running this notebook in Colab, you can run the following cell to authenticate using the same Google account as you used with Google Cloud Platform, and authorize this Colab to access your data.\n",
        "\n",
        "**WARNING: only do this if you trust this notebook!**\n",
        "* Be extra careful if this is not the official notebook from https://github.com/ageron/handson-ml3: the Colab URL should start with https://colab.research.google.com/github/ageron/handson-ml3. Or else, the code could do whatever it wants with your data.\n",
        "\n",
        "If you are not running this notebook in Colab, you must follow the instructions in the book to create a service account and generate a key for it, download it to this notebook's directory, and name it `my_service_account_key.json` (or make sure the `GOOGLE_APPLICATION_CREDENTIALS` environment variable points to your key)."
      ]
    },
    {
      "cell_type": "code",
      "execution_count": 34,
      "metadata": {
        "id": "5zOk0U5qPTMW"
      },
      "outputs": [],
      "source": [
        "project_id = \"ivory-plane-372610\"  ##### CHANGE THIS TO YOUR PROJECT ID #####\n",
        "\n",
        "if \"google.colab\" in sys.modules:\n",
        "    from google.colab import auth\n",
        "    auth.authenticate_user()\n",
        "elif \"kaggle_secrets\" in sys.modules:\n",
        "    from kaggle_secrets import UserSecretsClient\n",
        "    UserSecretsClient().set_gcloud_credentials(project=project_id)\n",
        "else:\n",
        "    os.environ[\"GOOGLE_APPLICATION_CREDENTIALS\"] = \"my_service_account_key.json\""
      ]
    },
    {
      "cell_type": "code",
      "execution_count": 44,
      "metadata": {
        "id": "JxuWchM5PTMX"
      },
      "outputs": [],
      "source": [
        "from google.cloud import storage\n",
        "\n",
        "bucket_name = \"mahmoudreda_bucket0\"  ##### CHANGE THIS TO A UNIQUE BUCKET NAME #####\n",
        "location = \"us-central1\"\n",
        "\n",
        "storage_client = storage.Client(project=project_id)\n",
        "bucket = storage_client.create_bucket(bucket_name, location=location)\n",
        "#bucket = storage_client.bucket(bucket_name)  # to reuse a bucket instead"
      ]
    },
    {
      "cell_type": "code",
      "execution_count": 45,
      "metadata": {
        "id": "4A-opgCdPTMX"
      },
      "outputs": [],
      "source": [
        "def upload_directory(bucket, dirpath):\n",
        "    dirpath = Path(dirpath)\n",
        "    for filepath in dirpath.glob(\"**/*\"):\n",
        "        if filepath.is_file():\n",
        "            blob = bucket.blob(filepath.relative_to(dirpath.parent).as_posix())\n",
        "            blob.upload_from_filename(filepath)\n",
        "\n",
        "upload_directory(bucket, \"my_mnist_model\")"
      ]
    },
    {
      "cell_type": "code",
      "execution_count": 46,
      "metadata": {
        "id": "27W4xu-LPTMX"
      },
      "outputs": [],
      "source": [
        "# extra code – a much faster multithreaded implementation of upload_directory()\n",
        "#              which also accepts a prefix for the target path, and prints stuff\n",
        "\n",
        "from concurrent import futures\n",
        "\n",
        "def upload_file(bucket, filepath, blob_path):\n",
        "    blob = bucket.blob(blob_path)\n",
        "    blob.upload_from_filename(filepath)\n",
        "\n",
        "def upload_directory(bucket, dirpath, prefix=None, max_workers=50):\n",
        "    dirpath = Path(dirpath)\n",
        "    prefix = prefix or dirpath.name\n",
        "    with futures.ThreadPoolExecutor(max_workers=max_workers) as executor:\n",
        "        future_to_filepath = {\n",
        "            executor.submit(\n",
        "                upload_file,\n",
        "                bucket, filepath,\n",
        "                f\"{prefix}/{filepath.relative_to(dirpath).as_posix()}\"\n",
        "            ): filepath\n",
        "            for filepath in sorted(dirpath.glob(\"**/*\"))\n",
        "            if filepath.is_file()\n",
        "        }\n",
        "        for future in futures.as_completed(future_to_filepath):\n",
        "            filepath = future_to_filepath[future]\n",
        "            try:\n",
        "                result = future.result()\n",
        "            except Exception as ex:\n",
        "                print(f\"Error uploading {filepath!s:60}: {ex}\")  # f!s is str(f)\n",
        "            else:\n",
        "                print(f\"Uploaded {filepath!s:60}\", end=\"\\r\")\n",
        "\n",
        "    print(f\"Uploaded {dirpath!s:60}\")"
      ]
    },
    {
      "cell_type": "markdown",
      "metadata": {
        "id": "kxaN0hV0PTMc"
      },
      "source": [
        "Alternatively, if you installed Google Cloud CLI (it's preinstalled on Colab), then you can use the following `gsutil` command:"
      ]
    },
    {
      "cell_type": "code",
      "execution_count": 39,
      "metadata": {
        "id": "I-HKPWEHPTMe",
        "outputId": "c567047a-8fed-41cf-b5b5-73fc0c2b4362",
        "colab": {
          "base_uri": "https://localhost:8080/"
        }
      },
      "outputs": [
        {
          "output_type": "stream",
          "name": "stdout",
          "text": [
            "Copying file://my_mnist_model/0002/saved_model.pb [Content-Type=application/octet-stream]...\n",
            "/ [0/10 files][    0.0 B/  1.1 MiB]   0% Done                                   \rCopying file://my_mnist_model/0002/fingerprint.pb [Content-Type=application/octet-stream]...\n",
            "/ [0/10 files][    0.0 B/  1.1 MiB]   0% Done                                   \rCopying file://my_mnist_model/0002/variables/variables.index [Content-Type=application/octet-stream]...\n",
            "/ [0/10 files][    0.0 B/  1.1 MiB]   0% Done                                   \rCopying file://my_mnist_model/0001/saved_model.pb [Content-Type=application/octet-stream]...\n",
            "Copying file://my_mnist_model/0002/keras_metadata.pb [Content-Type=application/octet-stream]...\n",
            "/ [0/10 files][    0.0 B/  1.1 MiB]   0% Done                                   \r/ [0/10 files][    0.0 B/  1.1 MiB]   0% Done                                   \rCopying file://my_mnist_model/0001/fingerprint.pb [Content-Type=application/octet-stream]...\n",
            "/ [0/10 files][    0.0 B/  1.1 MiB]   0% Done                                   \rCopying file://my_mnist_model/0001/keras_metadata.pb [Content-Type=application/octet-stream]...\n",
            "/ [0/10 files][    0.0 B/  1.1 MiB]   0% Done                                   \rCopying file://my_mnist_model/0001/variables/variables.index [Content-Type=application/octet-stream]...\n",
            "Copying file://my_mnist_model/0002/variables/variables.data-00000-of-00001 [Content-Type=application/octet-stream]...\n",
            "Copying file://my_mnist_model/0001/variables/variables.data-00000-of-00001 [Content-Type=application/octet-stream]...\n",
            "| [10/10 files][  1.1 MiB/  1.1 MiB] 100% Done                                  \n",
            "Operation completed over 10 objects/1.1 MiB.                                     \n"
          ]
        }
      ],
      "source": [
        "# alternative of the previous function which move the model to bucket \n",
        "\n",
        "!gsutil -m cp -r my_mnist_model gs://{bucket_name}/"
      ]
    },
    {
      "cell_type": "code",
      "source": [
        "pip install --upgrade 'google-cloud-aiplatform'"
      ],
      "metadata": {
        "id": "-u3_jpokSOP0"
      },
      "execution_count": null,
      "outputs": []
    },
    {
      "cell_type": "code",
      "source": [
        "# updated to the latest dependencies on November 2022\n",
        "!pip install google-cloud-aiplatform==1.19.0 --upgrade\n",
        "!pip install google-cloud-pipeline-components==1.0.27 --upgrade\n",
        "!pip install kfp==1.8.16 --upgrade"
      ],
      "metadata": {
        "id": "xa2i1Ag3VoRP"
      },
      "execution_count": null,
      "outputs": []
    },
    {
      "cell_type": "code",
      "source": [
        "pip install -U google-cloud-aiplatform \"shapely<2\"\n"
      ],
      "metadata": {
        "id": "-tcQsmVWWCml",
        "outputId": "b3630881-3d6f-4a2e-d2de-46b6546789c9",
        "colab": {
          "base_uri": "https://localhost:8080/",
          "height": 887
        }
      },
      "execution_count": 2,
      "outputs": [
        {
          "output_type": "stream",
          "name": "stdout",
          "text": [
            "Looking in indexes: https://pypi.org/simple, https://us-python.pkg.dev/colab-wheels/public/simple/\n",
            "Requirement already satisfied: google-cloud-aiplatform in /usr/local/lib/python3.8/dist-packages (1.19.0)\n",
            "Collecting google-cloud-aiplatform\n",
            "  Using cached google_cloud_aiplatform-1.20.0-py2.py3-none-any.whl (2.3 MB)\n",
            "Collecting shapely<2\n",
            "  Downloading Shapely-1.8.5.post1-cp38-cp38-manylinux_2_12_x86_64.manylinux2010_x86_64.whl (2.1 MB)\n",
            "\u001b[K     |████████████████████████████████| 2.1 MB 4.9 MB/s \n",
            "\u001b[?25hRequirement already satisfied: protobuf!=3.20.0,!=3.20.1,!=4.21.0,!=4.21.1,!=4.21.2,!=4.21.3,!=4.21.4,!=4.21.5,<5.0.0dev,>=3.19.5 in /usr/local/lib/python3.8/dist-packages (from google-cloud-aiplatform) (3.19.6)\n",
            "Requirement already satisfied: packaging<22.0.0dev,>=14.3 in /usr/local/lib/python3.8/dist-packages (from google-cloud-aiplatform) (21.3)\n",
            "Requirement already satisfied: proto-plus<2.0.0dev,>=1.22.0 in /usr/local/lib/python3.8/dist-packages (from google-cloud-aiplatform) (1.22.1)\n",
            "Requirement already satisfied: google-api-core[grpc]!=2.0.*,!=2.1.*,!=2.2.*,!=2.3.*,!=2.4.*,!=2.5.*,!=2.6.*,!=2.7.*,<3.0.0dev,>=1.32.0 in /usr/local/lib/python3.8/dist-packages (from google-cloud-aiplatform) (2.8.2)\n",
            "Requirement already satisfied: google-cloud-bigquery<3.0.0dev,>=1.15.0 in /usr/local/lib/python3.8/dist-packages (from google-cloud-aiplatform) (2.34.4)\n",
            "Requirement already satisfied: google-cloud-storage<3.0.0dev,>=1.32.0 in /usr/local/lib/python3.8/dist-packages (from google-cloud-aiplatform) (2.5.0)\n",
            "Requirement already satisfied: google-cloud-resource-manager<3.0.0dev,>=1.3.3 in /usr/local/lib/python3.8/dist-packages (from google-cloud-aiplatform) (1.6.3)\n",
            "Requirement already satisfied: requests<3.0.0dev,>=2.18.0 in /usr/local/lib/python3.8/dist-packages (from google-api-core[grpc]!=2.0.*,!=2.1.*,!=2.2.*,!=2.3.*,!=2.4.*,!=2.5.*,!=2.6.*,!=2.7.*,<3.0.0dev,>=1.32.0->google-cloud-aiplatform) (2.23.0)\n",
            "Requirement already satisfied: googleapis-common-protos<2.0dev,>=1.56.2 in /usr/local/lib/python3.8/dist-packages (from google-api-core[grpc]!=2.0.*,!=2.1.*,!=2.2.*,!=2.3.*,!=2.4.*,!=2.5.*,!=2.6.*,!=2.7.*,<3.0.0dev,>=1.32.0->google-cloud-aiplatform) (1.57.0)\n",
            "Requirement already satisfied: google-auth<3.0dev,>=1.25.0 in /usr/local/lib/python3.8/dist-packages (from google-api-core[grpc]!=2.0.*,!=2.1.*,!=2.2.*,!=2.3.*,!=2.4.*,!=2.5.*,!=2.6.*,!=2.7.*,<3.0.0dev,>=1.32.0->google-cloud-aiplatform) (2.15.0)\n",
            "Requirement already satisfied: grpcio-status<2.0dev,>=1.33.2 in /usr/local/lib/python3.8/dist-packages (from google-api-core[grpc]!=2.0.*,!=2.1.*,!=2.2.*,!=2.3.*,!=2.4.*,!=2.5.*,!=2.6.*,!=2.7.*,<3.0.0dev,>=1.32.0->google-cloud-aiplatform) (1.48.2)\n",
            "Requirement already satisfied: grpcio<2.0dev,>=1.33.2 in /usr/local/lib/python3.8/dist-packages (from google-api-core[grpc]!=2.0.*,!=2.1.*,!=2.2.*,!=2.3.*,!=2.4.*,!=2.5.*,!=2.6.*,!=2.7.*,<3.0.0dev,>=1.32.0->google-cloud-aiplatform) (1.51.1)\n",
            "Requirement already satisfied: six>=1.9.0 in /usr/local/lib/python3.8/dist-packages (from google-auth<3.0dev,>=1.25.0->google-api-core[grpc]!=2.0.*,!=2.1.*,!=2.2.*,!=2.3.*,!=2.4.*,!=2.5.*,!=2.6.*,!=2.7.*,<3.0.0dev,>=1.32.0->google-cloud-aiplatform) (1.15.0)\n",
            "Requirement already satisfied: rsa<5,>=3.1.4 in /usr/local/lib/python3.8/dist-packages (from google-auth<3.0dev,>=1.25.0->google-api-core[grpc]!=2.0.*,!=2.1.*,!=2.2.*,!=2.3.*,!=2.4.*,!=2.5.*,!=2.6.*,!=2.7.*,<3.0.0dev,>=1.32.0->google-cloud-aiplatform) (4.9)\n",
            "Requirement already satisfied: cachetools<6.0,>=2.0.0 in /usr/local/lib/python3.8/dist-packages (from google-auth<3.0dev,>=1.25.0->google-api-core[grpc]!=2.0.*,!=2.1.*,!=2.2.*,!=2.3.*,!=2.4.*,!=2.5.*,!=2.6.*,!=2.7.*,<3.0.0dev,>=1.32.0->google-cloud-aiplatform) (5.2.0)\n",
            "Requirement already satisfied: pyasn1-modules>=0.2.1 in /usr/local/lib/python3.8/dist-packages (from google-auth<3.0dev,>=1.25.0->google-api-core[grpc]!=2.0.*,!=2.1.*,!=2.2.*,!=2.3.*,!=2.4.*,!=2.5.*,!=2.6.*,!=2.7.*,<3.0.0dev,>=1.32.0->google-cloud-aiplatform) (0.2.8)\n",
            "Requirement already satisfied: google-resumable-media<3.0dev,>=0.6.0 in /usr/local/lib/python3.8/dist-packages (from google-cloud-bigquery<3.0.0dev,>=1.15.0->google-cloud-aiplatform) (2.4.0)\n",
            "Requirement already satisfied: python-dateutil<3.0dev,>=2.7.2 in /usr/local/lib/python3.8/dist-packages (from google-cloud-bigquery<3.0.0dev,>=1.15.0->google-cloud-aiplatform) (2.8.2)\n",
            "Requirement already satisfied: google-cloud-core<3.0.0dev,>=1.4.1 in /usr/local/lib/python3.8/dist-packages (from google-cloud-bigquery<3.0.0dev,>=1.15.0->google-cloud-aiplatform) (2.3.2)\n",
            "Requirement already satisfied: grpc-google-iam-v1<1.0.0dev,>=0.12.4 in /usr/local/lib/python3.8/dist-packages (from google-cloud-resource-manager<3.0.0dev,>=1.3.3->google-cloud-aiplatform) (0.12.4)\n",
            "Requirement already satisfied: google-crc32c<2.0dev,>=1.0 in /usr/local/lib/python3.8/dist-packages (from google-resumable-media<3.0dev,>=0.6.0->google-cloud-bigquery<3.0.0dev,>=1.15.0->google-cloud-aiplatform) (1.5.0)\n",
            "Requirement already satisfied: pyparsing!=3.0.5,>=2.0.2 in /usr/local/lib/python3.8/dist-packages (from packaging<22.0.0dev,>=14.3->google-cloud-aiplatform) (3.0.9)\n",
            "Requirement already satisfied: pyasn1<0.5.0,>=0.4.6 in /usr/local/lib/python3.8/dist-packages (from pyasn1-modules>=0.2.1->google-auth<3.0dev,>=1.25.0->google-api-core[grpc]!=2.0.*,!=2.1.*,!=2.2.*,!=2.3.*,!=2.4.*,!=2.5.*,!=2.6.*,!=2.7.*,<3.0.0dev,>=1.32.0->google-cloud-aiplatform) (0.4.8)\n",
            "Requirement already satisfied: certifi>=2017.4.17 in /usr/local/lib/python3.8/dist-packages (from requests<3.0.0dev,>=2.18.0->google-api-core[grpc]!=2.0.*,!=2.1.*,!=2.2.*,!=2.3.*,!=2.4.*,!=2.5.*,!=2.6.*,!=2.7.*,<3.0.0dev,>=1.32.0->google-cloud-aiplatform) (2022.12.7)\n",
            "Requirement already satisfied: urllib3!=1.25.0,!=1.25.1,<1.26,>=1.21.1 in /usr/local/lib/python3.8/dist-packages (from requests<3.0.0dev,>=2.18.0->google-api-core[grpc]!=2.0.*,!=2.1.*,!=2.2.*,!=2.3.*,!=2.4.*,!=2.5.*,!=2.6.*,!=2.7.*,<3.0.0dev,>=1.32.0->google-cloud-aiplatform) (1.24.3)\n",
            "Requirement already satisfied: chardet<4,>=3.0.2 in /usr/local/lib/python3.8/dist-packages (from requests<3.0.0dev,>=2.18.0->google-api-core[grpc]!=2.0.*,!=2.1.*,!=2.2.*,!=2.3.*,!=2.4.*,!=2.5.*,!=2.6.*,!=2.7.*,<3.0.0dev,>=1.32.0->google-cloud-aiplatform) (3.0.4)\n",
            "Requirement already satisfied: idna<3,>=2.5 in /usr/local/lib/python3.8/dist-packages (from requests<3.0.0dev,>=2.18.0->google-api-core[grpc]!=2.0.*,!=2.1.*,!=2.2.*,!=2.3.*,!=2.4.*,!=2.5.*,!=2.6.*,!=2.7.*,<3.0.0dev,>=1.32.0->google-cloud-aiplatform) (2.10)\n",
            "Installing collected packages: shapely, google-cloud-aiplatform\n",
            "  Attempting uninstall: shapely\n",
            "    Found existing installation: shapely 2.0.0\n",
            "    Uninstalling shapely-2.0.0:\n",
            "      Successfully uninstalled shapely-2.0.0\n",
            "  Attempting uninstall: google-cloud-aiplatform\n",
            "    Found existing installation: google-cloud-aiplatform 1.19.0\n",
            "    Uninstalling google-cloud-aiplatform-1.19.0:\n",
            "      Successfully uninstalled google-cloud-aiplatform-1.19.0\n",
            "Successfully installed google-cloud-aiplatform-1.20.0 shapely-1.8.5.post1\n"
          ]
        },
        {
          "output_type": "display_data",
          "data": {
            "application/vnd.colab-display-data+json": {
              "pip_warning": {
                "packages": [
                  "google",
                  "shapely"
                ]
              }
            }
          },
          "metadata": {}
        }
      ]
    },
    {
      "cell_type": "code",
      "execution_count": 47,
      "metadata": {
        "id": "P4FuR7IBPTMf",
        "outputId": "9342019c-d16e-4d31-81c4-cd719ae7f881",
        "colab": {
          "base_uri": "https://localhost:8080/"
        }
      },
      "outputs": [
        {
          "output_type": "stream",
          "name": "stdout",
          "text": [
            "Creating Model\n"
          ]
        },
        {
          "output_type": "stream",
          "name": "stderr",
          "text": [
            "INFO:google.cloud.aiplatform.models:Creating Model\n"
          ]
        },
        {
          "output_type": "stream",
          "name": "stdout",
          "text": [
            "Create Model backing LRO: projects/24006034033/locations/us-central1/models/1243593830503022592/operations/565992645692751872\n"
          ]
        },
        {
          "output_type": "stream",
          "name": "stderr",
          "text": [
            "INFO:google.cloud.aiplatform.models:Create Model backing LRO: projects/24006034033/locations/us-central1/models/1243593830503022592/operations/565992645692751872\n"
          ]
        },
        {
          "output_type": "stream",
          "name": "stdout",
          "text": [
            "Model created. Resource name: projects/24006034033/locations/us-central1/models/1243593830503022592@1\n"
          ]
        },
        {
          "output_type": "stream",
          "name": "stderr",
          "text": [
            "INFO:google.cloud.aiplatform.models:Model created. Resource name: projects/24006034033/locations/us-central1/models/1243593830503022592@1\n"
          ]
        },
        {
          "output_type": "stream",
          "name": "stdout",
          "text": [
            "To use this Model in another session:\n"
          ]
        },
        {
          "output_type": "stream",
          "name": "stderr",
          "text": [
            "INFO:google.cloud.aiplatform.models:To use this Model in another session:\n"
          ]
        },
        {
          "output_type": "stream",
          "name": "stdout",
          "text": [
            "model = aiplatform.Model('projects/24006034033/locations/us-central1/models/1243593830503022592@1')\n"
          ]
        },
        {
          "output_type": "stream",
          "name": "stderr",
          "text": [
            "INFO:google.cloud.aiplatform.models:model = aiplatform.Model('projects/24006034033/locations/us-central1/models/1243593830503022592@1')\n"
          ]
        }
      ],
      "source": [
        "from google.cloud import aiplatform\n",
        "\n",
        "server_image = \"gcr.io/cloud-aiplatform/prediction/tf2-gpu.2-8:latest\"\n",
        "\n",
        "aiplatform.init(project=project_id, location=location)\n",
        "mnist_model = aiplatform.Model.upload(\n",
        "    display_name=\"mnist\",\n",
        "    artifact_uri=f\"gs://{bucket_name}/my_mnist_model/0001\",\n",
        "    serving_container_image_uri=server_image,\n",
        ")"
      ]
    },
    {
      "cell_type": "markdown",
      "metadata": {
        "id": "ct2YOiCPPTMh"
      },
      "source": [
        "**Warning**: this cell may take several minutes to run, as it waits for Vertex AI to provision the compute nodes:"
      ]
    },
    {
      "cell_type": "code",
      "execution_count": 95,
      "metadata": {
        "id": "3SsixPKHPTMi"
      },
      "outputs": [],
      "source": [
        "endpoint = aiplatform.Endpoint.create(display_name=\"mnist-endpoint\")\n",
        "\n",
        "endpoint.deploy(\n",
        "    mnist_model,\n",
        "    min_replica_count=1,\n",
        "    max_replica_count=5,\n",
        "    machine_type=\"n1-standard-4\",\n",
        "accelerator_type=\"NVIDIA_TESLA_K80\",\n",
        "    accelerator_count=1\n",
        ")"
      ]
    },
    {
      "cell_type": "code",
      "execution_count": 95,
      "metadata": {
        "id": "hOl5i1fVPTMi"
      },
      "outputs": [],
      "source": [
        "response = endpoint.predict(instances=X_new.tolist())"
      ]
    },
    {
      "cell_type": "code",
      "execution_count": null,
      "metadata": {
        "id": "bRDPdSNgPTMj"
      },
      "outputs": [],
      "source": [
        "import numpy as np\n",
        "\n",
        "np.round(response.predictions, 2)"
      ]
    },
    {
      "cell_type": "code",
      "execution_count": 96,
      "metadata": {
        "id": "5-0Wk1IcPTMj",
        "outputId": "d816e727-8d97-42f4-ffbf-9f02c50cdcd3",
        "colab": {
          "base_uri": "https://localhost:8080/"
        }
      },
      "outputs": [
        {
          "output_type": "stream",
          "name": "stdout",
          "text": [
            "Deleting Endpoint : projects/24006034033/locations/us-central1/endpoints/5269515029232746496\n"
          ]
        },
        {
          "output_type": "stream",
          "name": "stderr",
          "text": [
            "INFO:google.cloud.aiplatform.base:Deleting Endpoint : projects/24006034033/locations/us-central1/endpoints/5269515029232746496\n"
          ]
        },
        {
          "output_type": "stream",
          "name": "stdout",
          "text": [
            "Delete Endpoint  backing LRO: projects/24006034033/locations/us-central1/operations/231600373360492544\n"
          ]
        },
        {
          "output_type": "stream",
          "name": "stderr",
          "text": [
            "INFO:google.cloud.aiplatform.base:Delete Endpoint  backing LRO: projects/24006034033/locations/us-central1/operations/231600373360492544\n"
          ]
        },
        {
          "output_type": "stream",
          "name": "stdout",
          "text": [
            "Endpoint deleted. . Resource name: projects/24006034033/locations/us-central1/endpoints/5269515029232746496\n"
          ]
        },
        {
          "output_type": "stream",
          "name": "stderr",
          "text": [
            "INFO:google.cloud.aiplatform.base:Endpoint deleted. . Resource name: projects/24006034033/locations/us-central1/endpoints/5269515029232746496\n"
          ]
        }
      ],
      "source": [
        "endpoint.undeploy_all()  # undeploy all models from the endpoint\n",
        "endpoint.delete()"
      ]
    },
    {
      "cell_type": "markdown",
      "metadata": {
        "id": "V2W4JHTtPTMl"
      },
      "source": [
        "## Running Batch Prediction Jobs on Vertex AI"
      ]
    },
    {
      "cell_type": "code",
      "execution_count": 88,
      "metadata": {
        "id": "aGVAsA_7PTMl",
        "outputId": "0182d8c7-38fc-4f92-f17c-a3b945b9cbcc",
        "colab": {
          "base_uri": "https://localhost:8080/"
        }
      },
      "outputs": [
        {
          "output_type": "stream",
          "name": "stdout",
          "text": [
            "Uploaded my_mnist_batch/my_mnist_batch.jsonl                         \rUploaded my_mnist_batch                                              \n"
          ]
        }
      ],
      "source": [
        "batch_path = Path(\"my_mnist_batch\")\n",
        "batch_path.mkdir(exist_ok=True)\n",
        "with open(batch_path / \"my_mnist_batch.jsonl\", \"w\") as jsonl_file:\n",
        "    for image in X_test[:100].tolist():\n",
        "        jsonl_file.write(json.dumps(image))\n",
        "        jsonl_file.write(\"\\n\")\n",
        "\n",
        "upload_directory(bucket, batch_path)"
      ]
    },
    {
      "cell_type": "code",
      "execution_count": 89,
      "metadata": {
        "id": "uXK0NkH4PTMm",
        "outputId": "da6e8037-00e9-4591-d4c2-ecc89ef4d22e",
        "colab": {
          "base_uri": "https://localhost:8080/"
        }
      },
      "outputs": [
        {
          "output_type": "stream",
          "name": "stdout",
          "text": [
            "Creating BatchPredictionJob\n"
          ]
        },
        {
          "output_type": "stream",
          "name": "stderr",
          "text": [
            "INFO:google.cloud.aiplatform.jobs:Creating BatchPredictionJob\n"
          ]
        },
        {
          "output_type": "stream",
          "name": "stdout",
          "text": [
            "BatchPredictionJob created. Resource name: projects/24006034033/locations/us-central1/batchPredictionJobs/3475395864141234176\n"
          ]
        },
        {
          "output_type": "stream",
          "name": "stderr",
          "text": [
            "INFO:google.cloud.aiplatform.jobs:BatchPredictionJob created. Resource name: projects/24006034033/locations/us-central1/batchPredictionJobs/3475395864141234176\n"
          ]
        },
        {
          "output_type": "stream",
          "name": "stdout",
          "text": [
            "To use this BatchPredictionJob in another session:\n"
          ]
        },
        {
          "output_type": "stream",
          "name": "stderr",
          "text": [
            "INFO:google.cloud.aiplatform.jobs:To use this BatchPredictionJob in another session:\n"
          ]
        },
        {
          "output_type": "stream",
          "name": "stdout",
          "text": [
            "bpj = aiplatform.BatchPredictionJob('projects/24006034033/locations/us-central1/batchPredictionJobs/3475395864141234176')\n"
          ]
        },
        {
          "output_type": "stream",
          "name": "stderr",
          "text": [
            "INFO:google.cloud.aiplatform.jobs:bpj = aiplatform.BatchPredictionJob('projects/24006034033/locations/us-central1/batchPredictionJobs/3475395864141234176')\n"
          ]
        },
        {
          "output_type": "stream",
          "name": "stdout",
          "text": [
            "View Batch Prediction Job:\n",
            "https://console.cloud.google.com/ai/platform/locations/us-central1/batch-predictions/3475395864141234176?project=24006034033\n"
          ]
        },
        {
          "output_type": "stream",
          "name": "stderr",
          "text": [
            "INFO:google.cloud.aiplatform.jobs:View Batch Prediction Job:\n",
            "https://console.cloud.google.com/ai/platform/locations/us-central1/batch-predictions/3475395864141234176?project=24006034033\n"
          ]
        },
        {
          "output_type": "stream",
          "name": "stdout",
          "text": [
            "BatchPredictionJob projects/24006034033/locations/us-central1/batchPredictionJobs/3475395864141234176 current state:\n",
            "JobState.JOB_STATE_PENDING\n"
          ]
        },
        {
          "output_type": "stream",
          "name": "stderr",
          "text": [
            "INFO:google.cloud.aiplatform.jobs:BatchPredictionJob projects/24006034033/locations/us-central1/batchPredictionJobs/3475395864141234176 current state:\n",
            "JobState.JOB_STATE_PENDING\n"
          ]
        },
        {
          "output_type": "stream",
          "name": "stdout",
          "text": [
            "BatchPredictionJob projects/24006034033/locations/us-central1/batchPredictionJobs/3475395864141234176 current state:\n",
            "JobState.JOB_STATE_RUNNING\n"
          ]
        },
        {
          "output_type": "stream",
          "name": "stderr",
          "text": [
            "INFO:google.cloud.aiplatform.jobs:BatchPredictionJob projects/24006034033/locations/us-central1/batchPredictionJobs/3475395864141234176 current state:\n",
            "JobState.JOB_STATE_RUNNING\n"
          ]
        },
        {
          "output_type": "stream",
          "name": "stdout",
          "text": [
            "BatchPredictionJob projects/24006034033/locations/us-central1/batchPredictionJobs/3475395864141234176 current state:\n",
            "JobState.JOB_STATE_RUNNING\n"
          ]
        },
        {
          "output_type": "stream",
          "name": "stderr",
          "text": [
            "INFO:google.cloud.aiplatform.jobs:BatchPredictionJob projects/24006034033/locations/us-central1/batchPredictionJobs/3475395864141234176 current state:\n",
            "JobState.JOB_STATE_RUNNING\n"
          ]
        },
        {
          "output_type": "stream",
          "name": "stdout",
          "text": [
            "BatchPredictionJob projects/24006034033/locations/us-central1/batchPredictionJobs/3475395864141234176 current state:\n",
            "JobState.JOB_STATE_RUNNING\n"
          ]
        },
        {
          "output_type": "stream",
          "name": "stderr",
          "text": [
            "INFO:google.cloud.aiplatform.jobs:BatchPredictionJob projects/24006034033/locations/us-central1/batchPredictionJobs/3475395864141234176 current state:\n",
            "JobState.JOB_STATE_RUNNING\n"
          ]
        },
        {
          "output_type": "stream",
          "name": "stdout",
          "text": [
            "BatchPredictionJob projects/24006034033/locations/us-central1/batchPredictionJobs/3475395864141234176 current state:\n",
            "JobState.JOB_STATE_RUNNING\n"
          ]
        },
        {
          "output_type": "stream",
          "name": "stderr",
          "text": [
            "INFO:google.cloud.aiplatform.jobs:BatchPredictionJob projects/24006034033/locations/us-central1/batchPredictionJobs/3475395864141234176 current state:\n",
            "JobState.JOB_STATE_RUNNING\n"
          ]
        },
        {
          "output_type": "stream",
          "name": "stdout",
          "text": [
            "BatchPredictionJob projects/24006034033/locations/us-central1/batchPredictionJobs/3475395864141234176 current state:\n",
            "JobState.JOB_STATE_RUNNING\n"
          ]
        },
        {
          "output_type": "stream",
          "name": "stderr",
          "text": [
            "INFO:google.cloud.aiplatform.jobs:BatchPredictionJob projects/24006034033/locations/us-central1/batchPredictionJobs/3475395864141234176 current state:\n",
            "JobState.JOB_STATE_RUNNING\n"
          ]
        },
        {
          "output_type": "stream",
          "name": "stdout",
          "text": [
            "BatchPredictionJob projects/24006034033/locations/us-central1/batchPredictionJobs/3475395864141234176 current state:\n",
            "JobState.JOB_STATE_RUNNING\n"
          ]
        },
        {
          "output_type": "stream",
          "name": "stderr",
          "text": [
            "INFO:google.cloud.aiplatform.jobs:BatchPredictionJob projects/24006034033/locations/us-central1/batchPredictionJobs/3475395864141234176 current state:\n",
            "JobState.JOB_STATE_RUNNING\n"
          ]
        },
        {
          "output_type": "stream",
          "name": "stdout",
          "text": [
            "BatchPredictionJob projects/24006034033/locations/us-central1/batchPredictionJobs/3475395864141234176 current state:\n",
            "JobState.JOB_STATE_RUNNING\n"
          ]
        },
        {
          "output_type": "stream",
          "name": "stderr",
          "text": [
            "INFO:google.cloud.aiplatform.jobs:BatchPredictionJob projects/24006034033/locations/us-central1/batchPredictionJobs/3475395864141234176 current state:\n",
            "JobState.JOB_STATE_RUNNING\n"
          ]
        },
        {
          "output_type": "stream",
          "name": "stdout",
          "text": [
            "BatchPredictionJob projects/24006034033/locations/us-central1/batchPredictionJobs/3475395864141234176 current state:\n",
            "JobState.JOB_STATE_RUNNING\n"
          ]
        },
        {
          "output_type": "stream",
          "name": "stderr",
          "text": [
            "INFO:google.cloud.aiplatform.jobs:BatchPredictionJob projects/24006034033/locations/us-central1/batchPredictionJobs/3475395864141234176 current state:\n",
            "JobState.JOB_STATE_RUNNING\n"
          ]
        },
        {
          "output_type": "stream",
          "name": "stdout",
          "text": [
            "BatchPredictionJob projects/24006034033/locations/us-central1/batchPredictionJobs/3475395864141234176 current state:\n",
            "JobState.JOB_STATE_RUNNING\n"
          ]
        },
        {
          "output_type": "stream",
          "name": "stderr",
          "text": [
            "INFO:google.cloud.aiplatform.jobs:BatchPredictionJob projects/24006034033/locations/us-central1/batchPredictionJobs/3475395864141234176 current state:\n",
            "JobState.JOB_STATE_RUNNING\n"
          ]
        },
        {
          "output_type": "stream",
          "name": "stdout",
          "text": [
            "BatchPredictionJob projects/24006034033/locations/us-central1/batchPredictionJobs/3475395864141234176 current state:\n",
            "JobState.JOB_STATE_SUCCEEDED\n"
          ]
        },
        {
          "output_type": "stream",
          "name": "stderr",
          "text": [
            "INFO:google.cloud.aiplatform.jobs:BatchPredictionJob projects/24006034033/locations/us-central1/batchPredictionJobs/3475395864141234176 current state:\n",
            "JobState.JOB_STATE_SUCCEEDED\n"
          ]
        },
        {
          "output_type": "stream",
          "name": "stdout",
          "text": [
            "BatchPredictionJob run completed. Resource name: projects/24006034033/locations/us-central1/batchPredictionJobs/3475395864141234176\n"
          ]
        },
        {
          "output_type": "stream",
          "name": "stderr",
          "text": [
            "INFO:google.cloud.aiplatform.jobs:BatchPredictionJob run completed. Resource name: projects/24006034033/locations/us-central1/batchPredictionJobs/3475395864141234176\n"
          ]
        }
      ],
      "source": [
        "batch_prediction_job = mnist_model.batch_predict(\n",
        "    job_display_name=\"my_batch_prediction_job\",\n",
        "    machine_type=\"n1-standard-4\",\n",
        "    starting_replica_count=1,\n",
        "    max_replica_count=5,\n",
        "    accelerator_type=\"NVIDIA_TESLA_K80\",\n",
        "    accelerator_count=1,\n",
        "    gcs_source=[f\"gs://{bucket_name}/{batch_path.name}/my_mnist_batch.jsonl\"],\n",
        "    gcs_destination_prefix=f\"gs://{bucket_name}/my_mnist_predictions/\",\n",
        "    sync=True  # set to False if you don't want to wait for completion\n",
        ")"
      ]
    },
    {
      "cell_type": "code",
      "execution_count": 90,
      "metadata": {
        "id": "OcD4kbwyPTMm",
        "outputId": "3f972b35-0c8f-413b-be79-26492e1ee458",
        "colab": {
          "base_uri": "https://localhost:8080/"
        }
      },
      "outputs": [
        {
          "output_type": "execute_result",
          "data": {
            "text/plain": [
              "gcs_output_directory: \"gs://mahmoudreda_bucket0/my_mnist_predictions/prediction-mnist-2022_12_25T07_04_58_855Z\""
            ]
          },
          "metadata": {},
          "execution_count": 90
        }
      ],
      "source": [
        "batch_prediction_job.output_info  # extra code – shows the output directory"
      ]
    },
    {
      "cell_type": "code",
      "execution_count": 91,
      "metadata": {
        "id": "fsQ7Duy3PTMn",
        "outputId": "bef331c8-165d-4d76-803a-c6bd215dd5ce",
        "colab": {
          "base_uri": "https://localhost:8080/"
        }
      },
      "outputs": [
        {
          "output_type": "stream",
          "name": "stdout",
          "text": [
            "my_mnist_predictions/prediction-mnist-2022_12_25T07_04_58_855Z/prediction.errors_stats-00000-of-00001\n",
            "my_mnist_predictions/prediction-mnist-2022_12_25T07_04_58_855Z/prediction.results-00000-of-00002\n",
            "my_mnist_predictions/prediction-mnist-2022_12_25T07_04_58_855Z/prediction.results-00001-of-00002\n"
          ]
        }
      ],
      "source": [
        "y_probas = []\n",
        "for blob in batch_prediction_job.iter_outputs():\n",
        "    print(blob.name)  # extra code\n",
        "    if \"prediction.results\" in blob.name:\n",
        "        for line in blob.download_as_text().splitlines():\n",
        "            y_proba = json.loads(line)[\"prediction\"]\n",
        "            y_probas.append(y_proba)"
      ]
    },
    {
      "cell_type": "code",
      "execution_count": 92,
      "metadata": {
        "id": "mDfqybHCPTMn"
      },
      "outputs": [],
      "source": [
        "y_pred = np.argmax(y_probas, axis=1)\n",
        "accuracy = np.sum(y_pred == y_test[:100]) / 100"
      ]
    },
    {
      "cell_type": "code",
      "execution_count": 93,
      "metadata": {
        "id": "TlbxFLEvPTMo",
        "outputId": "83140632-000c-4098-c3ff-248e06c5eea0",
        "colab": {
          "base_uri": "https://localhost:8080/"
        }
      },
      "outputs": [
        {
          "output_type": "execute_result",
          "data": {
            "text/plain": [
              "0.08"
            ]
          },
          "metadata": {},
          "execution_count": 93
        }
      ],
      "source": [
        "accuracy"
      ]
    },
    {
      "cell_type": "code",
      "execution_count": 94,
      "metadata": {
        "id": "E3LP0Fi5PTMo",
        "outputId": "0e283ae5-2402-40ff-db7d-56a22255f7c4",
        "colab": {
          "base_uri": "https://localhost:8080/"
        }
      },
      "outputs": [
        {
          "output_type": "stream",
          "name": "stdout",
          "text": [
            "Deleting Model : projects/24006034033/locations/us-central1/models/1243593830503022592\n"
          ]
        },
        {
          "output_type": "stream",
          "name": "stderr",
          "text": [
            "INFO:google.cloud.aiplatform.base:Deleting Model : projects/24006034033/locations/us-central1/models/1243593830503022592\n"
          ]
        },
        {
          "output_type": "stream",
          "name": "stdout",
          "text": [
            "Delete Model  backing LRO: projects/24006034033/locations/us-central1/operations/3666439514160627712\n"
          ]
        },
        {
          "output_type": "stream",
          "name": "stderr",
          "text": [
            "INFO:google.cloud.aiplatform.base:Delete Model  backing LRO: projects/24006034033/locations/us-central1/operations/3666439514160627712\n"
          ]
        },
        {
          "output_type": "stream",
          "name": "stdout",
          "text": [
            "Model deleted. . Resource name: projects/24006034033/locations/us-central1/models/1243593830503022592\n"
          ]
        },
        {
          "output_type": "stream",
          "name": "stderr",
          "text": [
            "INFO:google.cloud.aiplatform.base:Model deleted. . Resource name: projects/24006034033/locations/us-central1/models/1243593830503022592\n"
          ]
        }
      ],
      "source": [
        "mnist_model.delete()"
      ]
    },
    {
      "cell_type": "markdown",
      "metadata": {
        "id": "mPfCuiWYPTMq"
      },
      "source": [
        "Let's delete all the directories we created on GCS (i.e., all the blobs with these prefixes):"
      ]
    },
    {
      "cell_type": "code",
      "execution_count": 95,
      "metadata": {
        "id": "q3-NakGUPTMr",
        "outputId": "72720e24-58ed-455a-ba8f-fbb93fe60aa3",
        "colab": {
          "base_uri": "https://localhost:8080/"
        }
      },
      "outputs": [
        {
          "output_type": "stream",
          "name": "stdout",
          "text": [
            "Deleting BatchPredictionJob : projects/24006034033/locations/us-central1/batchPredictionJobs/3475395864141234176\n"
          ]
        },
        {
          "output_type": "stream",
          "name": "stderr",
          "text": [
            "INFO:google.cloud.aiplatform.base:Deleting BatchPredictionJob : projects/24006034033/locations/us-central1/batchPredictionJobs/3475395864141234176\n"
          ]
        },
        {
          "output_type": "stream",
          "name": "stdout",
          "text": [
            "Delete BatchPredictionJob  backing LRO: projects/24006034033/locations/us-central1/operations/5607490953557311488\n"
          ]
        },
        {
          "output_type": "stream",
          "name": "stderr",
          "text": [
            "INFO:google.cloud.aiplatform.base:Delete BatchPredictionJob  backing LRO: projects/24006034033/locations/us-central1/operations/5607490953557311488\n"
          ]
        },
        {
          "output_type": "stream",
          "name": "stdout",
          "text": [
            "BatchPredictionJob deleted. . Resource name: projects/24006034033/locations/us-central1/batchPredictionJobs/3475395864141234176\n"
          ]
        },
        {
          "output_type": "stream",
          "name": "stderr",
          "text": [
            "INFO:google.cloud.aiplatform.base:BatchPredictionJob deleted. . Resource name: projects/24006034033/locations/us-central1/batchPredictionJobs/3475395864141234176\n"
          ]
        }
      ],
      "source": [
        "for prefix in [\"my_mnist_model/\", \"my_mnist_batch/\", \"my_mnist_predictions/\"]:\n",
        "    blobs = bucket.list_blobs(prefix=prefix)\n",
        "    for blob in blobs:\n",
        "        blob.delete()\n",
        "\n",
        "#bucket.delete()  # uncomment and run if you want to delete the bucket itself\n",
        "batch_prediction_job.delete()"
      ]
    },
    {
      "cell_type": "markdown",
      "metadata": {
        "id": "e9ifaL30PTMr"
      },
      "source": [
        "# Deploying a Model to a Mobile or Embedded Device"
      ]
    },
    {
      "cell_type": "code",
      "execution_count": 97,
      "metadata": {
        "id": "uzSmaw5nPTMs"
      },
      "outputs": [],
      "source": [
        "converter = tf.lite.TFLiteConverter.from_saved_model(str(model_path))\n",
        "tflite_model = converter.convert()\n",
        "with open(\"my_converted_savedmodel.tflite\", \"wb\") as f:\n",
        "    f.write(tflite_model)"
      ]
    },
    {
      "cell_type": "code",
      "execution_count": 98,
      "metadata": {
        "id": "Pi_nNx-hPTMs"
      },
      "outputs": [],
      "source": [
        "# extra code – shows how to convert a Keras model\n",
        "converter = tf.lite.TFLiteConverter.from_keras_model(model)"
      ]
    },
    {
      "cell_type": "code",
      "execution_count": 99,
      "metadata": {
        "id": "tzdP2RzFPTMt"
      },
      "outputs": [],
      "source": [
        "converter.optimizations = [tf.lite.Optimize.DEFAULT]"
      ]
    },
    {
      "cell_type": "code",
      "execution_count": 100,
      "metadata": {
        "id": "-f_RXb8mPTMt",
        "outputId": "af593c10-30b2-4163-dddc-30937f463800",
        "colab": {
          "base_uri": "https://localhost:8080/"
        }
      },
      "outputs": [
        {
          "output_type": "stream",
          "name": "stderr",
          "text": [
            "WARNING:absl:Found untraced functions such as _update_step_xla while saving (showing 1 of 1). These functions will not be directly callable after loading.\n"
          ]
        }
      ],
      "source": [
        "tflite_model = converter.convert()\n",
        "with open(\"my_converted_keras_model.tflite\", \"wb\") as f:\n",
        "    f.write(tflite_model)"
      ]
    },
    {
      "cell_type": "markdown",
      "metadata": {
        "id": "QncpPXMgPTMu"
      },
      "source": [
        "# Running a Model in a Web Page"
      ]
    },
    {
      "cell_type": "markdown",
      "metadata": {
        "id": "3pxaAQcZPTMu"
      },
      "source": [
        "Code examples for this section are hosted on glitch.com, a website that lets you create Web apps for free.\n",
        "\n",
        "* https://homl.info/tfjscode: a simple TFJS Web app that loads a pretrained model and classifies an image.\n",
        "* https://homl.info/tfjswpa: the same Web app setup as a WPA. Try opening this link on various platforms, including mobile devices.\n",
        "** https://homl.info/wpacode: this WPA's source code.\n",
        "* https://tensorflow.org/js: The TFJS library.\n",
        "** https://www.tensorflow.org/js/demos: some fun demos."
      ]
    },
    {
      "cell_type": "markdown",
      "metadata": {
        "id": "XEmG_gSgPTMu"
      },
      "source": [
        "# Using GPUs to Speed Up Computations"
      ]
    },
    {
      "cell_type": "markdown",
      "metadata": {
        "id": "nsmyzGwBPTMv"
      },
      "source": [
        "Let's check that TensorFlow can see the GPU:"
      ]
    },
    {
      "cell_type": "code",
      "execution_count": 101,
      "metadata": {
        "id": "B_s98f9iPTMv",
        "outputId": "a80aac58-c798-42ef-943b-ab418921d65a",
        "colab": {
          "base_uri": "https://localhost:8080/"
        }
      },
      "outputs": [
        {
          "output_type": "execute_result",
          "data": {
            "text/plain": [
              "[]"
            ]
          },
          "metadata": {},
          "execution_count": 101
        }
      ],
      "source": [
        "physical_gpus = tf.config.list_physical_devices(\"GPU\")\n",
        "physical_gpus"
      ]
    },
    {
      "cell_type": "markdown",
      "metadata": {
        "id": "ELS7jINmPTMv"
      },
      "source": [
        "If you want your TensorFlow script to use only GPUs \\#0 and \\#1 (based on PCI order), then you can set the environment variables `CUDA_DEVICE_ORDER=PCI_BUS_ID` and `CUDA_VISIBLE_DEVICES=0,1` before starting your script, or in the script itself before using TensorFlow."
      ]
    },
    {
      "cell_type": "markdown",
      "metadata": {
        "id": "orkVuy4JPTMw"
      },
      "source": [
        "## Managing the GPU RAM"
      ]
    },
    {
      "cell_type": "markdown",
      "metadata": {
        "id": "52Oe4R-dPTMx"
      },
      "source": [
        "To limit the amount of RAM to 2GB per GPU:"
      ]
    },
    {
      "cell_type": "code",
      "execution_count": 102,
      "metadata": {
        "id": "P6MC2R38PTMx"
      },
      "outputs": [],
      "source": [
        "#for gpu in physical_gpus:\n",
        "#    tf.config.set_logical_device_configuration(\n",
        "#        gpu,\n",
        "#        [tf.config.LogicalDeviceConfiguration(memory_limit=2048)]\n",
        "#    )"
      ]
    },
    {
      "cell_type": "markdown",
      "metadata": {
        "id": "s6KzddbKPTMx"
      },
      "source": [
        "To make TensorFlow grab memory as it needs it (only releasing it when the process shuts down):"
      ]
    },
    {
      "cell_type": "code",
      "execution_count": 103,
      "metadata": {
        "id": "cQHHrYFxPTMy"
      },
      "outputs": [],
      "source": [
        "#for gpu in physical_gpus:\n",
        "#    tf.config.experimental.set_memory_growth(gpu, True)"
      ]
    },
    {
      "cell_type": "markdown",
      "metadata": {
        "id": "2-OhBdgEPTMy"
      },
      "source": [
        "Equivalently, you can set the `TF_FORCE_GPU_ALLOW_GROWTH` environment variable to `true` before using TensorFlow."
      ]
    },
    {
      "cell_type": "markdown",
      "metadata": {
        "id": "P59UAK97PTMy"
      },
      "source": [
        "To split a physical GPU into two logical GPUs:"
      ]
    },
    {
      "cell_type": "code",
      "execution_count": 104,
      "metadata": {
        "id": "Vb5setmUPTMz"
      },
      "outputs": [],
      "source": [
        "#tf.config.set_logical_device_configuration(\n",
        "#    physical_gpus[0],\n",
        "#    [tf.config.LogicalDeviceConfiguration(memory_limit=2048),\n",
        "#     tf.config.LogicalDeviceConfiguration(memory_limit=2048)]\n",
        "#)"
      ]
    },
    {
      "cell_type": "code",
      "execution_count": 105,
      "metadata": {
        "id": "C1Ppire1PTM0",
        "outputId": "2cbfae1a-52da-4433-fa70-b1ca85e79931",
        "colab": {
          "base_uri": "https://localhost:8080/"
        }
      },
      "outputs": [
        {
          "output_type": "execute_result",
          "data": {
            "text/plain": [
              "[]"
            ]
          },
          "metadata": {},
          "execution_count": 105
        }
      ],
      "source": [
        "logical_gpus = tf.config.list_logical_devices(\"GPU\")\n",
        "logical_gpus"
      ]
    },
    {
      "cell_type": "markdown",
      "metadata": {
        "id": "Yp24f61jPTM1"
      },
      "source": [
        "## Placing Operations and Variables on Devices"
      ]
    },
    {
      "cell_type": "markdown",
      "metadata": {
        "id": "jhcLUyuGPTM1"
      },
      "source": [
        "To log every variable and operation placement (this must be run just after importing TensorFlow):"
      ]
    },
    {
      "cell_type": "code",
      "execution_count": 106,
      "metadata": {
        "id": "BpRXwWtGPTM3"
      },
      "outputs": [],
      "source": [
        "#tf.get_logger().setLevel(\"DEBUG\")  # log level is INFO by default\n",
        "#tf.debugging.set_log_device_placement(True)"
      ]
    },
    {
      "cell_type": "code",
      "execution_count": 107,
      "metadata": {
        "id": "dhd0XPaJPTM3",
        "outputId": "7ed43167-2aaf-4141-d74e-dfe125e38ab2",
        "colab": {
          "base_uri": "https://localhost:8080/",
          "height": 35
        }
      },
      "outputs": [
        {
          "output_type": "execute_result",
          "data": {
            "text/plain": [
              "'/job:localhost/replica:0/task:0/device:CPU:0'"
            ],
            "application/vnd.google.colaboratory.intrinsic+json": {
              "type": "string"
            }
          },
          "metadata": {},
          "execution_count": 107
        }
      ],
      "source": [
        "a = tf.Variable([1., 2., 3.])  # float32 variable goes to the GPU\n",
        "a.device"
      ]
    },
    {
      "cell_type": "code",
      "execution_count": 108,
      "metadata": {
        "id": "ZjDNoIpiPTM4",
        "outputId": "5bb44fa3-7bb7-411f-eebf-a37156eaa634",
        "colab": {
          "base_uri": "https://localhost:8080/",
          "height": 35
        }
      },
      "outputs": [
        {
          "output_type": "execute_result",
          "data": {
            "text/plain": [
              "'/job:localhost/replica:0/task:0/device:CPU:0'"
            ],
            "application/vnd.google.colaboratory.intrinsic+json": {
              "type": "string"
            }
          },
          "metadata": {},
          "execution_count": 108
        }
      ],
      "source": [
        "b = tf.Variable([1, 2, 3])  # int32 variable goes to the CPU\n",
        "b.device"
      ]
    },
    {
      "cell_type": "markdown",
      "metadata": {
        "id": "E_GyZa2-PTM5"
      },
      "source": [
        "You can place variables and operations manually on the desired device using a `tf.device()` context:"
      ]
    },
    {
      "cell_type": "code",
      "execution_count": 109,
      "metadata": {
        "id": "u97DZbD1PTM6",
        "outputId": "13d227bc-a443-4215-add1-6ec8766246a9",
        "colab": {
          "base_uri": "https://localhost:8080/",
          "height": 35
        }
      },
      "outputs": [
        {
          "output_type": "execute_result",
          "data": {
            "text/plain": [
              "'/job:localhost/replica:0/task:0/device:CPU:0'"
            ],
            "application/vnd.google.colaboratory.intrinsic+json": {
              "type": "string"
            }
          },
          "metadata": {},
          "execution_count": 109
        }
      ],
      "source": [
        "with tf.device(\"/cpu:0\"):\n",
        "    c = tf.Variable([1., 2., 3.])\n",
        "\n",
        "c.device"
      ]
    },
    {
      "cell_type": "markdown",
      "metadata": {
        "id": "9kSjz1fePTM7"
      },
      "source": [
        "If you specify a device that does not exist, or for which there is no kernel, TensorFlow will silently fallback to the default placement:"
      ]
    },
    {
      "cell_type": "code",
      "execution_count": 110,
      "metadata": {
        "id": "rU8tMT-XPTM8",
        "outputId": "ae9f4efc-cbce-4b5a-f602-74c06c1221be",
        "colab": {
          "base_uri": "https://localhost:8080/",
          "height": 35
        }
      },
      "outputs": [
        {
          "output_type": "execute_result",
          "data": {
            "text/plain": [
              "'/job:localhost/replica:0/task:0/device:CPU:0'"
            ],
            "application/vnd.google.colaboratory.intrinsic+json": {
              "type": "string"
            }
          },
          "metadata": {},
          "execution_count": 110
        }
      ],
      "source": [
        "# extra code\n",
        "\n",
        "with tf.device(\"/gpu:1234\"):\n",
        "    d = tf.Variable([1., 2., 3.])\n",
        "\n",
        "d.device"
      ]
    },
    {
      "cell_type": "markdown",
      "metadata": {
        "id": "UrUdWaNIPTM9"
      },
      "source": [
        "If you want TensorFlow to throw an exception when you try to use a device that does not exist, instead of falling back to the default device:"
      ]
    },
    {
      "cell_type": "code",
      "execution_count": 111,
      "metadata": {
        "id": "JvAInLVAPTM-",
        "outputId": "6676504a-f5b3-4e58-825e-ae7a1dc07e72",
        "colab": {
          "base_uri": "https://localhost:8080/"
        }
      },
      "outputs": [
        {
          "output_type": "stream",
          "name": "stdout",
          "text": [
            "Could not satisfy device specification '/job:localhost/replica:0/task:0/device:GPU:1000'. enable_soft_placement=0. Supported device types [CPU]. All available devices [/job:localhost/replica:0/task:0/device:CPU:0].\n"
          ]
        }
      ],
      "source": [
        "tf.config.set_soft_device_placement(False)\n",
        "\n",
        "# extra code\n",
        "try:\n",
        "    with tf.device(\"/gpu:1000\"):\n",
        "        d = tf.Variable([1., 2., 3.])\n",
        "except tf.errors.InvalidArgumentError as ex:\n",
        "    print(ex)\n",
        "\n",
        "tf.config.set_soft_device_placement(True)  # extra code – back to soft placement"
      ]
    },
    {
      "cell_type": "markdown",
      "metadata": {
        "id": "r3-VKVXUPTM-"
      },
      "source": [
        "## Parallel Execution Across Multiple Devices"
      ]
    },
    {
      "cell_type": "markdown",
      "metadata": {
        "id": "0WWH2ltcPTM_"
      },
      "source": [
        "If you want to set the number of inter-op or intra-op threads (this may be useful if you want to avoid saturating the CPU, or if you want to make TensorFlow single-threaded, to run a perfectly reproducible test case):"
      ]
    },
    {
      "cell_type": "code",
      "execution_count": null,
      "metadata": {
        "id": "dXnEszpAPTM_"
      },
      "outputs": [],
      "source": [
        "#tf.config.threading.set_inter_op_parallelism_threads(10)\n",
        "#tf.config.threading.set_intra_op_parallelism_threads(10)"
      ]
    },
    {
      "cell_type": "markdown",
      "metadata": {
        "tags": [],
        "id": "Tt1HOOPYPTNA"
      },
      "source": [
        "# Training Models Across Multiple Devices"
      ]
    },
    {
      "cell_type": "markdown",
      "metadata": {
        "id": "NdpcauZoPTNB"
      },
      "source": [
        "## Training at Scale Using the Distribution Strategies API"
      ]
    },
    {
      "cell_type": "code",
      "execution_count": null,
      "metadata": {
        "id": "m3ZhnZLIPTNB"
      },
      "outputs": [],
      "source": [
        "# extra code – creates a CNN model for MNIST using Keras\n",
        "def create_model():\n",
        "    return tf.keras.Sequential([\n",
        "        tf.keras.layers.Reshape([28, 28, 1], input_shape=[28, 28],\n",
        "                                dtype=tf.uint8),\n",
        "        tf.keras.layers.Rescaling(scale=1 / 255),\n",
        "        tf.keras.layers.Conv2D(filters=64, kernel_size=7, activation=\"relu\",\n",
        "                               padding=\"same\"),\n",
        "        tf.keras.layers.MaxPooling2D(pool_size=2),\n",
        "        tf.keras.layers.Conv2D(filters=128, kernel_size=3, activation=\"relu\",\n",
        "                               padding=\"same\"), \n",
        "        tf.keras.layers.Conv2D(filters=128, kernel_size=3, activation=\"relu\",\n",
        "                               padding=\"same\"),\n",
        "        tf.keras.layers.MaxPooling2D(pool_size=2),\n",
        "        tf.keras.layers.Flatten(),\n",
        "        tf.keras.layers.Dense(units=64, activation=\"relu\"),\n",
        "        tf.keras.layers.Dropout(0.5),\n",
        "        tf.keras.layers.Dense(units=10, activation=\"softmax\"),\n",
        "    ])"
      ]
    },
    {
      "cell_type": "code",
      "execution_count": null,
      "metadata": {
        "id": "BFqoOGwCPTNC"
      },
      "outputs": [],
      "source": [
        "tf.random.set_seed(42)\n",
        "\n",
        "strategy = tf.distribute.MirroredStrategy()\n",
        "\n",
        "with strategy.scope():\n",
        "    model = create_model()  # create a Keras model normally\n",
        "    model.compile(loss=\"sparse_categorical_crossentropy\",\n",
        "                  optimizer=tf.keras.optimizers.SGD(learning_rate=1e-2),\n",
        "                  metrics=[\"accuracy\"])  # compile the model normally\n",
        "\n",
        "batch_size = 100  # preferably divisible by the number of replicas\n",
        "model.fit(X_train, y_train, epochs=10,\n",
        "          validation_data=(X_valid, y_valid), batch_size=batch_size)"
      ]
    },
    {
      "cell_type": "code",
      "execution_count": null,
      "metadata": {
        "id": "X5eBnF2uPTNC",
        "outputId": "ba47fb6d-d988-43d7-b174-308544b2f15d"
      },
      "outputs": [
        {
          "data": {
            "text/plain": [
              "tensorflow.python.distribute.values.MirroredVariable"
            ]
          },
          "execution_count": 64,
          "metadata": {},
          "output_type": "execute_result"
        }
      ],
      "source": [
        "type(model.weights[0])"
      ]
    },
    {
      "cell_type": "code",
      "execution_count": null,
      "metadata": {
        "id": "zgNbpJQTPTND",
        "outputId": "19754ba9-dc57-4ebd-ce2a-2fa12d008368"
      },
      "outputs": [
        {
          "name": "stdout",
          "output_type": "stream",
          "text": [
            "array([[0., 0., 0., 0., 0., 0., 0., 1., 0., 0.],\n",
            "       [0., 0., 1., 0., 0., 0., 0., 0., 0., 0.],\n",
            "       [0., 1., 0., 0., 0., 0., 0., 0., 0., 0.]], dtype=float32)\n"
          ]
        }
      ],
      "source": [
        "model.predict(X_new).round(2)  # extra code – the batch is split across all replicas"
      ]
    },
    {
      "cell_type": "code",
      "execution_count": null,
      "metadata": {
        "id": "DgHw4SaxPTND",
        "outputId": "5e0f8c33-5782-42b2-a2be-98cbd5f1fc6f"
      },
      "outputs": [
        {
          "name": "stdout",
          "output_type": "stream",
          "text": [
            "INFO:tensorflow:Assets written to: my_mirrored_model/assets\n"
          ]
        },
        {
          "data": {
            "text/plain": [
              "tensorflow.python.ops.resource_variable_ops.ResourceVariable"
            ]
          },
          "execution_count": 66,
          "metadata": {},
          "output_type": "execute_result"
        }
      ],
      "source": [
        "# extra code – shows that saving a model does not preserve its distribution\n",
        "#              strategy\n",
        "model.save(\"my_mirrored_model\", save_format=\"tf\")\n",
        "model = tf.keras.models.load_model(\"my_mirrored_model\")\n",
        "type(model.weights[0])"
      ]
    },
    {
      "cell_type": "code",
      "execution_count": null,
      "metadata": {
        "id": "tylSFfSIPTNE"
      },
      "outputs": [],
      "source": [
        "with strategy.scope():\n",
        "    model = tf.keras.models.load_model(\"my_mirrored_model\")"
      ]
    },
    {
      "cell_type": "code",
      "execution_count": null,
      "metadata": {
        "id": "XeLo8FsWPTNE",
        "outputId": "a96a3859-4756-44f0-9877-aacb4fe35a69"
      },
      "outputs": [
        {
          "name": "stdout",
          "output_type": "stream",
          "text": [
            "tensorflow.python.distribute.values.MirroredVariable\n"
          ]
        }
      ],
      "source": [
        "type(model.weights[0])"
      ]
    },
    {
      "cell_type": "markdown",
      "metadata": {
        "id": "pK8BG45HPTNF"
      },
      "source": [
        "If you want to specify the list of GPUs to use:"
      ]
    },
    {
      "cell_type": "code",
      "execution_count": null,
      "metadata": {
        "id": "wU6Rw3A0PTNF",
        "outputId": "bd88fd8e-94c2-4e88-b3f9-29dd01a2272e"
      },
      "outputs": [
        {
          "name": "stdout",
          "output_type": "stream",
          "text": [
            "WARNING:tensorflow:Some requested devices in `tf.distribute.Strategy` are not visible to TensorFlow: /job:localhost/replica:0/task:0/device:GPU:0,/job:localhost/replica:0/task:0/device:GPU:1\n",
            "INFO:tensorflow:Using MirroredStrategy with devices ('/job:localhost/replica:0/task:0/device:GPU:0', '/job:localhost/replica:0/task:0/device:GPU:1')\n"
          ]
        }
      ],
      "source": [
        "strategy = tf.distribute.MirroredStrategy(devices=[\"/gpu:0\", \"/gpu:1\"])"
      ]
    },
    {
      "cell_type": "markdown",
      "metadata": {
        "id": "zxtipBnOPTNG"
      },
      "source": [
        "If you want to change the default all-reduce algorithm:"
      ]
    },
    {
      "cell_type": "code",
      "execution_count": null,
      "metadata": {
        "id": "oNaityKwPTNG",
        "outputId": "6e7a36aa-a5d0-4651-96bc-0fbb2aa15e3b"
      },
      "outputs": [
        {
          "name": "stdout",
          "output_type": "stream",
          "text": [
            "INFO:tensorflow:Using MirroredStrategy with devices ('/job:localhost/replica:0/task:0/device:CPU:0',)\n"
          ]
        }
      ],
      "source": [
        "strategy = tf.distribute.MirroredStrategy(\n",
        "    cross_device_ops=tf.distribute.HierarchicalCopyAllReduce())"
      ]
    },
    {
      "cell_type": "markdown",
      "metadata": {
        "id": "9GUJU5n7PTNH"
      },
      "source": [
        "If you want to use the `CentralStorageStrategy`:"
      ]
    },
    {
      "cell_type": "code",
      "execution_count": null,
      "metadata": {
        "id": "AZH2NR6vPTNH",
        "outputId": "c295b08e-872e-46aa-9e8c-299f52ad34b6"
      },
      "outputs": [
        {
          "name": "stdout",
          "output_type": "stream",
          "text": [
            "INFO:tensorflow:ParameterServerStrategy (CentralStorageStrategy if you are using a single machine) with compute_devices = ['/job:localhost/replica:0/task:0/device:CPU:0'], variable_device = '/job:localhost/replica:0/task:0/device:CPU:0'\n"
          ]
        }
      ],
      "source": [
        "strategy = tf.distribute.experimental.CentralStorageStrategy()"
      ]
    },
    {
      "cell_type": "code",
      "execution_count": null,
      "metadata": {
        "id": "ZxGnnFHkPTNH"
      },
      "outputs": [],
      "source": [
        "# To train on a TPU in Google Colab:\n",
        "#if \"google.colab\" in sys.modules and \"COLAB_TPU_ADDR\" in os.environ:\n",
        "#  tpu_address = \"grpc://\" + os.environ[\"COLAB_TPU_ADDR\"]\n",
        "#else:\n",
        "#  tpu_address = \"\"\n",
        "#resolver = tf.distribute.cluster_resolver.TPUClusterResolver(tpu_address)\n",
        "#tf.config.experimental_connect_to_cluster(resolver)\n",
        "#tf.tpu.experimental.initialize_tpu_system(resolver)\n",
        "#strategy = tf.distribute.experimental.TPUStrategy(resolver)"
      ]
    },
    {
      "cell_type": "markdown",
      "metadata": {
        "id": "RukiLrxsPTNI"
      },
      "source": [
        "## Training a Model on a TensorFlow Cluster"
      ]
    },
    {
      "cell_type": "markdown",
      "metadata": {
        "id": "UA7F_yZvPTNI"
      },
      "source": [
        "A TensorFlow cluster is a group of TensorFlow processes running in parallel, usually on different machines, and talking to each other to complete some work, for example training or executing a neural network. Each TF process in the cluster is called a \"task\" (or a \"TF server\"). It has an IP address, a port, and a type (also called its role or its job). The type can be `\"worker\"`, `\"chief\"`, `\"ps\"` (parameter server) or `\"evaluator\"`:\n",
        "* Each **worker** performs computations, usually on a machine with one or more GPUs.\n",
        "* The **chief** performs computations as well, but it also handles extra work such as writing TensorBoard logs or saving checkpoints. There is a single chief in a cluster. If it is not defined, then it is worker #0.\n",
        "* A **parameter server** (ps) only keeps track of variable values, it is usually on a CPU-only machine.\n",
        "* The **evaluator** obviously takes care of evaluation. There is usually a single evaluator in a cluster.\n",
        "\n",
        "The set of tasks that share the same type is often called a \"job\". For example, the \"worker\" job is the set of all workers.\n",
        "\n",
        "To start a TensorFlow cluster, you must first define it. This means specifying all the tasks (IP address, TCP port, and type). For example, the following cluster specification defines a cluster with 3 tasks (2 workers and 1 parameter server). It's a dictionary with one key per job, and the values are lists of task addresses:"
      ]
    },
    {
      "cell_type": "code",
      "execution_count": null,
      "metadata": {
        "id": "Q6mEJZ7LPTNI"
      },
      "outputs": [],
      "source": [
        "cluster_spec = {\n",
        "    \"worker\": [\n",
        "        \"machine-a.example.com:2222\",     # /job:worker/task:0\n",
        "        \"machine-b.example.com:2222\"      # /job:worker/task:1\n",
        "    ],\n",
        "    \"ps\": [\"machine-a.example.com:2221\"]  # /job:ps/task:0\n",
        "}"
      ]
    },
    {
      "cell_type": "markdown",
      "metadata": {
        "id": "csKTSbr3PTNJ"
      },
      "source": [
        "Every task in the cluster may communicate with every other task in the server, so make sure to configure your firewall to authorize all communications between these machines on these ports (it's usually simpler if you use the same port on every machine).\n",
        "\n",
        "When a task is started, it needs to be told which one it is: its type and index (the task index is also called the task id). A common way to specify everything at once (both the cluster spec and the current task's type and id) is to set the `TF_CONFIG` environment variable before starting the program. It must be a JSON-encoded dictionary containing a cluster specification (under the `\"cluster\"` key), and the type and index of the task to start (under the `\"task\"` key). For example, the following `TF_CONFIG` environment variable defines the same cluster as above, with 2 workers and 1 parameter server, and specifies that the task to start is worker \\#0:"
      ]
    },
    {
      "cell_type": "code",
      "execution_count": null,
      "metadata": {
        "id": "PNo5euBcPTNJ"
      },
      "outputs": [],
      "source": [
        "os.environ[\"TF_CONFIG\"] = json.dumps({\n",
        "    \"cluster\": cluster_spec,\n",
        "    \"task\": {\"type\": \"worker\", \"index\": 0}\n",
        "})"
      ]
    },
    {
      "cell_type": "markdown",
      "metadata": {
        "id": "mOBVOn-iPTNJ"
      },
      "source": [
        "Some platforms (e.g., Google Vertex AI) automatically set this environment variable for you."
      ]
    },
    {
      "cell_type": "markdown",
      "metadata": {
        "id": "obpC3mB0PTNJ"
      },
      "source": [
        "TensorFlow's `TFConfigClusterResolver` class reads the cluster configuration from this environment variable:"
      ]
    },
    {
      "cell_type": "code",
      "execution_count": null,
      "metadata": {
        "id": "3p0zDTUUPTNL",
        "outputId": "1cb32ec0-bca7-4871-bea4-bfe6f6fdf1fc"
      },
      "outputs": [
        {
          "data": {
            "text/plain": [
              "ClusterSpec({'ps': ['machine-a.example.com:2221'], 'worker': ['machine-a.example.com:2222', 'machine-b.example.com:2222']})"
            ]
          },
          "execution_count": 75,
          "metadata": {},
          "output_type": "execute_result"
        }
      ],
      "source": [
        "resolver = tf.distribute.cluster_resolver.TFConfigClusterResolver()\n",
        "resolver.cluster_spec()"
      ]
    },
    {
      "cell_type": "code",
      "execution_count": null,
      "metadata": {
        "id": "zpntlnfaPTNM",
        "outputId": "9a4af45d-9a62-4af8-c492-bee8f0732a42"
      },
      "outputs": [
        {
          "data": {
            "text/plain": [
              "'worker'"
            ]
          },
          "execution_count": 76,
          "metadata": {},
          "output_type": "execute_result"
        }
      ],
      "source": [
        "resolver.task_type"
      ]
    },
    {
      "cell_type": "code",
      "execution_count": null,
      "metadata": {
        "id": "RsRqAPuPPTNN",
        "outputId": "038ac844-e1c4-4a02-d853-0c0f88c5c3f3"
      },
      "outputs": [
        {
          "data": {
            "text/plain": [
              "0"
            ]
          },
          "execution_count": 77,
          "metadata": {},
          "output_type": "execute_result"
        }
      ],
      "source": [
        "resolver.task_id"
      ]
    },
    {
      "cell_type": "markdown",
      "metadata": {
        "id": "pnQf7FWuPTNO"
      },
      "source": [
        "Now let's run a simpler cluster with just two worker tasks, both running on the local machine. We will use the `MultiWorkerMirroredStrategy` to train a model across these two tasks.\n",
        "\n",
        "The first step is to write the training code. As this code will be used to run both workers, each in its own process, we write this code to a separate Python file, `my_mnist_multiworker_task.py`. The code is relatively straightforward, but there are a couple important things to note:\n",
        "* We create the `MultiWorkerMirroredStrategy` before doing anything else with TensorFlow.\n",
        "* Only one of the workers will take care of logging to TensorBoard. As mentioned earlier, this worker is called the *chief*. When it is not defined explicitly, then by convention it is worker #0."
      ]
    },
    {
      "cell_type": "code",
      "execution_count": null,
      "metadata": {
        "id": "rHerssicPTNO",
        "outputId": "53715efe-ae62-4656-f2a7-f9450adf4a19"
      },
      "outputs": [
        {
          "name": "stdout",
          "output_type": "stream",
          "text": [
            "Writing my_mnist_multiworker_task.py\n"
          ]
        }
      ],
      "source": [
        "%%writefile my_mnist_multiworker_task.py\n",
        "\n",
        "import tempfile\n",
        "import tensorflow as tf\n",
        "\n",
        "strategy = tf.distribute.MultiWorkerMirroredStrategy()  # at the start!\n",
        "resolver = tf.distribute.cluster_resolver.TFConfigClusterResolver()\n",
        "print(f\"Starting task {resolver.task_type} #{resolver.task_id}\")\n",
        "\n",
        "# extra code – Load and split the MNIST dataset\n",
        "mnist = tf.keras.datasets.mnist.load_data()\n",
        "(X_train_full, y_train_full), (X_test, y_test) = mnist\n",
        "X_valid, X_train = X_train_full[:5000], X_train_full[5000:]\n",
        "y_valid, y_train = y_train_full[:5000], y_train_full[5000:]\n",
        "\n",
        "with strategy.scope():\n",
        "    model = tf.keras.Sequential([\n",
        "        tf.keras.layers.Reshape([28, 28, 1], input_shape=[28, 28],\n",
        "                                dtype=tf.uint8),\n",
        "        tf.keras.layers.Rescaling(scale=1 / 255),\n",
        "        tf.keras.layers.Conv2D(filters=64, kernel_size=7, activation=\"relu\",\n",
        "                               padding=\"same\", input_shape=[28, 28, 1]),\n",
        "        tf.keras.layers.MaxPooling2D(pool_size=2),\n",
        "        tf.keras.layers.Conv2D(filters=128, kernel_size=3, activation=\"relu\",\n",
        "                               padding=\"same\"), \n",
        "        tf.keras.layers.Conv2D(filters=128, kernel_size=3, activation=\"relu\",\n",
        "                               padding=\"same\"),\n",
        "        tf.keras.layers.MaxPooling2D(pool_size=2),\n",
        "        tf.keras.layers.Flatten(),\n",
        "        tf.keras.layers.Dense(units=64, activation=\"relu\"),\n",
        "        tf.keras.layers.Dropout(0.5),\n",
        "        tf.keras.layers.Dense(units=10, activation=\"softmax\"),\n",
        "    ])\n",
        "    model.compile(loss=\"sparse_categorical_crossentropy\",\n",
        "                  optimizer=tf.keras.optimizers.SGD(learning_rate=1e-2),\n",
        "                  metrics=[\"accuracy\"])\n",
        "\n",
        "model.fit(X_train, y_train, validation_data=(X_valid, y_valid), epochs=10)\n",
        "\n",
        "if resolver.task_id == 0:  # the chief saves the model to the right location\n",
        "    model.save(\"my_mnist_multiworker_model\", save_format=\"tf\")\n",
        "else:\n",
        "    tmpdir = tempfile.mkdtemp()  # other workers save to a temporary directory\n",
        "    model.save(tmpdir, save_format=\"tf\")\n",
        "    tf.io.gfile.rmtree(tmpdir)  # and we can delete this directory at the end!"
      ]
    },
    {
      "cell_type": "markdown",
      "metadata": {
        "id": "pcdPO0x1PTNP"
      },
      "source": [
        "In a real world application, there would typically be a single worker per machine, but in this example we're running both workers on the same machine, so they will both try to use all the available GPU RAM (if this machine has a GPU), and this will likely lead to an Out-Of-Memory (OOM) error. To avoid this, we could use the `CUDA_VISIBLE_DEVICES` environment variable to assign a different GPU to each worker. Alternatively, we can simply disable GPU support, by setting `CUDA_VISIBLE_DEVICES` to an empty string."
      ]
    },
    {
      "cell_type": "markdown",
      "metadata": {
        "id": "vR2o50LPPTNP"
      },
      "source": [
        "We are now ready to start both workers, each in its own process. Notice that we change the task index:"
      ]
    },
    {
      "cell_type": "code",
      "execution_count": null,
      "metadata": {
        "id": "GdFq-9JVPTNQ"
      },
      "outputs": [],
      "source": [
        "%%bash --bg\n",
        "\n",
        "export CUDA_VISIBLE_DEVICES=''\n",
        "export TF_CONFIG='{\"cluster\": {\"worker\": [\"127.0.0.1:9901\", \"127.0.0.1:9902\"]},\n",
        "                   \"task\": {\"type\": \"worker\", \"index\": 0}}'\n",
        "python my_mnist_multiworker_task.py > my_worker_0.log 2>&1"
      ]
    },
    {
      "cell_type": "code",
      "execution_count": null,
      "metadata": {
        "id": "PciNfTkaPTNR"
      },
      "outputs": [],
      "source": [
        "%%bash --bg\n",
        "\n",
        "export CUDA_VISIBLE_DEVICES=''\n",
        "export TF_CONFIG='{\"cluster\": {\"worker\": [\"127.0.0.1:9901\", \"127.0.0.1:9902\"]},\n",
        "                   \"task\": {\"type\": \"worker\", \"index\": 1}}'\n",
        "python my_mnist_multiworker_task.py > my_worker_1.log 2>&1"
      ]
    },
    {
      "cell_type": "markdown",
      "metadata": {
        "id": "zterOeewPTNR"
      },
      "source": [
        "**Note**: if you get warnings about `AutoShardPolicy`, you can safely ignore them. See [TF issue #42146](https://github.com/tensorflow/tensorflow/issues/42146) for more details."
      ]
    },
    {
      "cell_type": "markdown",
      "metadata": {
        "id": "kIuoxkXAPTNS"
      },
      "source": [
        "That's it! Our TensorFlow cluster is now running, but we can't see it in this notebook because it's running in separate processes (but you can see the progress in `my_worker_*.log`).\n",
        "\n",
        "Since the chief (worker #0) is writing to TensorBoard, we use TensorBoard to view the training progress. Run the following cell, then click on the settings button (i.e., the gear icon) in the TensorBoard interface and check the \"Reload data\" box to make TensorBoard automatically refresh every 30s. Once the first epoch of training is finished (which may take a few minutes), and once TensorBoard refreshes, the SCALARS tab will appear. Click on this tab to view the progress of the model's training and validation accuracy."
      ]
    },
    {
      "cell_type": "code",
      "execution_count": null,
      "metadata": {
        "id": "87t60tenPTNU"
      },
      "outputs": [],
      "source": [
        "%load_ext tensorboard\n",
        "%tensorboard --logdir=./my_mnist_multiworker_logs --port=6006"
      ]
    },
    {
      "cell_type": "code",
      "execution_count": null,
      "metadata": {
        "id": "c8GFV56qPTNV"
      },
      "outputs": [],
      "source": [
        "# strategy = tf.distribute.MultiWorkerMirroredStrategy(\n",
        "#     communication_options=tf.distribute.experimental.CommunicationOptions(\n",
        "#         implementation=tf.distribute.experimental.CollectiveCommunication.NCCL))"
      ]
    },
    {
      "cell_type": "markdown",
      "metadata": {
        "id": "7OA9C0GDPTNX"
      },
      "source": [
        "## Running Large Training Jobs on Vertex AI"
      ]
    },
    {
      "cell_type": "markdown",
      "metadata": {
        "id": "jNB-P5nhPTNY"
      },
      "source": [
        "Let's copy the training script, but add `import os` and change the save path to be the GCS path that the `AIP_MODEL_DIR` environment variable will point to:"
      ]
    },
    {
      "cell_type": "code",
      "execution_count": 113,
      "metadata": {
        "id": "jVgHZckrPTNY",
        "outputId": "5a879942-44cb-4651-d650-1ef6ec2f22a7",
        "colab": {
          "base_uri": "https://localhost:8080/"
        }
      },
      "outputs": [
        {
          "output_type": "stream",
          "name": "stdout",
          "text": [
            "Writing my_vertex_ai_training_task.py\n"
          ]
        }
      ],
      "source": [
        "%%writefile my_vertex_ai_training_task.py\n",
        "\n",
        "import os\n",
        "from pathlib import Path\n",
        "import tempfile\n",
        "import tensorflow as tf\n",
        "\n",
        "strategy = tf.distribute.MultiWorkerMirroredStrategy()  # at the start!\n",
        "resolver = tf.distribute.cluster_resolver.TFConfigClusterResolver()\n",
        "\n",
        "if resolver.task_type == \"chief\":\n",
        "    model_dir = os.getenv(\"AIP_MODEL_DIR\")  # paths provided by Vertex AI\n",
        "    tensorboard_log_dir = os.getenv(\"AIP_TENSORBOARD_LOG_DIR\")\n",
        "    checkpoint_dir = os.getenv(\"AIP_CHECKPOINT_DIR\")\n",
        "else:\n",
        "    tmp_dir = Path(tempfile.mkdtemp())  # other workers use a temporary dirs\n",
        "    model_dir = tmp_dir / \"model\"\n",
        "    tensorboard_log_dir = tmp_dir / \"logs\"\n",
        "    checkpoint_dir = tmp_dir / \"ckpt\"\n",
        "\n",
        "callbacks = [tf.keras.callbacks.TensorBoard(tensorboard_log_dir),\n",
        "             tf.keras.callbacks.ModelCheckpoint(checkpoint_dir)]\n",
        "\n",
        "# extra code – Load and prepare the MNIST dataset\n",
        "mnist = tf.keras.datasets.mnist.load_data()\n",
        "(X_train_full, y_train_full), (X_test, y_test) = mnist\n",
        "X_valid, X_train = X_train_full[:5000], X_train_full[5000:]\n",
        "y_valid, y_train = y_train_full[:5000], y_train_full[5000:]\n",
        "\n",
        "# extra code – build and compile the Keras model using the distribution strategy\n",
        "with strategy.scope():\n",
        "    model = tf.keras.Sequential([\n",
        "        tf.keras.layers.Reshape([28, 28, 1], input_shape=[28, 28],\n",
        "                                dtype=tf.uint8),\n",
        "        tf.keras.layers.Lambda(lambda X: X / 255),\n",
        "        tf.keras.layers.Conv2D(filters=64, kernel_size=7, activation=\"relu\",\n",
        "                               padding=\"same\", input_shape=[28, 28, 1]),\n",
        "        tf.keras.layers.MaxPooling2D(pool_size=2),\n",
        "        tf.keras.layers.Conv2D(filters=128, kernel_size=3, activation=\"relu\",\n",
        "                               padding=\"same\"), \n",
        "        tf.keras.layers.Conv2D(filters=128, kernel_size=3, activation=\"relu\",\n",
        "                               padding=\"same\"),\n",
        "        tf.keras.layers.MaxPooling2D(pool_size=2),\n",
        "        tf.keras.layers.Flatten(),\n",
        "        tf.keras.layers.Dense(units=64, activation=\"relu\"),\n",
        "        tf.keras.layers.Dropout(0.5),\n",
        "        tf.keras.layers.Dense(units=10, activation=\"softmax\"),\n",
        "    ])\n",
        "    model.compile(loss=\"sparse_categorical_crossentropy\",\n",
        "                  optimizer=tf.keras.optimizers.SGD(learning_rate=1e-2),\n",
        "                  metrics=[\"accuracy\"])\n",
        "\n",
        "model.fit(X_train, y_train, validation_data=(X_valid, y_valid), epochs=10,\n",
        "          callbacks=callbacks)\n",
        "model.save(model_dir, save_format=\"tf\")"
      ]
    },
    {
      "cell_type": "code",
      "execution_count": 114,
      "metadata": {
        "id": "9LjrmBfbPTNZ"
      },
      "outputs": [],
      "source": [
        "custom_training_job = aiplatform.CustomTrainingJob(\n",
        "    display_name=\"my_custom_training_job\",\n",
        "    script_path=\"my_vertex_ai_training_task.py\",\n",
        "    container_uri=\"gcr.io/cloud-aiplatform/training/tf-gpu.2-4:latest\",\n",
        "    model_serving_container_image_uri=server_image,\n",
        "    requirements=[\"gcsfs==2022.3.0\"],  # not needed, this is just an example\n",
        "    staging_bucket=f\"gs://{bucket_name}/staging\"\n",
        ")"
      ]
    },
    {
      "cell_type": "code",
      "execution_count": 115,
      "metadata": {
        "id": "jJOh6rXRPTNZ"
      },
      "outputs": [],
      "source": [
        "mnist_model2 = custom_training_job.run(\n",
        "    machine_type=\"n1-standard-4\",\n",
        "    replica_count=2,\n",
        "    accelerator_type=\"NVIDIA_TESLA_K80\",\n",
        "    accelerator_count=2,\n",
        ")"
      ]
    },
    {
      "cell_type": "markdown",
      "metadata": {
        "id": "r1MC5BOYPTNa"
      },
      "source": [
        "Let's clean up:"
      ]
    },
    {
      "cell_type": "code",
      "execution_count": null,
      "metadata": {
        "id": "ms6W9d9YPTNa"
      },
      "outputs": [],
      "source": [
        "mnist_model2.delete()\n",
        "custom_training_job.delete()\n",
        "blobs = bucket.list_blobs(prefix=f\"gs://{bucket_name}/staging/\")\n",
        "for blob in blobs:\n",
        "    blob.delete()"
      ]
    },
    {
      "cell_type": "markdown",
      "metadata": {
        "id": "LNyYFeYKPTNa"
      },
      "source": [
        "# Hyperparameter Tuning on Vertex AI"
      ]
    },
    {
      "cell_type": "code",
      "execution_count": null,
      "metadata": {
        "id": "V2flO9UpPTNa",
        "outputId": "fbdd9d19-5cfd-4dba-8764-6a34b80c3411"
      },
      "outputs": [
        {
          "name": "stdout",
          "output_type": "stream",
          "text": [
            "Writing my_vertex_ai_trial.py\n"
          ]
        }
      ],
      "source": [
        "%%writefile my_vertex_ai_trial.py\n",
        "\n",
        "import argparse\n",
        "\n",
        "parser = argparse.ArgumentParser()\n",
        "parser.add_argument(\"--n_hidden\", type=int, default=2)\n",
        "parser.add_argument(\"--n_neurons\", type=int, default=256)\n",
        "parser.add_argument(\"--learning_rate\", type=float, default=1e-2)\n",
        "parser.add_argument(\"--optimizer\", default=\"adam\")\n",
        "args = parser.parse_args()\n",
        "\n",
        "import tensorflow as tf\n",
        "\n",
        "def build_model(args):\n",
        "    with tf.distribute.MirroredStrategy().scope():\n",
        "        model = tf.keras.Sequential()\n",
        "        model.add(tf.keras.layers.Flatten(input_shape=[28, 28], dtype=tf.uint8))\n",
        "        for _ in range(args.n_hidden):\n",
        "            model.add(tf.keras.layers.Dense(args.n_neurons, activation=\"relu\"))\n",
        "        model.add(tf.keras.layers.Dense(10, activation=\"softmax\"))\n",
        "        opt = tf.keras.optimizers.get(args.optimizer)\n",
        "        opt.learning_rate = args.learning_rate\n",
        "        model.compile(loss=\"sparse_categorical_crossentropy\", optimizer=opt,\n",
        "                      metrics=[\"accuracy\"])\n",
        "        return model\n",
        "\n",
        "# extra code – loads and splits the dataset\n",
        "mnist = tf.keras.datasets.mnist.load_data()\n",
        "(X_train_full, y_train_full), (X_test, y_test) = mnist\n",
        "X_valid, X_train = X_train_full[:5000], X_train_full[5000:]\n",
        "y_valid, y_train = y_train_full[:5000], y_train_full[5000:]\n",
        "\n",
        "# extra code – use the AIP_* environment variable and create the callbacks\n",
        "import os\n",
        "model_dir = os.getenv(\"AIP_MODEL_DIR\")\n",
        "tensorboard_log_dir = os.getenv(\"AIP_TENSORBOARD_LOG_DIR\")\n",
        "checkpoint_dir = os.getenv(\"AIP_CHECKPOINT_DIR\")\n",
        "trial_id = os.getenv(\"CLOUD_ML_TRIAL_ID\")\n",
        "tensorboard_cb = tf.keras.callbacks.TensorBoard(tensorboard_log_dir)\n",
        "early_stopping_cb = tf.keras.callbacks.EarlyStopping(patience=5)\n",
        "callbacks = [tensorboard_cb, early_stopping_cb]\n",
        "\n",
        "model = build_model(args)\n",
        "history = model.fit(X_train, y_train, validation_data=(X_valid, y_valid),\n",
        "                    epochs=10, callbacks=callbacks)\n",
        "model.save(model_dir, save_format=\"tf\")  # extra code\n",
        "\n",
        "import hypertune\n",
        "\n",
        "hypertune = hypertune.HyperTune()\n",
        "hypertune.report_hyperparameter_tuning_metric(\n",
        "    hyperparameter_metric_tag=\"accuracy\",  # name of the reported metric\n",
        "    metric_value=max(history.history[\"val_accuracy\"]),  # max accuracy value\n",
        "    global_step=model.optimizer.iterations.numpy(),\n",
        ")"
      ]
    },
    {
      "cell_type": "code",
      "execution_count": null,
      "metadata": {
        "id": "EbP0iDZlPTNe",
        "outputId": "2b4f046b-07a5-40a9-f1b0-7da23522113e"
      },
      "outputs": [
        {
          "name": "stdout",
          "output_type": "stream",
          "text": [
            "Training script copied to:\n",
            "gs://homl3-mybucket5/staging/aiplatform-2022-04-18-18:14:02.860-aiplatform_custom_trainer_script-0.1.tar.gz.\n"
          ]
        }
      ],
      "source": [
        "trial_job = aiplatform.CustomJob.from_local_script(\n",
        "    display_name=\"my_search_trial_job\",\n",
        "    script_path=\"my_vertex_ai_trial.py\",  # path to your training script\n",
        "    container_uri=\"gcr.io/cloud-aiplatform/training/tf-gpu.2-4:latest\",\n",
        "    staging_bucket=f\"gs://{bucket_name}/staging\",\n",
        "    accelerator_type=\"NVIDIA_TESLA_K80\",\n",
        "    accelerator_count=2,  # in this example, each trial will have 2 GPUs\n",
        ")"
      ]
    },
    {
      "cell_type": "code",
      "execution_count": null,
      "metadata": {
        "id": "4iXZQctKPTNg",
        "outputId": "ea4f5ee3-3df6-4a80-ed81-7faa709313e7"
      },
      "outputs": [
        {
          "name": "stdout",
          "output_type": "stream",
          "text": [
            "Creating HyperparameterTuningJob\n",
            "HyperparameterTuningJob created. Resource name: projects/522977795627/locations/us-central1/hyperparameterTuningJobs/5825136187899117568\n",
            "To use this HyperparameterTuningJob in another session:\n",
            "hpt_job = aiplatform.HyperparameterTuningJob.get('projects/522977795627/locations/us-central1/hyperparameterTuningJobs/5825136187899117568')\n",
            "View HyperparameterTuningJob:\n",
            "https://console.cloud.google.com/ai/platform/locations/us-central1/training/5825136187899117568?project=522977795627\n",
            "HyperparameterTuningJob projects/522977795627/locations/us-central1/hyperparameterTuningJobs/5825136187899117568 current state:\n",
            "JobState.JOB_STATE_RUNNING\n",
            "HyperparameterTuningJob projects/522977795627/locations/us-central1/hyperparameterTuningJobs/5825136187899117568 current state:\n",
            "JobState.JOB_STATE_RUNNING\n",
            "HyperparameterTuningJob projects/522977795627/locations/us-central1/hyperparameterTuningJobs/5825136187899117568 current state:\n",
            "JobState.JOB_STATE_RUNNING\n",
            "HyperparameterTuningJob projects/522977795627/locations/us-central1/hyperparameterTuningJobs/5825136187899117568 current state:\n",
            "JobState.JOB_STATE_RUNNING\n",
            "HyperparameterTuningJob projects/522977795627/locations/us-central1/hyperparameterTuningJobs/5825136187899117568 current state:\n",
            "JobState.JOB_STATE_RUNNING\n",
            "HyperparameterTuningJob projects/522977795627/locations/us-central1/hyperparameterTuningJobs/5825136187899117568 current state:\n",
            "JobState.JOB_STATE_RUNNING\n",
            "HyperparameterTuningJob projects/522977795627/locations/us-central1/hyperparameterTuningJobs/5825136187899117568 current state:\n",
            "JobState.JOB_STATE_RUNNING\n",
            "HyperparameterTuningJob projects/522977795627/locations/us-central1/hyperparameterTuningJobs/5825136187899117568 current state:\n",
            "JobState.JOB_STATE_RUNNING\n",
            "HyperparameterTuningJob projects/522977795627/locations/us-central1/hyperparameterTuningJobs/5825136187899117568 current state:\n",
            "JobState.JOB_STATE_SUCCEEDED\n",
            "HyperparameterTuningJob run completed. Resource name: projects/522977795627/locations/us-central1/hyperparameterTuningJobs/5825136187899117568\n"
          ]
        }
      ],
      "source": [
        "from google.cloud.aiplatform import hyperparameter_tuning as hpt\n",
        "\n",
        "hp_job = aiplatform.HyperparameterTuningJob(\n",
        "    display_name=\"my_hp_search_job\",\n",
        "    custom_job=trial_job,\n",
        "    metric_spec={\"accuracy\": \"maximize\"},\n",
        "    parameter_spec={\n",
        "        \"learning_rate\": hpt.DoubleParameterSpec(min=1e-3, max=10, scale=\"log\"),\n",
        "        \"n_neurons\": hpt.IntegerParameterSpec(min=1, max=300, scale=\"linear\"),\n",
        "        \"n_hidden\": hpt.IntegerParameterSpec(min=1, max=10, scale=\"linear\"),\n",
        "        \"optimizer\": hpt.CategoricalParameterSpec([\"sgd\", \"adam\"]),\n",
        "    },\n",
        "    max_trial_count=100,\n",
        "    parallel_trial_count=20,\n",
        ")\n",
        "hp_job.run()"
      ]
    },
    {
      "cell_type": "code",
      "execution_count": null,
      "metadata": {
        "id": "--BOCr8sPTNg"
      },
      "outputs": [],
      "source": [
        "def get_final_metric(trial, metric_id):\n",
        "    for metric in trial.final_measurement.metrics:\n",
        "        if metric.metric_id == metric_id:\n",
        "            return metric.value\n",
        "\n",
        "trials = hp_job.trials\n",
        "trial_accuracies = [get_final_metric(trial, \"accuracy\") for trial in trials]\n",
        "best_trial = trials[np.argmax(trial_accuracies)]"
      ]
    },
    {
      "cell_type": "code",
      "execution_count": null,
      "metadata": {
        "id": "i4yQ0b7-PTNh",
        "outputId": "2b8421d1-4054-430f-f605-651226843074"
      },
      "outputs": [
        {
          "data": {
            "text/plain": [
              "0.977400004863739"
            ]
          },
          "execution_count": 91,
          "metadata": {},
          "output_type": "execute_result"
        }
      ],
      "source": [
        "max(trial_accuracies)"
      ]
    },
    {
      "cell_type": "code",
      "execution_count": null,
      "metadata": {
        "id": "Kxk0TvQJPTNh",
        "outputId": "3aed50fa-7fb2-4e09-e727-3f1c7ce6e8e8"
      },
      "outputs": [
        {
          "data": {
            "text/plain": [
              "'98'"
            ]
          },
          "execution_count": 92,
          "metadata": {},
          "output_type": "execute_result"
        }
      ],
      "source": [
        "best_trial.id"
      ]
    },
    {
      "cell_type": "code",
      "execution_count": null,
      "metadata": {
        "id": "8PrMI2B-PTNi",
        "outputId": "b5d3b36b-755a-43c6-c0ee-b2b1ec5983cc"
      },
      "outputs": [
        {
          "data": {
            "text/plain": [
              "[parameter_id: \"learning_rate\"\n",
              "value {\n",
              "  number_value: 0.001\n",
              "}\n",
              ", parameter_id: \"n_hidden\"\n",
              "value {\n",
              "  number_value: 8.0\n",
              "}\n",
              ", parameter_id: \"n_neurons\"\n",
              "value {\n",
              "  number_value: 216.0\n",
              "}\n",
              ", parameter_id: \"optimizer\"\n",
              "value {\n",
              "  string_value: \"adam\"\n",
              "}\n",
              "]"
            ]
          },
          "execution_count": 93,
          "metadata": {},
          "output_type": "execute_result"
        }
      ],
      "source": [
        "best_trial.parameters"
      ]
    },
    {
      "cell_type": "markdown",
      "metadata": {
        "id": "hoAyWns0PTNi"
      },
      "source": [
        "# Extra Material – Distributed Keras Tuner on Vertex AI"
      ]
    },
    {
      "cell_type": "markdown",
      "metadata": {
        "id": "KuLjbsMEPTNi"
      },
      "source": [
        "Instead of using Vertex AI's hyperparameter tuning service, you can use [Keras Tuner](https://keras.io/keras_tuner/) (introduced in Chapter 10) and run it on Vertex AI VMs. Keras Tuner provides a simple way to scale hyperparameter search by distributing it across multiple machines: it only requires setting three environment variables on each machine, then running your regular Keras Tuner code on each machine. You can use the exact same script on all machines. One of the machines acts as the chief, and the others act as workers. Each worker asks the chief which hyperparameter values to try—it acts as the oracle—then the worker trains the model using these hyperparameter values, and finally it reports the model's performance back to the chief, which can then decide which hyperparameter values the worker should try next.\n",
        "\n",
        "The three environment variables you need to set on each machine are:\n",
        "\n",
        "* `KERASTUNER_TUNER_ID`: equal to `\"chief\"` on the chief machine, or a unique identifier on each worker machine, such as `\"worker0\"`, `\"worker1\"`, etc.\n",
        "* `KERASTUNER_ORACLE_IP`: the IP address or hostname of the chief machine. The chief itself should generally use `\"0.0.0.0\"` to listen on every IP address on the machine.\n",
        "* `KERASTUNER_ORACLE_PORT`: the TCP port that the chief will be listening on.\n",
        "\n",
        "You can use distributed Keras Tuner on any set of machines. If you want to run it on Vertex AI machines, then you can spawn a regular training job, and just modify the training script to set the three environment variables properly before using Keras Tuner.\n",
        "\n",
        "For example, the script below starts by parsing the `TF_CONFIG` environment variable, which will be automatically set by Vertex AI, just like earlier. It finds the address of the task of type `\"chief\"`, and it extracts the IP address or hostname, and the TCP port. It then defines the tuner ID as the task type followed by the task index, for example `\"worker0\"`. If the tuner ID is `\"chief0\"`, it changes it to `\"chief\"`, and it sets the IP to `\"0.0.0.0\"`: this will make it listen on all IPv4 address on its machine. Then it defines the environment variables for Keras Tuner. Next, the script creates a tuner, just like in Chapter 10, the it runs the search, and finally it saves the best model to the location given by Vertex AI:"
      ]
    },
    {
      "cell_type": "code",
      "execution_count": null,
      "metadata": {
        "id": "solh1Aj4PTNj",
        "outputId": "d952445e-376d-47b4-e944-436ae4b40334"
      },
      "outputs": [
        {
          "name": "stdout",
          "output_type": "stream",
          "text": [
            "Writing my_keras_tuner_search.py\n"
          ]
        }
      ],
      "source": [
        "%%writefile my_keras_tuner_search.py\n",
        "\n",
        "import json\n",
        "import os\n",
        "\n",
        "tf_config = json.loads(os.environ[\"TF_CONFIG\"])\n",
        "\n",
        "chief_ip, chief_port = tf_config[\"cluster\"][\"chief\"][0].rsplit(\":\", 1)\n",
        "tuner_id = f'{tf_config[\"task\"][\"type\"]}{tf_config[\"task\"][\"index\"]}'\n",
        "if tuner_id == \"chief0\":\n",
        "    tuner_id = \"chief\"\n",
        "    chief_ip = \"0.0.0.0\"\n",
        "    # extra code – since the chief doesn't work much, you can optimize compute\n",
        "    # resources by running a worker on the same machine. To do this, you can\n",
        "    # just make the chief start another process, after tweaking the TF_CONFIG\n",
        "    # environment variable to set the task type to \"worker\" and the task index\n",
        "    # to a unique value. Uncomment the next few lines to give this a try:\n",
        "    # import subprocess\n",
        "    # import sys\n",
        "    # tf_config[\"task\"][\"type\"] = \"workerX\"  # the worker on the chief's machine\n",
        "    # os.environ[\"TF_CONFIG\"] = json.dumps(tf_config)\n",
        "    # subprocess.Popen([sys.executable] + sys.argv,\n",
        "    #                  stdout=sys.stdout, stderr=sys.stderr)\n",
        "\n",
        "os.environ[\"KERASTUNER_TUNER_ID\"] = tuner_id\n",
        "os.environ[\"KERASTUNER_ORACLE_IP\"] = chief_ip\n",
        "os.environ[\"KERASTUNER_ORACLE_PORT\"] = chief_port\n",
        "\n",
        "from pathlib import Path\n",
        "import keras_tuner as kt\n",
        "import tensorflow as tf\n",
        "\n",
        "gcs_path = \"/gcs/my_bucket/my_hp_search\"  # replace with your bucket's name\n",
        "\n",
        "def build_model(hp):\n",
        "    n_hidden = hp.Int(\"n_hidden\", min_value=0, max_value=8, default=2)\n",
        "    n_neurons = hp.Int(\"n_neurons\", min_value=16, max_value=256)\n",
        "    learning_rate = hp.Float(\"learning_rate\", min_value=1e-4, max_value=1e-2,\n",
        "                             sampling=\"log\")\n",
        "    optimizer = hp.Choice(\"optimizer\", values=[\"sgd\", \"adam\"])\n",
        "    if optimizer == \"sgd\":\n",
        "        optimizer = tf.keras.optimizers.SGD(learning_rate=learning_rate)\n",
        "    else:\n",
        "        optimizer = tf.keras.optimizers.Adam(learning_rate=learning_rate)\n",
        "\n",
        "    model = tf.keras.Sequential()\n",
        "    model.add(tf.keras.layers.Flatten(input_shape=[28, 28], dtype=tf.uint8))\n",
        "    for _ in range(n_hidden):\n",
        "        model.add(tf.keras.layers.Dense(n_neurons, activation=\"relu\"))\n",
        "    model.add(tf.keras.layers.Dense(10, activation=\"softmax\"))\n",
        "    model.compile(loss=\"sparse_categorical_crossentropy\",\n",
        "                  optimizer=optimizer,\n",
        "                  metrics=[\"accuracy\"])\n",
        "    return model\n",
        "\n",
        "hyperband_tuner = kt.Hyperband(\n",
        "    build_model, objective=\"val_accuracy\", seed=42,\n",
        "    max_epochs=10, factor=3, hyperband_iterations=2,\n",
        "    distribution_strategy=tf.distribute.MirroredStrategy(),\n",
        "    directory=gcs_path, project_name=\"mnist\")\n",
        "\n",
        "# extra code – Load and split the MNIST dataset\n",
        "mnist = tf.keras.datasets.mnist.load_data()\n",
        "(X_train_full, y_train_full), (X_test, y_test) = mnist\n",
        "X_valid, X_train = X_train_full[:5000], X_train_full[5000:]\n",
        "y_valid, y_train = y_train_full[:5000], y_train_full[5000:]\n",
        "\n",
        "tensorboard_log_dir = os.environ[\"AIP_TENSORBOARD_LOG_DIR\"] + \"/\" + tuner_id\n",
        "tensorboard_cb = tf.keras.callbacks.TensorBoard(tensorboard_log_dir)\n",
        "early_stopping_cb = tf.keras.callbacks.EarlyStopping(patience=5)\n",
        "hyperband_tuner.search(X_train, y_train, epochs=10,\n",
        "                       validation_data=(X_valid, y_valid),\n",
        "                       callbacks=[tensorboard_cb, early_stopping_cb])\n",
        "\n",
        "if tuner_id == \"chief\":\n",
        "    best_hp = hyperband_tuner.get_best_hyperparameters()[0]\n",
        "    best_model = hyperband_tuner.hypermodel.build(best_hp)\n",
        "    best_model.save(os.getenv(\"AIP_MODEL_DIR\"), save_format=\"tf\")"
      ]
    },
    {
      "cell_type": "markdown",
      "metadata": {
        "id": "Zak2keDfPTNk"
      },
      "source": [
        "Note that Vertex AI automatically mounts the `/gcs` directory to GCS, using the open source [GCS Fuse adapter](https://cloud.google.com/storage/docs/gcs-fuse). This gives us a shared directory across the workers and the chief, which is required by Keras Tuner. Also note that we set the distribution strategy to a `MirroredStrategy`. This will allow each worker to use all the GPUs on its machine, if there's more than one.\n"
      ]
    },
    {
      "cell_type": "markdown",
      "metadata": {
        "id": "Qg-oGvG1PTNk"
      },
      "source": [
        "Replace `/gcs/my_bucket/` with <code>/gcs/<i>{bucket_name}</i>/</code>:"
      ]
    },
    {
      "cell_type": "code",
      "execution_count": null,
      "metadata": {
        "id": "otzD3wfOPTNl"
      },
      "outputs": [],
      "source": [
        "with open(\"my_keras_tuner_search.py\") as f:\n",
        "    script = f.read()\n",
        "\n",
        "with open(\"my_keras_tuner_search.py\", \"w\") as f:\n",
        "    f.write(script.replace(\"/gcs/my_bucket/\", f\"/gcs/{bucket_name}/\"))"
      ]
    },
    {
      "cell_type": "markdown",
      "metadata": {
        "id": "KtAtAqfmPTNl"
      },
      "source": [
        "Now all we need to do is to start a custom training job based on this script, exactly like in the previous section. Don't forget to add `keras-tuner` to the list of `requirements`:"
      ]
    },
    {
      "cell_type": "code",
      "execution_count": null,
      "metadata": {
        "id": "_XqtRCPxPTNl"
      },
      "outputs": [],
      "source": [
        "hp_search_job = aiplatform.CustomTrainingJob(\n",
        "    display_name=\"my_hp_search_job\",\n",
        "    script_path=\"my_keras_tuner_search.py\",\n",
        "    container_uri=\"gcr.io/cloud-aiplatform/training/tf-gpu.2-4:latest\",\n",
        "    model_serving_container_image_uri=server_image,\n",
        "    requirements=[\"keras-tuner~=1.1.2\"],\n",
        "    staging_bucket=f\"gs://{bucket_name}/staging\",\n",
        ")"
      ]
    },
    {
      "cell_type": "code",
      "execution_count": null,
      "metadata": {
        "id": "jgZ7XV7wPTNm",
        "outputId": "e2a45dd1-2981-4b84-e429-0a755a6af906"
      },
      "outputs": [
        {
          "name": "stdout",
          "output_type": "stream",
          "text": [
            "Training script copied to:\n",
            "gs://my_bucket/staging/aiplatform-2022-04-15-13:34:32.591-aiplatform_custom_trainer_script-0.1.tar.gz.\n",
            "Training Output directory:\n",
            "gs://my_bucket/staging/aiplatform-custom-training-2022-04-15-13:34:34.453 \n",
            "View Training:\n",
            "https://console.cloud.google.com/ai/platform/locations/us-central1/training/8601543785521872896?project=522977795627\n",
            "View backing custom job:\n",
            "https://console.cloud.google.com/ai/platform/locations/us-central1/training/5022607048831926272?project=522977795627\n",
            "CustomTrainingJob projects/522977795627/locations/us-central1/trainingPipelines/8601543785521872896 current state:\n",
            "PipelineState.PIPELINE_STATE_RUNNING\n",
            "CustomTrainingJob projects/522977795627/locations/us-central1/trainingPipelines/8601543785521872896 current state:\n",
            "PipelineState.PIPELINE_STATE_RUNNING\n",
            "CustomTrainingJob projects/522977795627/locations/us-central1/trainingPipelines/8601543785521872896 current state:\n",
            "PipelineState.PIPELINE_STATE_RUNNING\n",
            "CustomTrainingJob projects/522977795627/locations/us-central1/trainingPipelines/8601543785521872896 current state:\n",
            "PipelineState.PIPELINE_STATE_RUNNING\n",
            "CustomTrainingJob projects/522977795627/locations/us-central1/trainingPipelines/8601543785521872896 current state:\n",
            "PipelineState.PIPELINE_STATE_RUNNING\n",
            "CustomTrainingJob projects/522977795627/locations/us-central1/trainingPipelines/8601543785521872896 current state:\n",
            "PipelineState.PIPELINE_STATE_RUNNING\n",
            "CustomTrainingJob projects/522977795627/locations/us-central1/trainingPipelines/8601543785521872896 current state:\n",
            "PipelineState.PIPELINE_STATE_RUNNING\n",
            "CustomTrainingJob projects/522977795627/locations/us-central1/trainingPipelines/8601543785521872896 current state:\n",
            "PipelineState.PIPELINE_STATE_RUNNING\n",
            "CustomTrainingJob projects/522977795627/locations/us-central1/trainingPipelines/8601543785521872896 current state:\n",
            "PipelineState.PIPELINE_STATE_RUNNING\n",
            "CustomTrainingJob projects/522977795627/locations/us-central1/trainingPipelines/8601543785521872896 current state:\n",
            "PipelineState.PIPELINE_STATE_RUNNING\n",
            "CustomTrainingJob projects/522977795627/locations/us-central1/trainingPipelines/8601543785521872896 current state:\n",
            "PipelineState.PIPELINE_STATE_RUNNING\n",
            "CustomTrainingJob projects/522977795627/locations/us-central1/trainingPipelines/8601543785521872896 current state:\n",
            "PipelineState.PIPELINE_STATE_RUNNING\n",
            "CustomTrainingJob projects/522977795627/locations/us-central1/trainingPipelines/8601543785521872896 current state:\n",
            "PipelineState.PIPELINE_STATE_RUNNING\n",
            "CustomTrainingJob projects/522977795627/locations/us-central1/trainingPipelines/8601543785521872896 current state:\n",
            "PipelineState.PIPELINE_STATE_RUNNING\n",
            "CustomTrainingJob projects/522977795627/locations/us-central1/trainingPipelines/8601543785521872896 current state:\n",
            "PipelineState.PIPELINE_STATE_RUNNING\n",
            "CustomTrainingJob projects/522977795627/locations/us-central1/trainingPipelines/8601543785521872896 current state:\n",
            "PipelineState.PIPELINE_STATE_RUNNING\n",
            "CustomTrainingJob projects/522977795627/locations/us-central1/trainingPipelines/8601543785521872896 current state:\n",
            "PipelineState.PIPELINE_STATE_RUNNING\n",
            "CustomTrainingJob projects/522977795627/locations/us-central1/trainingPipelines/8601543785521872896 current state:\n",
            "PipelineState.PIPELINE_STATE_RUNNING\n",
            "CustomTrainingJob projects/522977795627/locations/us-central1/trainingPipelines/8601543785521872896 current state:\n",
            "PipelineState.PIPELINE_STATE_RUNNING\n",
            "CustomTrainingJob projects/522977795627/locations/us-central1/trainingPipelines/8601543785521872896 current state:\n",
            "PipelineState.PIPELINE_STATE_RUNNING\n",
            "CustomTrainingJob projects/522977795627/locations/us-central1/trainingPipelines/8601543785521872896 current state:\n",
            "PipelineState.PIPELINE_STATE_RUNNING\n",
            "CustomTrainingJob projects/522977795627/locations/us-central1/trainingPipelines/8601543785521872896 current state:\n",
            "PipelineState.PIPELINE_STATE_RUNNING\n",
            "CustomTrainingJob run completed. Resource name: projects/522977795627/locations/us-central1/trainingPipelines/8601543785521872896\n",
            "Model available at projects/522977795627/locations/us-central1/models/8176544832480168612\n",
            "\n"
          ]
        }
      ],
      "source": [
        "mnist_model3 = hp_search_job.run(\n",
        "    machine_type=\"n1-standard-4\",\n",
        "    replica_count=3,\n",
        "    accelerator_type=\"NVIDIA_TESLA_K80\",\n",
        "    accelerator_count=2,\n",
        ")"
      ]
    },
    {
      "cell_type": "markdown",
      "metadata": {
        "id": "yCWOPx-lPTNm"
      },
      "source": [
        "And we have a model!"
      ]
    },
    {
      "cell_type": "markdown",
      "metadata": {
        "id": "vC8hdGdHPTNm"
      },
      "source": [
        "Let's clean up:"
      ]
    },
    {
      "cell_type": "code",
      "execution_count": null,
      "metadata": {
        "id": "b8JO567IPTNo"
      },
      "outputs": [],
      "source": [
        "mnist_model3.delete()\n",
        "hp_search_job.delete()\n",
        "blobs = bucket.list_blobs(prefix=f\"gs://{bucket_name}/staging/\")\n",
        "for blob in blobs:\n",
        "    blob.delete()"
      ]
    },
    {
      "cell_type": "markdown",
      "metadata": {
        "id": "0lglffSqPTNp"
      },
      "source": [
        "# Extra Material – Using AutoML to Train a Model"
      ]
    },
    {
      "cell_type": "markdown",
      "metadata": {
        "id": "whQvwoZiPTNp"
      },
      "source": [
        "Let's start by exporting the MNIST dataset to PNG images, and prepare an `import.csv` pointing to each image, and indicating the split (training, validation, or test) and the label:"
      ]
    },
    {
      "cell_type": "code",
      "execution_count": null,
      "metadata": {
        "id": "SM2OaDVwPTNq",
        "outputId": "22a66bab-29fa-4cbf-9980-7e2d10b5908c"
      },
      "outputs": [
        {
          "name": "stdout",
          "output_type": "stream",
          "text": [
            "70000/70000"
          ]
        }
      ],
      "source": [
        "import matplotlib.pyplot as plt\n",
        "\n",
        "mnist_path = Path(\"datasets/mnist\")\n",
        "mnist_path.mkdir(parents=True, exist_ok=True)\n",
        "idx = 0\n",
        "with open(mnist_path / \"import.csv\", \"w\") as import_csv:\n",
        "    for split, X, y in zip((\"training\", \"validation\", \"test\"),\n",
        "                           (X_train, X_valid, X_test),\n",
        "                           (y_train, y_valid, y_test)):\n",
        "        for image, label in zip(X, y):\n",
        "            print(f\"\\r{idx + 1}/70000\", end=\"\")\n",
        "            filename = f\"{idx:05d}.png\"\n",
        "            plt.imsave(mnist_path / filename, np.tile(image, 3))\n",
        "            line = f\"{split},gs://{bucket_name}/mnist/{filename},{label}\\n\"\n",
        "            import_csv.write(line)\n",
        "            idx += 1"
      ]
    },
    {
      "cell_type": "markdown",
      "metadata": {
        "id": "YgHyWwbJPTNq"
      },
      "source": [
        "Let's upload this dataset to GCS:"
      ]
    },
    {
      "cell_type": "code",
      "execution_count": null,
      "metadata": {
        "id": "t3rqHbGnPTNr",
        "outputId": "3c4324d3-8de3-4612-f8f9-33de85a92a69"
      },
      "outputs": [
        {
          "name": "stdout",
          "output_type": "stream",
          "text": [
            "Uploaded datasets/mnist                                              \n"
          ]
        }
      ],
      "source": [
        "upload_directory(bucket, mnist_path)"
      ]
    },
    {
      "cell_type": "markdown",
      "metadata": {
        "id": "xee8BoAzPTNr"
      },
      "source": [
        "Now let's create a managed image dataset on Vertex AI:"
      ]
    },
    {
      "cell_type": "code",
      "execution_count": null,
      "metadata": {
        "id": "GvksjyqzPTNs",
        "outputId": "1823547a-1818-4c53-ac6d-facc0e351bf8"
      },
      "outputs": [
        {
          "name": "stdout",
          "output_type": "stream",
          "text": [
            "Creating ImageDataset\n",
            "Create ImageDataset backing LRO: projects/522977795627/locations/us-central1/datasets/7532459492777132032/operations/3812233931370004480\n",
            "ImageDataset created. Resource name: projects/522977795627/locations/us-central1/datasets/7532459492777132032\n",
            "To use this ImageDataset in another session:\n",
            "ds = aiplatform.ImageDataset('projects/522977795627/locations/us-central1/datasets/7532459492777132032')\n",
            "Importing ImageDataset data: projects/522977795627/locations/us-central1/datasets/7532459492777132032\n",
            "Import ImageDataset data backing LRO: projects/522977795627/locations/us-central1/datasets/7532459492777132032/operations/3010593197698056192\n",
            "ImageDataset data imported. Resource name: projects/522977795627/locations/us-central1/datasets/7532459492777132032\n"
          ]
        }
      ],
      "source": [
        "from aiplatform.schema.dataset.ioformat.image import single_label_classification\n",
        "\n",
        "mnist_dataset = aiplatform.ImageDataset.create(\n",
        "    display_name=\"mnist-dataset\",\n",
        "    gcs_source=[f\"gs://{bucket_name}/mnist/import.csv\"],\n",
        "    project=project_id,\n",
        "    import_schema_uri=single_label_classification,\n",
        "    sync=True,\n",
        ")"
      ]
    },
    {
      "cell_type": "markdown",
      "metadata": {
        "id": "YDcbFgDSPTNt"
      },
      "source": [
        "Create an AutoML training job on this dataset:"
      ]
    },
    {
      "cell_type": "markdown",
      "metadata": {
        "id": "uSXebmRWPTNt"
      },
      "source": [
        "**TODO**"
      ]
    },
    {
      "cell_type": "markdown",
      "metadata": {
        "tags": [],
        "id": "mGBBY364PTNu"
      },
      "source": [
        "# Exercise Solutions"
      ]
    },
    {
      "cell_type": "markdown",
      "metadata": {
        "id": "NiFVGYzYPTNu"
      },
      "source": [
        "## 1. to 8."
      ]
    },
    {
      "cell_type": "markdown",
      "metadata": {
        "id": "utXoIeehPTNu"
      },
      "source": [
        "1. A SavedModel contains a TensorFlow model, including its architecture (a computation graph) and its weights. It is stored as a directory containing a _saved_model.pb_ file, which defines the computation graph (represented as a serialized protocol buffer), and a _variables_ subdirectory containing the variable values. For models containing a large number of weights, these variable values may be split across multiple files. A SavedModel also includes an _assets_ subdirectory that may contain additional data, such as vocabulary files, class names, or some example instances for this model. To be more accurate, a SavedModel can contain one or more _metagraphs_. A metagraph is a computation graph plus some function signature definitions (including their input and output names, types, and shapes). Each metagraph is identified by a set of tags. To inspect a SavedModel, you can use the command-line tool `saved_model_cli` or just load it using `tf.saved_model.load()` and inspect it in Python.\n",
        "2. TF Serving allows you to deploy multiple TensorFlow models (or multiple versions of the same model) and make them accessible to all your applications easily via a REST API or a gRPC API. Using your models directly in your applications would make it harder to deploy a new version of a model across all applications. Implementing your own microservice to wrap a TF model would require extra work, and it would be hard to match TF Serving's features. TF Serving has many features: it can monitor a directory and autodeploy the models that are placed there, and you won't have to change or even restart any of your applications to benefit from the new model versions; it's fast, well tested, and scales very well; and it supports A/B testing of experimental models and deploying a new model version to just a subset of your users (in this case the model is called a _canary_). TF Serving is also capable of grouping individual requests into batches to run them jointly on the GPU. To deploy TF Serving, you can install it from source, but it is much simpler to install it using a Docker image. To deploy a cluster of TF Serving Docker images, you can use an orchestration tool such as Kubernetes, or use a fully hosted solution such as Google Vertex AI.\n",
        "3. To deploy a model across multiple TF Serving instances, all you need to do is configure these TF Serving instances to monitor the same _models_ directory, and then export your new model as a SavedModel into a subdirectory.\n",
        "4. The gRPC API is more efficient than the REST API. However, its client libraries are not as widely available, and if you activate compression when using the REST API, you can get almost the same performance. So, the gRPC API is most useful when you need the highest possible performance and the clients are not limited to the REST API.\n",
        "5. To reduce a model's size so it can run on a mobile or embedded device, TFLite uses several techniques:\n",
        "    * It provides a converter which can optimize a SavedModel: it shrinks the model and reduces its latency. To do this, it prunes all the operations that are not needed to make predictions (such as training operations), and it optimizes and fuses operations whenever possible.\n",
        "    * The converter can also perform post-training quantization: this technique dramatically reduces the model’s size, so it’s much faster to download and store.\n",
        "    * It saves the optimized model using the FlatBuffer format, which can be loaded to RAM directly, without parsing. This reduces the loading time and memory footprint.\n",
        "6. Quantization-aware training consists in adding fake quantization operations to the model during training. This allows the model to learn to ignore the quantization noise; the final weights will be more robust to quantization.\n",
        "7. Model parallelism means chopping your model into multiple parts and running them in parallel across multiple devices, hopefully speeding up the model during training or inference. Data parallelism means creating multiple exact replicas of your model and deploying them across multiple devices. At each iteration during training, each replica is given a different batch of data, and it computes the gradients of the loss with regard to the model parameters. In synchronous data parallelism, the gradients from all replicas are then aggregated and the optimizer performs a Gradient Descent step. The parameters may be centralized (e.g., on parameter servers) or replicated across all replicas and kept in sync using AllReduce. In asynchronous data parallelism, the parameters are centralized and the replicas run independently from each other, each updating the central parameters directly at the end of each training iteration, without having to wait for the other replicas. To speed up training, data parallelism turns out to work better than model parallelism, in general. This is mostly because it requires less communication across devices. Moreover, it is much easier to implement, and it works the same way for any model, whereas model parallelism requires analyzing the model to determine the best way to chop it into pieces. That said, research in this domain is making quick progress (e.g., PipeDream or Pathways), so a mix of model parallelism and data parallelism is probably the way forward.\n",
        "8. When training a model across multiple servers, you can use the following distribution strategies:\n",
        "    * The `MultiWorkerMirroredStrategy` performs mirrored data parallelism. The model is replicated across all available servers and devices, and each replica gets a different batch of data at each training iteration and computes its own gradients. The mean of the gradients is computed and shared across all replicas using a distributed AllReduce implementation (NCCL by default), and all replicas perform the same Gradient Descent step. This strategy is the simplest to use since all servers and devices are treated in exactly the same way, and it performs fairly well. In general, you should use this strategy. Its main limitation is that it requires the model to fit in RAM on every replica.\n",
        "    * The `ParameterServerStrategy` performs asynchronous data parallelism. The model is replicated across all devices on all workers, and the parameters are sharded across all parameter servers. Each worker has its own training loop, running asynchronously with the other workers; at each training iteration, each worker gets its own batch of data and fetches the latest version of the model parameters from the parameter servers, then it computes the gradients of the loss with regard to these parameters, and it sends them to the parameter servers. Lastly, the parameter servers perform a Gradient Descent step using these gradients. This strategy is generally slower than the previous strategy, and a bit harder to deploy, since it requires managing parameter servers. However, it can be useful in some situations, especially when you can take advantage of the asynchronous updates, for example to reduce I/O bottlenecks. This depends on many factors, including hardware, network topology, number of servers, model size, and more, so your mileage may vary."
      ]
    },
    {
      "cell_type": "markdown",
      "metadata": {
        "id": "jJOKg_G7PTNv"
      },
      "source": [
        "## 9.\n",
        "_Exercise: Train a model (any model you like) and deploy it to TF Serving or Google Vertex AI. Write the client code to query it using the REST API or the gRPC API. Update the model and deploy the new version. Your client code will now query the new version. Roll back to the first version._"
      ]
    },
    {
      "cell_type": "markdown",
      "metadata": {
        "id": "UA24PvUqPTNv"
      },
      "source": [
        "Please follow the steps in the <a href=\"#Deploying-TensorFlow-models-to-TensorFlow-Serving-(TFS)\">Deploying TensorFlow models to TensorFlow Serving</a> section above."
      ]
    },
    {
      "cell_type": "markdown",
      "metadata": {
        "id": "u1XktzrlPTNv"
      },
      "source": [
        "# 10.\n",
        "_Exercise: Train any model across multiple GPUs on the same machine using the `MirroredStrategy` (if you do not have access to GPUs, you can use Colaboratory with a GPU Runtime and create two virtual GPUs). Train the model again using the `CentralStorageStrategy `and compare the training time._"
      ]
    },
    {
      "cell_type": "markdown",
      "metadata": {
        "id": "3so5lgesPTNw"
      },
      "source": [
        "Please follow the steps in the [Distributed Training](#Distributed-Training) section above."
      ]
    },
    {
      "cell_type": "markdown",
      "metadata": {
        "id": "kfyW_Z6WPTNw"
      },
      "source": [
        "# 11.\n",
        "_Exercise: Train a small model on Google Vertex AI, using TensorFlow Cloud Tuner for hyperparameter tuning._"
      ]
    },
    {
      "cell_type": "markdown",
      "metadata": {
        "id": "6nooMgxePTNx"
      },
      "source": [
        "Please follow the instructions in the _Hyperparameter Tuning using TensorFlow Cloud Tuner_ section in the book."
      ]
    },
    {
      "cell_type": "markdown",
      "metadata": {
        "id": "sUlVvFu7PTNx"
      },
      "source": [
        "# Congratulations!"
      ]
    },
    {
      "cell_type": "markdown",
      "metadata": {
        "id": "Bvnc9IwOPTNx"
      },
      "source": [
        "You've reached the end of the book! I hope you found it useful. 😊"
      ]
    }
  ],
  "metadata": {
    "accelerator": "GPU",
    "kernelspec": {
      "display_name": "Python 3",
      "language": "python",
      "name": "python3"
    },
    "language_info": {
      "codemirror_mode": {
        "name": "ipython",
        "version": 3
      },
      "file_extension": ".py",
      "mimetype": "text/x-python",
      "name": "python",
      "nbconvert_exporter": "python",
      "pygments_lexer": "ipython3",
      "version": "3.10.6"
    },
    "colab": {
      "provenance": []
    }
  },
  "nbformat": 4,
  "nbformat_minor": 0
}