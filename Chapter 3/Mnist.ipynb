{
  "nbformat": 4,
  "nbformat_minor": 0,
  "metadata": {
    "colab": {
      "name": "Mnist ",
      "provenance": [],
      "collapsed_sections": []
    },
    "kernelspec": {
      "name": "python3",
      "display_name": "Python 3"
    },
    "accelerator": "GPU"
  },
  "cells": [
    {
      "cell_type": "markdown",
      "metadata": {
        "id": "o82t67_UvTs4"
      },
      "source": [
        "**FNN model** 98% accuracy"
      ]
    },
    {
      "cell_type": "code",
      "metadata": {
        "id": "EwwPQuKPSaUY"
      },
      "source": [
        "#import libraries\n",
        "import tensorflow as tf \n",
        "import numpy as np \n",
        "import pandas as pd \n",
        "import keras \n",
        "import matplotlib.pyplot as plt\n",
        "from keras.layers import Dropout\n",
        "from sklearn.linear_model  import SGDClassifier\n",
        "from sklearn.metrics import roc_curve\n",
        "from sklearn.multiclass import OneVsOneClassifier\n"
      ],
      "execution_count": 31,
      "outputs": []
    },
    {
      "cell_type": "code",
      "metadata": {
        "id": "lvYOY9z8yQJS",
        "colab": {
          "base_uri": "https://localhost:8080/"
        },
        "outputId": "227d606c-b007-4d1b-c22d-76c4ffa905ec"
      },
      "source": [
        "#Import the  Mnist data (images of handwritten digits and their labels)\n",
        "(training_images, training_labels), (test_images, test_labels) = tf.keras.datasets.mnist.load_data()"
      ],
      "execution_count": 2,
      "outputs": [
        {
          "output_type": "stream",
          "text": [
            "Downloading data from https://storage.googleapis.com/tensorflow/tf-keras-datasets/mnist.npz\n",
            "11493376/11490434 [==============================] - 0s 0us/step\n"
          ],
          "name": "stdout"
        }
      ]
    },
    {
      "cell_type": "code",
      "metadata": {
        "id": "lnCxIxlGycKG",
        "colab": {
          "base_uri": "https://localhost:8080/"
        },
        "outputId": "a19eeb33-6b85-4532-d7a7-1e71088541c8"
      },
      "source": [
        "\n",
        "#shape of training data \n",
        "print(training_images.shape)\n",
        "#28*28*3"
      ],
      "execution_count": 3,
      "outputs": [
        {
          "output_type": "stream",
          "text": [
            "(60000, 28, 28)\n"
          ],
          "name": "stdout"
        }
      ]
    },
    {
      "cell_type": "code",
      "metadata": {
        "id": "H74L7SH4yxbf",
        "colab": {
          "base_uri": "https://localhost:8080/",
          "height": 300
        },
        "outputId": "7de33b62-dc9b-4e94-a6ca-dd832405ca8b"
      },
      "source": [
        "print(training_labels[0])\n",
        "plt.imshow(training_images[0])"
      ],
      "execution_count": 4,
      "outputs": [
        {
          "output_type": "stream",
          "text": [
            "5\n"
          ],
          "name": "stdout"
        },
        {
          "output_type": "execute_result",
          "data": {
            "text/plain": [
              "<matplotlib.image.AxesImage at 0x7f2d0a20bf10>"
            ]
          },
          "metadata": {
            "tags": []
          },
          "execution_count": 4
        },
        {
          "output_type": "display_data",
          "data": {
            "image/png": "[encoded data removed]",
            "text/plain": [
              "<Figure size 432x288 with 1 Axes>"
            ]
          },
          "metadata": {
            "tags": [],
            "needs_background": "light"
          }
        }
      ]
    },
    {
      "cell_type": "code",
      "metadata": {
        "id": "ypHm_rd0zehu"
      },
      "source": [
        "#normailze data between 0 to 1  \n",
        "training_images =  training_images/255.\n",
        "test_images =  test_images/255."
      ],
      "execution_count": 5,
      "outputs": []
    },
    {
      "cell_type": "code",
      "metadata": {
        "id": "MTriAoaU20y5"
      },
      "source": [
        "#build Network\n",
        "inputs = keras.Input(shape=(28, 28))\n",
        "x  =inputs\n",
        "x = keras.layers.Flatten(input_shape=(28, 28))(x)\n",
        "x = keras.layers.Dense(256, activation='relu')(x)\n",
        "x = keras.layers.Dense(128, activation='relu')(x)\n",
        "x = keras.layers.Dropout(0.3)(x)\n",
        "x = keras.layers.Dense(64, activation='relu')(x)\n",
        "x = keras.layers.Dense(10, activation='softmax')(x)\n",
        "model = keras.Model(inputs=inputs, outputs=x)"
      ],
      "execution_count": 6,
      "outputs": []
    },
    {
      "cell_type": "code",
      "metadata": {
        "id": "0lpY52PY4G46"
      },
      "source": [
        "#compile model \n",
        "model.compile(optimizer = 'adam',\n",
        "              loss = 'sparse_categorical_crossentropy',\n",
        "              metrics=['accuracy'])"
      ],
      "execution_count": 7,
      "outputs": []
    },
    {
      "cell_type": "code",
      "metadata": {
        "id": "vL2NTAb-4eiY"
      },
      "source": [
        "#early stop to avoid overfitting\n",
        "callbacks= tf.keras.callbacks.EarlyStopping(\n",
        "    monitor=\"val_loss\",\n",
        "    min_delta=1,\n",
        "    patience=5,\n",
        "    verbose=1,\n",
        "    mode=\"auto\",\n",
        "    baseline=None,\n",
        "    restore_best_weights=True,\n",
        ")"
      ],
      "execution_count": 8,
      "outputs": []
    },
    {
      "cell_type": "code",
      "metadata": {
        "id": "TgqqZ0Hm4TQ7",
        "colab": {
          "base_uri": "https://localhost:8080/"
        },
        "outputId": "3a132b37-ddec-4471-9da9-4e6c0a68d007"
      },
      "source": [
        "#fit the model with 0.1 validation data  \n",
        "model.fit(training_images, training_labels, epochs=10,verbose=1,\n",
        "          validation_data=(test_images, test_labels ),callbacks=[callbacks],batch_size=32)"
      ],
      "execution_count": 9,
      "outputs": [
        {
          "output_type": "stream",
          "text": [
            "Epoch 1/10\n",
            "1875/1875 [==============================] - 19s 2ms/step - loss: 0.4554 - accuracy: 0.8612 - val_loss: 0.1179 - val_accuracy: 0.9640\n",
            "Epoch 2/10\n",
            "1875/1875 [==============================] - 4s 2ms/step - loss: 0.1188 - accuracy: 0.9650 - val_loss: 0.1148 - val_accuracy: 0.9650\n",
            "Epoch 3/10\n",
            "1875/1875 [==============================] - 4s 2ms/step - loss: 0.0784 - accuracy: 0.9764 - val_loss: 0.0806 - val_accuracy: 0.9764\n",
            "Epoch 4/10\n",
            "1875/1875 [==============================] - 4s 2ms/step - loss: 0.0607 - accuracy: 0.9816 - val_loss: 0.0801 - val_accuracy: 0.9765\n",
            "Epoch 5/10\n",
            "1875/1875 [==============================] - 4s 2ms/step - loss: 0.0490 - accuracy: 0.9849 - val_loss: 0.0799 - val_accuracy: 0.9782\n",
            "Epoch 6/10\n",
            "1875/1875 [==============================] - 4s 2ms/step - loss: 0.0446 - accuracy: 0.9854 - val_loss: 0.0756 - val_accuracy: 0.9796\n",
            "Restoring model weights from the end of the best epoch.\n",
            "Epoch 00006: early stopping\n"
          ],
          "name": "stdout"
        },
        {
          "output_type": "execute_result",
          "data": {
            "text/plain": [
              "<keras.callbacks.History at 0x7f2d000cd310>"
            ]
          },
          "metadata": {
            "tags": []
          },
          "execution_count": 9
        }
      ]
    },
    {
      "cell_type": "code",
      "metadata": {
        "id": "dQmHer_54tk0",
        "colab": {
          "base_uri": "https://localhost:8080/"
        },
        "outputId": "af06c85c-1716-4821-f0d1-f792dfb2a7b3"
      },
      "source": [
        "#evalute model \n",
        "print(model.evaluate(test_images,test_labels))"
      ],
      "execution_count": 10,
      "outputs": [
        {
          "output_type": "stream",
          "text": [
            "313/313 [==============================] - 1s 2ms/step - loss: 0.1179 - accuracy: 0.9640\n",
            "[0.11785349994897842, 0.9639999866485596]\n"
          ],
          "name": "stdout"
        }
      ]
    },
    {
      "cell_type": "code",
      "metadata": {
        "id": "q8dv0judxOt_"
      },
      "source": [
        "#predict x_test \n",
        "output =  model.predict(test_images)\n",
        "output =  np.argmax(output,axis =1 )"
      ],
      "execution_count": 11,
      "outputs": []
    },
    {
      "cell_type": "code",
      "metadata": {
        "id": "Ta9UoE-tr1tA",
        "colab": {
          "base_uri": "https://localhost:8080/"
        },
        "outputId": "9a3106e3-927d-4d5d-98a7-e775869cb14d"
      },
      "source": [
        "from sklearn.metrics import classification_report\n",
        "target_names = ['class 0', 'class 1', 'class 2', 'class 3', 'class 4', 'class 5', 'class 6', 'class 7', 'class 8', 'class 9']\n",
        "print(classification_report(test_labels, output, target_names=target_names))"
      ],
      "execution_count": 12,
      "outputs": [
        {
          "output_type": "stream",
          "text": [
            "              precision    recall  f1-score   support\n",
            "\n",
            "     class 0       0.98      0.98      0.98       980\n",
            "     class 1       0.98      0.98      0.98      1135\n",
            "     class 2       0.95      0.97      0.96      1032\n",
            "     class 3       0.96      0.97      0.97      1010\n",
            "     class 4       0.98      0.96      0.97       982\n",
            "     class 5       0.96      0.97      0.96       892\n",
            "     class 6       0.95      0.97      0.96       958\n",
            "     class 7       0.99      0.93      0.96      1028\n",
            "     class 8       0.93      0.97      0.95       974\n",
            "     class 9       0.96      0.94      0.95      1009\n",
            "\n",
            "    accuracy                           0.96     10000\n",
            "   macro avg       0.96      0.96      0.96     10000\n",
            "weighted avg       0.96      0.96      0.96     10000\n",
            "\n"
          ],
          "name": "stdout"
        }
      ]
    },
    {
      "cell_type": "markdown",
      "metadata": {
        "id": "KI_MoUYrr4rq"
      },
      "source": [
        "\n",
        "FNN Results\n",
        "\n",
        "Best test accuracy is: 97.3%\n",
        "\n",
        "The number of parameters affects the training time\n",
        "\n",
        "\n",
        "\n",
        "\n",
        "---\n",
        "\n",
        "              precision    recall  f1-score   support\n",
        "\n",
        "     class 0       0.97      0.99      0.98       980\n",
        "     class 1       0.99      0.99      0.99      1135\n",
        "     class 2       0.98      0.97      0.97      1032\n",
        "     class 3       0.98      0.98      0.98      1010\n",
        "     class 4       0.97      0.97      0.97       982\n",
        "     class 5       0.99      0.95      0.97       892\n",
        "     class 6       0.96      0.98      0.97       958\n",
        "     class 7       0.97      0.97      0.97      1028\n",
        "     class 8       0.97      0.96      0.96       974\n",
        "     class 9       0.96      0.98      0.97      1009\n",
        "\n",
        "    accuracy                               0.97     10000\n",
        "    macro avg          0.97      0.97      0.97     10000\n",
        "    weighted avg       0.97      0.97      0.97     10000\n",
        "\n",
        "\n"
      ]
    },
    {
      "cell_type": "code",
      "metadata": {
        "id": "i0tANCQ7zbc4",
        "colab": {
          "base_uri": "https://localhost:8080/",
          "height": 300
        },
        "outputId": "e0e11d49-f0cd-4320-e4c8-72f807457ead"
      },
      "source": [
        "#test 1\n",
        "print(output[300])\n",
        "\n",
        "plt.imshow(test_images[300])"
      ],
      "execution_count": 13,
      "outputs": [
        {
          "output_type": "stream",
          "text": [
            "4\n"
          ],
          "name": "stdout"
        },
        {
          "output_type": "execute_result",
          "data": {
            "text/plain": [
              "<matplotlib.image.AxesImage at 0x7f2cbe27a710>"
            ]
          },
          "metadata": {
            "tags": []
          },
          "execution_count": 13
        },
        {
          "output_type": "display_data",
          "data": {
            "image/png": "[encoded data removed]",
            "text/plain": [
              "<Figure size 432x288 with 1 Axes>"
            ]
          },
          "metadata": {
            "tags": [],
            "needs_background": "light"
          }
        }
      ]
    },
    {
      "cell_type": "code",
      "metadata": {
        "id": "rlFDlBTH0Krh",
        "colab": {
          "base_uri": "https://localhost:8080/",
          "height": 300
        },
        "outputId": "d4e384e0-6dec-4696-a1c9-e28a6205f84a"
      },
      "source": [
        "#test 2\n",
        "print(output[167])\n",
        "\n",
        "plt.imshow(test_images[167])"
      ],
      "execution_count": 14,
      "outputs": [
        {
          "output_type": "stream",
          "text": [
            "5\n"
          ],
          "name": "stdout"
        },
        {
          "output_type": "execute_result",
          "data": {
            "text/plain": [
              "<matplotlib.image.AxesImage at 0x7f2cac91ba90>"
            ]
          },
          "metadata": {
            "tags": []
          },
          "execution_count": 14
        },
        {
          "output_type": "display_data",
          "data": {
            "image/png": "[encoded data removed]",
            "text/plain": [
              "<Figure size 432x288 with 1 Axes>"
            ]
          },
          "metadata": {
            "tags": [],
            "needs_background": "light"
          }
        }
      ]
    },
    {
      "cell_type": "code",
      "metadata": {
        "id": "92e7Q-5l1Dy7",
        "colab": {
          "base_uri": "https://localhost:8080/",
          "height": 300
        },
        "outputId": "7448153b-277b-4667-c1de-d35a9c36473c"
      },
      "source": [
        "#test 3\n",
        "print(output[384])\n",
        "plt.imshow(test_images[384])"
      ],
      "execution_count": 15,
      "outputs": [
        {
          "output_type": "stream",
          "text": [
            "6\n"
          ],
          "name": "stdout"
        },
        {
          "output_type": "execute_result",
          "data": {
            "text/plain": [
              "<matplotlib.image.AxesImage at 0x7f2cacfd3b10>"
            ]
          },
          "metadata": {
            "tags": []
          },
          "execution_count": 15
        },
        {
          "output_type": "display_data",
          "data": {
            "image/png": "[encoded data removed]",
            "text/plain": [
              "<Figure size 432x288 with 1 Axes>"
            ]
          },
          "metadata": {
            "tags": [],
            "needs_background": "light"
          }
        }
      ]
    },
    {
      "cell_type": "markdown",
      "metadata": {
        "id": "LzKpLzMq1Wfr"
      },
      "source": [
        "**CNN** 99.12%accuracy"
      ]
    },
    {
      "cell_type": "code",
      "metadata": {
        "id": "jtuzD5iK1das"
      },
      "source": [
        "#importing the libraries\n",
        "import keras\n",
        "import tensorflow as tf \n",
        "import numpy as np\n",
        "import pandas as pd \n",
        "from keras.datasets import mnist\n",
        "from keras.models import Sequential\n",
        "from keras.layers import Dense, Dropout, Flatten,Convolution2D, MaxPooling2D,Activation,Conv2D,AveragePooling2D,GlobalMaxPool2D\n",
        "from keras import backend as K\n",
        "\n",
        "from keras import layers\n",
        "\n"
      ],
      "execution_count": 16,
      "outputs": []
    },
    {
      "cell_type": "code",
      "metadata": {
        "id": "jmRsRh5S1zB1"
      },
      "source": [
        "#reshape  the data \n",
        "x_train1= training_images.reshape(training_images.shape[0],28,28,1)\n",
        "x_test1= test_images.reshape(test_images.shape[0],28,28,1)\n",
        "\n",
        "#converts a class vector to binary class matrix.\n",
        "x_train1 =  x_train1/255.\n",
        "x_test1 =  x_test1/255."
      ],
      "execution_count": 17,
      "outputs": []
    },
    {
      "cell_type": "code",
      "metadata": {
        "id": "JtPEJavJ3DuG"
      },
      "source": [
        "#build moodel\n",
        "inputs = keras.Input(shape=(28, 28,1))\n",
        "x = inputs\n",
        "x = keras.layers.Conv2D(32, 5, padding='same', activation='relu', input_shape=(28, 28, 1))(x)\n",
        "x = keras.layers.Conv2D(64, kernel_size=(3, 3),activation='relu')(x)\n",
        "x=  keras.layers.MaxPooling2D(pool_size=(2, 2))(x)\n",
        "x =  keras.layers.Dropout(0.25)(x)\n",
        "x = keras.layers.Flatten(input_shape=(28, 28))(x)\n",
        "x = keras.layers.Dense(256, activation='relu')(x)\n",
        "x =  keras.layers.Dropout(0.15)(x)\n",
        "x = keras.layers.Dense(10, activation='softmax')(x)\n",
        "model = keras.Model(inputs=inputs, outputs=x)"
      ],
      "execution_count": 18,
      "outputs": []
    },
    {
      "cell_type": "code",
      "metadata": {
        "id": "Od-Kbw61s1n-"
      },
      "source": [
        "model.compile(optimizer=\"adam\",\n",
        "                loss=\"sparse_categorical_crossentropy\",\n",
        "                metrics=['accuracy'])"
      ],
      "execution_count": 19,
      "outputs": []
    },
    {
      "cell_type": "code",
      "metadata": {
        "id": "AyKPaVUN3lqL",
        "colab": {
          "base_uri": "https://localhost:8080/"
        },
        "outputId": "eefb70c3-fd18-49c5-ed5c-7d696fe70437"
      },
      "source": [
        "#fit the model \n",
        "model.fit(x_train1,training_labels,\n",
        "          batch_size=64,\n",
        "          epochs=10,callbacks= [callbacks],\n",
        "           validation_data=(x_test1, test_labels))"
      ],
      "execution_count": 20,
      "outputs": [
        {
          "output_type": "stream",
          "text": [
            "Epoch 1/10\n",
            "938/938 [==============================] - 36s 7ms/step - loss: 1.1385 - accuracy: 0.6134 - val_loss: 0.2246 - val_accuracy: 0.9310\n",
            "Epoch 2/10\n",
            "938/938 [==============================] - 6s 6ms/step - loss: 0.2610 - accuracy: 0.9206 - val_loss: 0.1550 - val_accuracy: 0.9521\n",
            "Epoch 3/10\n",
            "938/938 [==============================] - 6s 6ms/step - loss: 0.2062 - accuracy: 0.9360 - val_loss: 0.1252 - val_accuracy: 0.9619\n",
            "Epoch 4/10\n",
            "938/938 [==============================] - 6s 6ms/step - loss: 0.1623 - accuracy: 0.9492 - val_loss: 0.1118 - val_accuracy: 0.9668\n",
            "Epoch 5/10\n",
            "938/938 [==============================] - 6s 6ms/step - loss: 0.1452 - accuracy: 0.9538 - val_loss: 0.1005 - val_accuracy: 0.9693\n",
            "Epoch 6/10\n",
            "938/938 [==============================] - 6s 6ms/step - loss: 0.1341 - accuracy: 0.9575 - val_loss: 0.0917 - val_accuracy: 0.9712\n",
            "Restoring model weights from the end of the best epoch.\n",
            "Epoch 00006: early stopping\n"
          ],
          "name": "stdout"
        },
        {
          "output_type": "execute_result",
          "data": {
            "text/plain": [
              "<keras.callbacks.History at 0x7f2cac832490>"
            ]
          },
          "metadata": {
            "tags": []
          },
          "execution_count": 20
        }
      ]
    },
    {
      "cell_type": "code",
      "metadata": {
        "id": "o4FSGTrG4r7e",
        "colab": {
          "base_uri": "https://localhost:8080/"
        },
        "outputId": "06f8b1cd-c207-42c5-bfe3-6c6e88ead123"
      },
      "source": [
        "score = model.evaluate(x_test1,test_labels)\n",
        "print(score)"
      ],
      "execution_count": 21,
      "outputs": [
        {
          "output_type": "stream",
          "text": [
            "313/313 [==============================] - 1s 2ms/step - loss: 0.2246 - accuracy: 0.9310\n",
            "[0.22461843490600586, 0.9309999942779541]\n"
          ],
          "name": "stdout"
        }
      ]
    },
    {
      "cell_type": "code",
      "metadata": {
        "id": "ODty-4B695M4"
      },
      "source": [
        "#predict x_test1 \n",
        "output1 =  model.predict(x_test1)\n",
        "output1 =  np.argmax(output1,axis =1 )\n"
      ],
      "execution_count": 22,
      "outputs": []
    },
    {
      "cell_type": "code",
      "metadata": {
        "id": "RttcIpeJ_r0T",
        "colab": {
          "base_uri": "https://localhost:8080/"
        },
        "outputId": "385eca36-fc13-4c7d-fc30-25278c66d8fb"
      },
      "source": [
        "print(len(output1))"
      ],
      "execution_count": 23,
      "outputs": [
        {
          "output_type": "stream",
          "text": [
            "10000\n"
          ],
          "name": "stdout"
        }
      ]
    },
    {
      "cell_type": "code",
      "metadata": {
        "id": "BqG8u635_QUf"
      },
      "source": [
        "import pandas as pd \n",
        "su = pd.DataFrame(data=None, index=None, columns=[\"ImageId\",\"Label\"], dtype=None, copy=False)\n"
      ],
      "execution_count": 24,
      "outputs": []
    },
    {
      "cell_type": "code",
      "metadata": {
        "id": "qpTukoHntdYP",
        "colab": {
          "base_uri": "https://localhost:8080/"
        },
        "outputId": "319daa6f-d7c3-4fc9-c95e-d96ab144336f"
      },
      "source": [
        "from sklearn.metrics import classification_report\n",
        "target_names = ['class 0', 'class 1', 'class 2', 'class 3', 'class 4', 'class 5', 'class 6', 'class 7', 'class 8', 'class 9']\n",
        "print(classification_report(test_labels, output1, target_names=target_names))"
      ],
      "execution_count": 25,
      "outputs": [
        {
          "output_type": "stream",
          "text": [
            "              precision    recall  f1-score   support\n",
            "\n",
            "     class 0       0.94      0.98      0.96       980\n",
            "     class 1       0.98      0.97      0.98      1135\n",
            "     class 2       0.94      0.93      0.94      1032\n",
            "     class 3       0.93      0.90      0.91      1010\n",
            "     class 4       0.91      0.94      0.93       982\n",
            "     class 5       0.92      0.90      0.91       892\n",
            "     class 6       0.96      0.94      0.95       958\n",
            "     class 7       0.95      0.91      0.93      1028\n",
            "     class 8       0.89      0.91      0.90       974\n",
            "     class 9       0.88      0.92      0.90      1009\n",
            "\n",
            "    accuracy                           0.93     10000\n",
            "   macro avg       0.93      0.93      0.93     10000\n",
            "weighted avg       0.93      0.93      0.93     10000\n",
            "\n"
          ],
          "name": "stdout"
        }
      ]
    },
    {
      "cell_type": "markdown",
      "metadata": {
        "id": "JVCOX7Zstvtu"
      },
      "source": [
        "CNN Results\n",
        "\n",
        "Best test accuracy is: 99%\n",
        "\n",
        "The number of parameters affects the training time\n",
        "\n",
        "\n",
        "\n",
        "---\n",
        "\n",
        "        precision    recall  f1-score   support\n",
        "\n",
        "     class 0       0.99      1.00      0.99       980\n",
        "     class 1       1.00      0.99      0.99      1135\n",
        "     class 2       0.99      0.99      0.99      1032\n",
        "     class 3       0.99      1.00      0.99      1010\n",
        "     class 4       0.99      0.99      0.99       982\n",
        "     class 5       1.00      0.98      0.99       892\n",
        "     class 6       0.99      0.99      0.99       958\n",
        "     class 7       0.99      0.99      0.99      1028\n",
        "     class 8       0.99      0.99      0.99       974\n",
        "     class 9       0.99      0.99      0.99      1009\n",
        "\n",
        "    accuracy                               0.99     10000\n",
        "    macro avg          0.99      0.99      0.99     10000\n",
        "    weighted avg       0.99      0.99      0.99     10000\n",
        "\n"
      ]
    },
    {
      "cell_type": "code",
      "metadata": {
        "id": "WAozWmLMLsVG",
        "colab": {
          "base_uri": "https://localhost:8080/",
          "height": 300
        },
        "outputId": "ba924f73-30ad-4b90-c37d-e44967cbd30c"
      },
      "source": [
        "#test 1\n",
        "print(output1[62])\n",
        "\n",
        "plt.imshow(x_test1[62].reshape(28,28))"
      ],
      "execution_count": 27,
      "outputs": [
        {
          "output_type": "stream",
          "text": [
            "9\n"
          ],
          "name": "stdout"
        },
        {
          "output_type": "execute_result",
          "data": {
            "text/plain": [
              "<matplotlib.image.AxesImage at 0x7f2caccd4590>"
            ]
          },
          "metadata": {
            "tags": []
          },
          "execution_count": 27
        },
        {
          "output_type": "display_data",
          "data": {
            "image/png": "[encoded data removed]",
            "text/plain": [
              "<Figure size 432x288 with 1 Axes>"
            ]
          },
          "metadata": {
            "tags": [],
            "needs_background": "light"
          }
        }
      ]
    },
    {
      "cell_type": "code",
      "metadata": {
        "id": "1T1WJsVjMIsH",
        "colab": {
          "base_uri": "https://localhost:8080/",
          "height": 300
        },
        "outputId": "f5953fee-09a7-4a64-edb3-1c2d693cd779"
      },
      "source": [
        "#test 2\n",
        "print(output1[216])\n",
        "\n",
        "plt.imshow(x_test1[216].reshape(28,28))"
      ],
      "execution_count": 28,
      "outputs": [
        {
          "output_type": "stream",
          "text": [
            "3\n"
          ],
          "name": "stdout"
        },
        {
          "output_type": "execute_result",
          "data": {
            "text/plain": [
              "<matplotlib.image.AxesImage at 0x7f2cac70cf50>"
            ]
          },
          "metadata": {
            "tags": []
          },
          "execution_count": 28
        },
        {
          "output_type": "display_data",
          "data": {
            "image/png": "[encoded data removed]",
            "text/plain": [
              "<Figure size 432x288 with 1 Axes>"
            ]
          },
          "metadata": {
            "tags": [],
            "needs_background": "light"
          }
        }
      ]
    },
    {
      "cell_type": "code",
      "metadata": {
        "id": "vKF8gvt8MW3C",
        "colab": {
          "base_uri": "https://localhost:8080/",
          "height": 300
        },
        "outputId": "a849e371-a637-49c3-b55d-c4651aedf559"
      },
      "source": [
        "#test 3\n",
        "print(output1[3])\n",
        "\n",
        "plt.imshow(x_test1[3].reshape(28,28))"
      ],
      "execution_count": 29,
      "outputs": [
        {
          "output_type": "stream",
          "text": [
            "0\n"
          ],
          "name": "stdout"
        },
        {
          "output_type": "execute_result",
          "data": {
            "text/plain": [
              "<matplotlib.image.AxesImage at 0x7f2cac6f6c50>"
            ]
          },
          "metadata": {
            "tags": []
          },
          "execution_count": 29
        },
        {
          "output_type": "display_data",
          "data": {
            "image/png": "[encoded data removed]",
            "text/plain": [
              "<Figure size 432x288 with 1 Axes>"
            ]
          },
          "metadata": {
            "tags": [],
            "needs_background": "light"
          }
        }
      ]
    },
    {
      "cell_type": "markdown",
      "metadata": {
        "id": "Q0h6i7ugNJf6"
      },
      "source": [
        "**KNN** accuracy 97%"
      ]
    },
    {
      "cell_type": "code",
      "metadata": {
        "id": "OOnmDZ2jNNDH"
      },
      "source": [
        "#import libraries\n",
        "from sklearn.neighbors import KNeighborsClassifier\n"
      ],
      "execution_count": null,
      "outputs": []
    },
    {
      "cell_type": "code",
      "metadata": {
        "id": "Kh4QRFbfQWAT"
      },
      "source": [
        "#reshape images \n",
        "training_images2 = training_images.reshape(60000,28*28)\n",
        "test_images2 = test_images.reshape(10000,28*28)"
      ],
      "execution_count": null,
      "outputs": []
    },
    {
      "cell_type": "code",
      "metadata": {
        "id": "OSLhdo-lVVzj"
      },
      "source": [
        "#fitting the model\n",
        "knn = KNeighborsClassifier(algorithm='brute', leaf_size=20, metric='minkowski',\n",
        "                     metric_params=None, n_jobs=None, n_neighbors=8, p=5,\n",
        "                     weights='uniform')\n",
        "knn.fit(training_images2,training_labels)"
      ],
      "execution_count": null,
      "outputs": []
    },
    {
      "cell_type": "code",
      "metadata": {
        "id": "qNj-X_HJVyh0"
      },
      "source": [
        "#predict the model\n",
        "output2=knn.predict(test_images2)"
      ],
      "execution_count": null,
      "outputs": []
    },
    {
      "cell_type": "code",
      "metadata": {
        "id": "dSsPQVu7vAjE"
      },
      "source": [
        "from sklearn.metrics import classification_report\n",
        "target_names = ['class 0', 'class 1', 'class 2', 'class 3', 'class 4', 'class 5', 'class 6', 'class 7', 'class 8', 'class 9']\n",
        "print(classification_report(test_labels, output2, target_names=target_names))"
      ],
      "execution_count": null,
      "outputs": []
    },
    {
      "cell_type": "markdown",
      "metadata": {
        "id": "Kr7PHs19vZxl"
      },
      "source": [
        "KNN Results\n",
        "\n",
        "Best test accuracy is: 92%\n",
        "\n",
        "The number of parameters affects the training time\n",
        "\n"
      ]
    },
    {
      "cell_type": "code",
      "metadata": {
        "id": "mK-KxUxMbvK8"
      },
      "source": [
        "#test 1 \n",
        "print(output2[219])\n",
        "plt.imshow(training_images2[219].reshape(28,28))"
      ],
      "execution_count": null,
      "outputs": []
    },
    {
      "cell_type": "code",
      "metadata": {
        "id": "rqFX5AxSb3i1"
      },
      "source": [
        "#test 2 \n",
        "print(output2[594])\n",
        "plt.imshow(training_images2[594].reshape(28,28))"
      ],
      "execution_count": null,
      "outputs": []
    },
    {
      "cell_type": "code",
      "metadata": {
        "id": "w_m77YdMcdn7"
      },
      "source": [
        "#test 3\n",
        "print(output2[301])\n",
        "plt.imshow(training_images2[301].reshape(28,28))"
      ],
      "execution_count": null,
      "outputs": []
    },
    {
      "cell_type": "markdown",
      "metadata": {
        "id": "XuRwjj4pv7ZG"
      },
      "source": [
        "# SGDClassifier"
      ]
    },
    {
      "cell_type": "markdown",
      "metadata": {
        "id": "vV1I2lhwwhD_"
      },
      "source": [
        "class sklearn.linear_model.SGDClassifier(loss='hinge', *, penalty='l2', alpha=0.0001, l1_ratio=0.15, fit_intercept=True, max_iter=1000, tol=0.001, shuffle=True, verbose=0, epsilon=0.1, n_jobs=None, random_state=None, learning_rate='optimal', eta0=0.0, power_t=0.5, early_stopping=False, validation_fraction=0.1, n_iter_no_change=5, class_weight=None, warm_start=False, average=False)"
      ]
    },
    {
      "cell_type": "code",
      "metadata": {
        "colab": {
          "base_uri": "https://localhost:8080/"
        },
        "id": "_SchUdCxv6bf",
        "outputId": "fefb8df5-25dd-4af2-f8e3-661e9ef17b58"
      },
      "source": [
        "from sklearn.datasets import fetch_openml\n",
        "mnist = fetch_openml('mnist_784', version=1)\n",
        "X, y = mnist[\"data\"], mnist[\"target\"]\n",
        "X_train, X_test, y_train, y_test = X[:60000], X[60000:], y[:60000], y[60000:]\n",
        "sgd_clf = OneVsOneClassifier(SGDClassifier(random_state=42))\n",
        "sgd_clf.fit(X_train, y_train)"
      ],
      "execution_count": 40,
      "outputs": [
        {
          "output_type": "execute_result",
          "data": {
            "text/plain": [
              "OneVsOneClassifier(estimator=SGDClassifier(alpha=0.0001, average=False,\n",
              "                                           class_weight=None,\n",
              "                                           early_stopping=False, epsilon=0.1,\n",
              "                                           eta0=0.0, fit_intercept=True,\n",
              "                                           l1_ratio=0.15,\n",
              "                                           learning_rate='optimal',\n",
              "                                           loss='hinge', max_iter=1000,\n",
              "                                           n_iter_no_change=5, n_jobs=None,\n",
              "                                           penalty='l2', power_t=0.5,\n",
              "                                           random_state=42, shuffle=True,\n",
              "                                           tol=0.001, validation_fraction=0.1,\n",
              "                                           verbose=0, warm_start=False),\n",
              "                   n_jobs=None)"
            ]
          },
          "metadata": {
            "tags": []
          },
          "execution_count": 40
        }
      ]
    },
    {
      "cell_type": "code",
      "metadata": {
        "colab": {
          "base_uri": "https://localhost:8080/"
        },
        "id": "I5kBQ8o1GSWH",
        "outputId": "1457161f-2751-4aaf-990d-6abb6a278569"
      },
      "source": [
        "#predict the model\n",
        "output3=sgd_clf.predict(X_test)\n",
        "from sklearn.metrics import classification_report\n",
        "target_names = ['class 0', 'class 1', 'class 2', 'class 3', 'class 4', 'class 5', 'class 6', 'class 7', 'class 8', 'class 9']\n",
        "print(classification_report(y_test, output3, target_names=target_names))"
      ],
      "execution_count": 41,
      "outputs": [
        {
          "output_type": "stream",
          "text": [
            "              precision    recall  f1-score   support\n",
            "\n",
            "     class 0       0.96      0.97      0.97       980\n",
            "     class 1       0.96      0.99      0.97      1135\n",
            "     class 2       0.93      0.90      0.92      1032\n",
            "     class 3       0.89      0.91      0.90      1010\n",
            "     class 4       0.94      0.94      0.94       982\n",
            "     class 5       0.89      0.87      0.88       892\n",
            "     class 6       0.94      0.96      0.95       958\n",
            "     class 7       0.93      0.92      0.93      1028\n",
            "     class 8       0.90      0.85      0.88       974\n",
            "     class 9       0.88      0.93      0.90      1009\n",
            "\n",
            "    accuracy                           0.92     10000\n",
            "   macro avg       0.92      0.92      0.92     10000\n",
            "weighted avg       0.92      0.92      0.92     10000\n",
            "\n"
          ],
          "name": "stdout"
        }
      ]
    },
    {
      "cell_type": "code",
      "metadata": {
        "id": "R_N8X2sVH7bQ"
      },
      "source": [
        ""
      ],
      "execution_count": null,
      "outputs": []
    }
  ]
}