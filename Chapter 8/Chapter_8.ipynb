{
  "nbformat": 4,
  "nbformat_minor": 0,
  "metadata": {
    "colab": {
      "name": "Chapter 8.ipynb",
      "provenance": []
    },
    "kernelspec": {
      "name": "python3",
      "display_name": "Python 3"
    },
    "language_info": {
      "name": "python"
    }
  },
  "cells": [
    {
      "cell_type": "markdown",
      "metadata": {
        "id": "eh-Nt94CFrIH"
      },
      "source": [
        "# Chapter 8  Solution\n",
        "\n",
        "\n",
        "\n",
        "**1- What are the main motivations for reducing a dataset’s dimensionality? What are the main drawbacks ?**\n",
        "\n",
        "to speed up the training algoirthims and try to  find good way to visuliaze data\n",
        "\n",
        "drawbacks  :  1-  data  need to be  standardization \n",
        "              2- Independent variables become less interpretable\n",
        "              3- some information loss\n",
        "               \n",
        "\n",
        "**2-What is the curse of dimensionality?**\n",
        "\n",
        "The curse of dimensionality refers to the fact that many problems that do not exist in lowdimensional space arise in high-dimensional space.\n",
        "In Machine Learning, one common manifestation is the fact that randomly sampled high-dimensional vectors are generally very sparse, increasing the risk of overfitting and making it very difficult to identify patterns in the data without having plenty of training data\n",
        "\n",
        "\n",
        "**3- Once a dataset’s dimensionality has been reduced, is it possible to reverse the operation? If so, how? If not, why?**\n",
        "\n",
        "yes we could by using the inverse of PCA which would decompose the reduced data\n",
        " \n",
        "\n",
        "**4-. Can PCA be used to reduce the dimensionality of a highly nonlinear dataset?**\n",
        "PCA can be used to significantly reduce the dimensionality of most datasets, even if they are highly nonlinear, because it can at least get rid of useless dimensions.\n",
        "However, if there are no useless dimensions — for example, the Swiss roll — then reducing dimensionality with PCA will lose too much information. You want to unroll the Swiss roll, not squash it.  so we could use kernelpca or LIE\n",
        " \n",
        "\n",
        " **5- Suppose you perform PCA on a 1,000-dimensional dataset, setting the explained variance ratio to 95%. How many dimensions will the resulting dataset have?**\n",
        "\n",
        " That's a trick question: it depends on the dataset. Let's look at two extreme examples.\n",
        "First, suppose the dataset is composed of points that are almost perfectly aligned. In this case, PCA can reduce the dataset down to just one dimension while still preserving 95% of the variance.\n",
        "Now imagine that the dataset is composed of perfectly random points, scattered all around the 1,000 dimensions.\n",
        "In this case roughly 950 dimensions are required to preserve 95% of the variance. So the answer is, it depends on the dataset, and it could be any number between 1 and 950.\n",
        "Plotting the explained variance as a function of the number of dimensions is one way to get a rough idea of the dataset's intrinsic dimensionality\n",
        "\n",
        "\n",
        "\n",
        "**6-In what cases would you use vanilla PCA, Incremental PCA, Randomized PCA,\n",
        "or Kernel PCA?**\n",
        "\n",
        "vanilla  is the default pca used to reduction  regulary \n",
        " incremental used when we work on huge dataset and try to speed up the process so the train dataset come with batches\n",
        "Randomized useful when you want to considerably reduce dimensionality and the dataset fits in memory\n",
        "\n",
        "Kernel  pca useful whenn we work on nonlinear dataset \n",
        "\n",
        "\n",
        "**7-How can you evaluate the performance of a dimensionality reduction algorithm\n",
        "on your dataset?**\n",
        "\n",
        "One way to measure this is to apply the reverse transformation and measure the reconstruction error. However, not all dimensionality reduction algorithms provide a reverse transformation.\n",
        "Alternatively, if you are using dimensionality reduction as a preprocessing step before another Machine Learning algorithm (e.g., a Random Forest classifier), then you can simply measure the performance of that second algorithm; if dimensionality reduction did not lose too much information, then the algorithm should perform just as well as when using the original dataset.\n",
        "\n",
        "\n",
        "**8-Does it make any sense to chain two different dimensionality reduction algo‐\n",
        "rithms?**\n",
        "It can absolutely make sense to chain two different dimensionality reduction algorithms. A common example is using PCA to quickly get rid of a large number of useless dimensions, then applying another much slower dimensionality reduction algorithm, such as LLE.\n",
        "This two-step approach will likely yield the same performance as using LLE only, but in a fraction of the time.\n",
        "\n",
        "\n",
        "\n",
        "\n"
      ]
    }
  ]
}